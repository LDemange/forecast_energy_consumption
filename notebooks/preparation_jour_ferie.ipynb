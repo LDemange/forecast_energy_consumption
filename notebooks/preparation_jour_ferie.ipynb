{
 "cells": [
  {
   "cell_type": "code",
   "execution_count": 1,
   "id": "57df6bc0",
   "metadata": {},
   "outputs": [],
   "source": [
    "#jours_feries_metropole\n",
    "import pandas as pd"
   ]
  },
  {
   "cell_type": "code",
   "execution_count": 2,
   "id": "e4a81363",
   "metadata": {},
   "outputs": [],
   "source": [
    "df = pd.read_csv(\"../raw_data/jours_feries_metropole.csv\")#, index_col=[0]"
   ]
  },
  {
   "cell_type": "code",
   "execution_count": 3,
   "id": "4fa99281",
   "metadata": {},
   "outputs": [
    {
     "data": {
      "text/html": [
       "<div>\n",
       "<style scoped>\n",
       "    .dataframe tbody tr th:only-of-type {\n",
       "        vertical-align: middle;\n",
       "    }\n",
       "\n",
       "    .dataframe tbody tr th {\n",
       "        vertical-align: top;\n",
       "    }\n",
       "\n",
       "    .dataframe thead th {\n",
       "        text-align: right;\n",
       "    }\n",
       "</style>\n",
       "<table border=\"1\" class=\"dataframe\">\n",
       "  <thead>\n",
       "    <tr style=\"text-align: right;\">\n",
       "      <th></th>\n",
       "      <th>date</th>\n",
       "      <th>annee</th>\n",
       "      <th>zone</th>\n",
       "      <th>nom_jour_ferie</th>\n",
       "    </tr>\n",
       "  </thead>\n",
       "  <tbody>\n",
       "    <tr>\n",
       "      <th>0</th>\n",
       "      <td>2002-01-01</td>\n",
       "      <td>2002</td>\n",
       "      <td>Métropole</td>\n",
       "      <td>1er janvier</td>\n",
       "    </tr>\n",
       "    <tr>\n",
       "      <th>1</th>\n",
       "      <td>2002-04-01</td>\n",
       "      <td>2002</td>\n",
       "      <td>Métropole</td>\n",
       "      <td>Lundi de Pâques</td>\n",
       "    </tr>\n",
       "    <tr>\n",
       "      <th>2</th>\n",
       "      <td>2002-05-01</td>\n",
       "      <td>2002</td>\n",
       "      <td>Métropole</td>\n",
       "      <td>1er mai</td>\n",
       "    </tr>\n",
       "    <tr>\n",
       "      <th>3</th>\n",
       "      <td>2002-05-08</td>\n",
       "      <td>2002</td>\n",
       "      <td>Métropole</td>\n",
       "      <td>8 mai</td>\n",
       "    </tr>\n",
       "    <tr>\n",
       "      <th>4</th>\n",
       "      <td>2002-05-09</td>\n",
       "      <td>2002</td>\n",
       "      <td>Métropole</td>\n",
       "      <td>Ascension</td>\n",
       "    </tr>\n",
       "    <tr>\n",
       "      <th>...</th>\n",
       "      <td>...</td>\n",
       "      <td>...</td>\n",
       "      <td>...</td>\n",
       "      <td>...</td>\n",
       "    </tr>\n",
       "    <tr>\n",
       "      <th>281</th>\n",
       "      <td>2027-07-14</td>\n",
       "      <td>2027</td>\n",
       "      <td>Métropole</td>\n",
       "      <td>14 juillet</td>\n",
       "    </tr>\n",
       "    <tr>\n",
       "      <th>282</th>\n",
       "      <td>2027-08-15</td>\n",
       "      <td>2027</td>\n",
       "      <td>Métropole</td>\n",
       "      <td>Assomption</td>\n",
       "    </tr>\n",
       "    <tr>\n",
       "      <th>283</th>\n",
       "      <td>2027-11-01</td>\n",
       "      <td>2027</td>\n",
       "      <td>Métropole</td>\n",
       "      <td>Toussaint</td>\n",
       "    </tr>\n",
       "    <tr>\n",
       "      <th>284</th>\n",
       "      <td>2027-11-11</td>\n",
       "      <td>2027</td>\n",
       "      <td>Métropole</td>\n",
       "      <td>11 novembre</td>\n",
       "    </tr>\n",
       "    <tr>\n",
       "      <th>285</th>\n",
       "      <td>2027-12-25</td>\n",
       "      <td>2027</td>\n",
       "      <td>Métropole</td>\n",
       "      <td>Jour de Noël</td>\n",
       "    </tr>\n",
       "  </tbody>\n",
       "</table>\n",
       "<p>286 rows × 4 columns</p>\n",
       "</div>"
      ],
      "text/plain": [
       "           date  annee       zone   nom_jour_ferie\n",
       "0    2002-01-01   2002  Métropole      1er janvier\n",
       "1    2002-04-01   2002  Métropole  Lundi de Pâques\n",
       "2    2002-05-01   2002  Métropole          1er mai\n",
       "3    2002-05-08   2002  Métropole            8 mai\n",
       "4    2002-05-09   2002  Métropole        Ascension\n",
       "..          ...    ...        ...              ...\n",
       "281  2027-07-14   2027  Métropole       14 juillet\n",
       "282  2027-08-15   2027  Métropole       Assomption\n",
       "283  2027-11-01   2027  Métropole        Toussaint\n",
       "284  2027-11-11   2027  Métropole      11 novembre\n",
       "285  2027-12-25   2027  Métropole     Jour de Noël\n",
       "\n",
       "[286 rows x 4 columns]"
      ]
     },
     "execution_count": 3,
     "metadata": {},
     "output_type": "execute_result"
    }
   ],
   "source": [
    "df\n"
   ]
  },
  {
   "cell_type": "code",
   "execution_count": 4,
   "id": "b28198b2",
   "metadata": {},
   "outputs": [],
   "source": [
    "df = df.rename(columns={'date': 'Date', 'annee': 'YEAR'})"
   ]
  },
  {
   "cell_type": "code",
   "execution_count": 5,
   "id": "a9b15ca0",
   "metadata": {},
   "outputs": [
    {
     "data": {
      "text/html": [
       "<div>\n",
       "<style scoped>\n",
       "    .dataframe tbody tr th:only-of-type {\n",
       "        vertical-align: middle;\n",
       "    }\n",
       "\n",
       "    .dataframe tbody tr th {\n",
       "        vertical-align: top;\n",
       "    }\n",
       "\n",
       "    .dataframe thead th {\n",
       "        text-align: right;\n",
       "    }\n",
       "</style>\n",
       "<table border=\"1\" class=\"dataframe\">\n",
       "  <thead>\n",
       "    <tr style=\"text-align: right;\">\n",
       "      <th></th>\n",
       "      <th>Date</th>\n",
       "      <th>YEAR</th>\n",
       "    </tr>\n",
       "  </thead>\n",
       "  <tbody>\n",
       "    <tr>\n",
       "      <th>0</th>\n",
       "      <td>2002-01-01</td>\n",
       "      <td>2002</td>\n",
       "    </tr>\n",
       "    <tr>\n",
       "      <th>1</th>\n",
       "      <td>2002-04-01</td>\n",
       "      <td>2002</td>\n",
       "    </tr>\n",
       "    <tr>\n",
       "      <th>2</th>\n",
       "      <td>2002-05-01</td>\n",
       "      <td>2002</td>\n",
       "    </tr>\n",
       "    <tr>\n",
       "      <th>3</th>\n",
       "      <td>2002-05-08</td>\n",
       "      <td>2002</td>\n",
       "    </tr>\n",
       "    <tr>\n",
       "      <th>4</th>\n",
       "      <td>2002-05-09</td>\n",
       "      <td>2002</td>\n",
       "    </tr>\n",
       "    <tr>\n",
       "      <th>...</th>\n",
       "      <td>...</td>\n",
       "      <td>...</td>\n",
       "    </tr>\n",
       "    <tr>\n",
       "      <th>281</th>\n",
       "      <td>2027-07-14</td>\n",
       "      <td>2027</td>\n",
       "    </tr>\n",
       "    <tr>\n",
       "      <th>282</th>\n",
       "      <td>2027-08-15</td>\n",
       "      <td>2027</td>\n",
       "    </tr>\n",
       "    <tr>\n",
       "      <th>283</th>\n",
       "      <td>2027-11-01</td>\n",
       "      <td>2027</td>\n",
       "    </tr>\n",
       "    <tr>\n",
       "      <th>284</th>\n",
       "      <td>2027-11-11</td>\n",
       "      <td>2027</td>\n",
       "    </tr>\n",
       "    <tr>\n",
       "      <th>285</th>\n",
       "      <td>2027-12-25</td>\n",
       "      <td>2027</td>\n",
       "    </tr>\n",
       "  </tbody>\n",
       "</table>\n",
       "<p>286 rows × 2 columns</p>\n",
       "</div>"
      ],
      "text/plain": [
       "           Date  YEAR\n",
       "0    2002-01-01  2002\n",
       "1    2002-04-01  2002\n",
       "2    2002-05-01  2002\n",
       "3    2002-05-08  2002\n",
       "4    2002-05-09  2002\n",
       "..          ...   ...\n",
       "281  2027-07-14  2027\n",
       "282  2027-08-15  2027\n",
       "283  2027-11-01  2027\n",
       "284  2027-11-11  2027\n",
       "285  2027-12-25  2027\n",
       "\n",
       "[286 rows x 2 columns]"
      ]
     },
     "execution_count": 5,
     "metadata": {},
     "output_type": "execute_result"
    }
   ],
   "source": [
    "df = df.drop([\"zone\", \"nom_jour_ferie\"], axis=1)\n",
    "df"
   ]
  },
  {
   "cell_type": "code",
   "execution_count": 6,
   "id": "87a6428d",
   "metadata": {},
   "outputs": [
    {
     "data": {
      "text/plain": [
       "Index(['Date', 'YEAR'], dtype='object')"
      ]
     },
     "execution_count": 6,
     "metadata": {},
     "output_type": "execute_result"
    }
   ],
   "source": [
    "df.columns"
   ]
  },
  {
   "cell_type": "code",
   "execution_count": 7,
   "id": "1016c6ad",
   "metadata": {},
   "outputs": [],
   "source": [
    "df = df.assign(ferie=1)"
   ]
  },
  {
   "cell_type": "code",
   "execution_count": 9,
   "id": "bc0ffc0a",
   "metadata": {},
   "outputs": [],
   "source": [
    "df['Date'] = pd.to_datetime(df['Date'], infer_datetime_format=True)"
   ]
  },
  {
   "cell_type": "code",
   "execution_count": 10,
   "id": "3bd03e43",
   "metadata": {},
   "outputs": [
    {
     "data": {
      "text/plain": [
       "Date     datetime64[ns]\n",
       "YEAR              int64\n",
       "ferie             int64\n",
       "dtype: object"
      ]
     },
     "execution_count": 10,
     "metadata": {},
     "output_type": "execute_result"
    }
   ],
   "source": [
    "df.dtypes"
   ]
  },
  {
   "cell_type": "code",
   "execution_count": 11,
   "id": "69572eb8",
   "metadata": {},
   "outputs": [],
   "source": [
    "df.to_csv('../raw_data/df_ferie.csv')"
   ]
  },
  {
   "cell_type": "code",
   "execution_count": null,
   "id": "8170241d",
   "metadata": {},
   "outputs": [],
   "source": []
  }
 ],
 "metadata": {
  "kernelspec": {
   "display_name": "Python 3 (ipykernel)",
   "language": "python",
   "name": "python3"
  },
  "language_info": {
   "codemirror_mode": {
    "name": "ipython",
    "version": 3
   },
   "file_extension": ".py",
   "mimetype": "text/x-python",
   "name": "python",
   "nbconvert_exporter": "python",
   "pygments_lexer": "ipython3",
   "version": "3.8.13"
  },
  "toc": {
   "base_numbering": 1,
   "nav_menu": {},
   "number_sections": true,
   "sideBar": true,
   "skip_h1_title": false,
   "title_cell": "Table of Contents",
   "title_sidebar": "Contents",
   "toc_cell": false,
   "toc_position": {},
   "toc_section_display": true,
   "toc_window_display": false
  },
  "varInspector": {
   "cols": {
    "lenName": 16,
    "lenType": 16,
    "lenVar": 40
   },
   "kernels_config": {
    "python": {
     "delete_cmd_postfix": "",
     "delete_cmd_prefix": "del ",
     "library": "var_list.py",
     "varRefreshCmd": "print(var_dic_list())"
    },
    "r": {
     "delete_cmd_postfix": ") ",
     "delete_cmd_prefix": "rm(",
     "library": "var_list.r",
     "varRefreshCmd": "cat(var_dic_list()) "
    }
   },
   "types_to_exclude": [
    "module",
    "function",
    "builtin_function_or_method",
    "instance",
    "_Feature"
   ],
   "window_display": false
  }
 },
 "nbformat": 4,
 "nbformat_minor": 5
}
