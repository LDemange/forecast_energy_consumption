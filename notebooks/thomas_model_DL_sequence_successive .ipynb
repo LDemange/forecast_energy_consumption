{
 "cells": [
  {
   "cell_type": "code",
   "execution_count": 51,
   "id": "2bf6d630",
   "metadata": {},
   "outputs": [],
   "source": [
    "import os\n",
    "import numpy as np\n",
    "import pandas as pd\n",
    "import tensorflow as tf\n",
    "import matplotlib.pyplot as plt\n",
    "#import sklearn.preprocessing\n",
    "#from sklearn.metrics import r2_score\n",
    "\n",
    "#from keras import layers\n",
    "#from keras.models import Sequential"
   ]
  },
  {
   "cell_type": "code",
   "execution_count": 52,
   "id": "41090900",
   "metadata": {},
   "outputs": [
    {
     "data": {
      "text/plain": [
       "Index(['Date', 'Code INSEE région', 'Consommation (MW)', 'Thermique (MW)',\n",
       "       'Nucléaire (MW)', 'Eolien (MW)', 'Solaire (MW)', 'Hydraulique (MW)',\n",
       "       'Pompage (MW)', 'Bioénergies (MW)', 'Ech. physiques (MW)',\n",
       "       'Stockage batterie', 'Déstockage batterie', 'Eolien terrestre',\n",
       "       'Eolien offshore', 'TCO Thermique (%)', 'TCH Thermique (%)',\n",
       "       'TCO Nucléaire (%)', 'TCH Nucléaire (%)', 'TCO Eolien (%)',\n",
       "       'TCH Eolien (%)', 'TCO Solaire (%)', 'TCH Solaire (%)', 'Column 30',\n",
       "       'YEAR', 'MONTH', 'DAY', 'T2M', 'T2MDEW', 'T2MWET', 'TS', 'T2M_RANGE',\n",
       "       'T2M_MAX', 'T2M_MIN', 'QV2M', 'RH2M', 'PRECTOTCORR', 'PS', 'WS10M',\n",
       "       'WS50M', 'sin_month', 'cos_month', 'week_day', 'sin_day', 'cos_day'],\n",
       "      dtype='object')"
      ]
     },
     "execution_count": 52,
     "metadata": {},
     "output_type": "execute_result"
    }
   ],
   "source": [
    "df = pd.read_csv(\"../raw_data/df_energy_weather.csv\", index_col=[0])\n",
    "#print(df.columns)\n",
    "df.columns\n",
    "#pd.options.display.max_columns\n",
    "pd.set_option(\"display.max_columns\", None)\n",
    "df.columns"
   ]
  },
  {
   "cell_type": "code",
   "execution_count": 53,
   "id": "b80d8339",
   "metadata": {},
   "outputs": [
    {
     "data": {
      "text/html": [
       "<div>\n",
       "<style scoped>\n",
       "    .dataframe tbody tr th:only-of-type {\n",
       "        vertical-align: middle;\n",
       "    }\n",
       "\n",
       "    .dataframe tbody tr th {\n",
       "        vertical-align: top;\n",
       "    }\n",
       "\n",
       "    .dataframe thead th {\n",
       "        text-align: right;\n",
       "    }\n",
       "</style>\n",
       "<table border=\"1\" class=\"dataframe\">\n",
       "  <thead>\n",
       "    <tr style=\"text-align: right;\">\n",
       "      <th></th>\n",
       "      <th>Date</th>\n",
       "      <th>Code INSEE région</th>\n",
       "      <th>Consommation (MW)</th>\n",
       "      <th>Thermique (MW)</th>\n",
       "      <th>Nucléaire (MW)</th>\n",
       "      <th>Eolien (MW)</th>\n",
       "      <th>Solaire (MW)</th>\n",
       "      <th>Hydraulique (MW)</th>\n",
       "      <th>Pompage (MW)</th>\n",
       "      <th>Bioénergies (MW)</th>\n",
       "      <th>Ech. physiques (MW)</th>\n",
       "      <th>Stockage batterie</th>\n",
       "      <th>Déstockage batterie</th>\n",
       "      <th>Eolien terrestre</th>\n",
       "      <th>Eolien offshore</th>\n",
       "      <th>TCO Thermique (%)</th>\n",
       "      <th>TCH Thermique (%)</th>\n",
       "      <th>TCO Nucléaire (%)</th>\n",
       "      <th>TCH Nucléaire (%)</th>\n",
       "      <th>TCO Eolien (%)</th>\n",
       "      <th>TCH Eolien (%)</th>\n",
       "      <th>TCO Solaire (%)</th>\n",
       "      <th>TCH Solaire (%)</th>\n",
       "      <th>Column 30</th>\n",
       "      <th>YEAR</th>\n",
       "      <th>MONTH</th>\n",
       "      <th>DAY</th>\n",
       "      <th>T2M</th>\n",
       "      <th>T2MDEW</th>\n",
       "      <th>T2MWET</th>\n",
       "      <th>TS</th>\n",
       "      <th>T2M_RANGE</th>\n",
       "      <th>T2M_MAX</th>\n",
       "      <th>T2M_MIN</th>\n",
       "      <th>QV2M</th>\n",
       "      <th>RH2M</th>\n",
       "      <th>PRECTOTCORR</th>\n",
       "      <th>PS</th>\n",
       "      <th>WS10M</th>\n",
       "      <th>WS50M</th>\n",
       "      <th>sin_month</th>\n",
       "      <th>cos_month</th>\n",
       "      <th>week_day</th>\n",
       "      <th>sin_day</th>\n",
       "      <th>cos_day</th>\n",
       "    </tr>\n",
       "  </thead>\n",
       "  <tbody>\n",
       "    <tr>\n",
       "      <th>0</th>\n",
       "      <td>2013-01-01</td>\n",
       "      <td>4464</td>\n",
       "      <td>252371.0</td>\n",
       "      <td>15175.0</td>\n",
       "      <td>0.0</td>\n",
       "      <td>372.0</td>\n",
       "      <td>405.0</td>\n",
       "      <td>61254.0</td>\n",
       "      <td>-4.0</td>\n",
       "      <td>1808.0</td>\n",
       "      <td>173268.0</td>\n",
       "      <td>0.0</td>\n",
       "      <td>0.0</td>\n",
       "      <td>0.0</td>\n",
       "      <td>0.0</td>\n",
       "      <td>0.00</td>\n",
       "      <td>0.00</td>\n",
       "      <td>0.0</td>\n",
       "      <td>0.0</td>\n",
       "      <td>0.00</td>\n",
       "      <td>0.00</td>\n",
       "      <td>0.00</td>\n",
       "      <td>0.00</td>\n",
       "      <td>0.0</td>\n",
       "      <td>2013</td>\n",
       "      <td>1</td>\n",
       "      <td>1</td>\n",
       "      <td>7.30</td>\n",
       "      <td>6.40</td>\n",
       "      <td>6.85</td>\n",
       "      <td>7.08</td>\n",
       "      <td>5.75</td>\n",
       "      <td>9.60</td>\n",
       "      <td>3.86</td>\n",
       "      <td>6.16</td>\n",
       "      <td>94.12</td>\n",
       "      <td>5.62</td>\n",
       "      <td>97.76</td>\n",
       "      <td>3.23</td>\n",
       "      <td>5.29</td>\n",
       "      <td>0.5</td>\n",
       "      <td>0.866025</td>\n",
       "      <td>1</td>\n",
       "      <td>0.781831</td>\n",
       "      <td>0.623490</td>\n",
       "    </tr>\n",
       "    <tr>\n",
       "      <th>1</th>\n",
       "      <td>2013-01-02</td>\n",
       "      <td>4464</td>\n",
       "      <td>280064.0</td>\n",
       "      <td>18369.0</td>\n",
       "      <td>0.0</td>\n",
       "      <td>1404.0</td>\n",
       "      <td>2655.0</td>\n",
       "      <td>70681.0</td>\n",
       "      <td>-12.0</td>\n",
       "      <td>1717.0</td>\n",
       "      <td>185143.0</td>\n",
       "      <td>0.0</td>\n",
       "      <td>0.0</td>\n",
       "      <td>0.0</td>\n",
       "      <td>0.0</td>\n",
       "      <td>0.00</td>\n",
       "      <td>0.00</td>\n",
       "      <td>0.0</td>\n",
       "      <td>0.0</td>\n",
       "      <td>0.00</td>\n",
       "      <td>0.00</td>\n",
       "      <td>0.00</td>\n",
       "      <td>0.00</td>\n",
       "      <td>0.0</td>\n",
       "      <td>2013</td>\n",
       "      <td>1</td>\n",
       "      <td>2</td>\n",
       "      <td>4.36</td>\n",
       "      <td>1.79</td>\n",
       "      <td>3.08</td>\n",
       "      <td>4.10</td>\n",
       "      <td>8.23</td>\n",
       "      <td>10.05</td>\n",
       "      <td>1.83</td>\n",
       "      <td>4.46</td>\n",
       "      <td>84.50</td>\n",
       "      <td>0.08</td>\n",
       "      <td>98.04</td>\n",
       "      <td>4.65</td>\n",
       "      <td>6.87</td>\n",
       "      <td>0.5</td>\n",
       "      <td>0.866025</td>\n",
       "      <td>2</td>\n",
       "      <td>0.974928</td>\n",
       "      <td>-0.222521</td>\n",
       "    </tr>\n",
       "    <tr>\n",
       "      <th>2</th>\n",
       "      <td>2013-01-03</td>\n",
       "      <td>4464</td>\n",
       "      <td>285526.0</td>\n",
       "      <td>24755.0</td>\n",
       "      <td>0.0</td>\n",
       "      <td>626.0</td>\n",
       "      <td>2984.0</td>\n",
       "      <td>72282.0</td>\n",
       "      <td>0.0</td>\n",
       "      <td>2357.0</td>\n",
       "      <td>182412.0</td>\n",
       "      <td>0.0</td>\n",
       "      <td>0.0</td>\n",
       "      <td>0.0</td>\n",
       "      <td>0.0</td>\n",
       "      <td>0.00</td>\n",
       "      <td>0.00</td>\n",
       "      <td>0.0</td>\n",
       "      <td>0.0</td>\n",
       "      <td>0.00</td>\n",
       "      <td>0.00</td>\n",
       "      <td>0.00</td>\n",
       "      <td>0.00</td>\n",
       "      <td>0.0</td>\n",
       "      <td>2013</td>\n",
       "      <td>1</td>\n",
       "      <td>3</td>\n",
       "      <td>5.46</td>\n",
       "      <td>0.91</td>\n",
       "      <td>3.19</td>\n",
       "      <td>3.78</td>\n",
       "      <td>10.59</td>\n",
       "      <td>11.96</td>\n",
       "      <td>1.37</td>\n",
       "      <td>4.15</td>\n",
       "      <td>73.75</td>\n",
       "      <td>0.00</td>\n",
       "      <td>99.42</td>\n",
       "      <td>2.33</td>\n",
       "      <td>3.35</td>\n",
       "      <td>0.5</td>\n",
       "      <td>0.866025</td>\n",
       "      <td>3</td>\n",
       "      <td>0.433884</td>\n",
       "      <td>-0.900969</td>\n",
       "    </tr>\n",
       "    <tr>\n",
       "      <th>3</th>\n",
       "      <td>2013-01-04</td>\n",
       "      <td>4464</td>\n",
       "      <td>286799.0</td>\n",
       "      <td>17085.0</td>\n",
       "      <td>0.0</td>\n",
       "      <td>1028.0</td>\n",
       "      <td>2570.0</td>\n",
       "      <td>68995.0</td>\n",
       "      <td>0.0</td>\n",
       "      <td>2988.0</td>\n",
       "      <td>194018.0</td>\n",
       "      <td>0.0</td>\n",
       "      <td>0.0</td>\n",
       "      <td>0.0</td>\n",
       "      <td>0.0</td>\n",
       "      <td>0.00</td>\n",
       "      <td>0.00</td>\n",
       "      <td>0.0</td>\n",
       "      <td>0.0</td>\n",
       "      <td>0.00</td>\n",
       "      <td>0.00</td>\n",
       "      <td>0.00</td>\n",
       "      <td>0.00</td>\n",
       "      <td>0.0</td>\n",
       "      <td>2013</td>\n",
       "      <td>1</td>\n",
       "      <td>4</td>\n",
       "      <td>5.92</td>\n",
       "      <td>2.24</td>\n",
       "      <td>4.08</td>\n",
       "      <td>4.06</td>\n",
       "      <td>11.30</td>\n",
       "      <td>12.80</td>\n",
       "      <td>1.51</td>\n",
       "      <td>4.58</td>\n",
       "      <td>79.12</td>\n",
       "      <td>0.01</td>\n",
       "      <td>99.19</td>\n",
       "      <td>2.50</td>\n",
       "      <td>3.72</td>\n",
       "      <td>0.5</td>\n",
       "      <td>0.866025</td>\n",
       "      <td>4</td>\n",
       "      <td>-0.433884</td>\n",
       "      <td>-0.900969</td>\n",
       "    </tr>\n",
       "    <tr>\n",
       "      <th>4</th>\n",
       "      <td>2013-01-05</td>\n",
       "      <td>4464</td>\n",
       "      <td>267848.0</td>\n",
       "      <td>15479.0</td>\n",
       "      <td>0.0</td>\n",
       "      <td>1557.0</td>\n",
       "      <td>2898.0</td>\n",
       "      <td>62143.0</td>\n",
       "      <td>0.0</td>\n",
       "      <td>3051.0</td>\n",
       "      <td>182618.0</td>\n",
       "      <td>0.0</td>\n",
       "      <td>0.0</td>\n",
       "      <td>0.0</td>\n",
       "      <td>0.0</td>\n",
       "      <td>0.00</td>\n",
       "      <td>0.00</td>\n",
       "      <td>0.0</td>\n",
       "      <td>0.0</td>\n",
       "      <td>0.00</td>\n",
       "      <td>0.00</td>\n",
       "      <td>0.00</td>\n",
       "      <td>0.00</td>\n",
       "      <td>0.0</td>\n",
       "      <td>2013</td>\n",
       "      <td>1</td>\n",
       "      <td>5</td>\n",
       "      <td>6.64</td>\n",
       "      <td>2.37</td>\n",
       "      <td>4.50</td>\n",
       "      <td>4.85</td>\n",
       "      <td>12.38</td>\n",
       "      <td>14.41</td>\n",
       "      <td>2.04</td>\n",
       "      <td>4.76</td>\n",
       "      <td>74.88</td>\n",
       "      <td>0.00</td>\n",
       "      <td>98.51</td>\n",
       "      <td>3.25</td>\n",
       "      <td>5.05</td>\n",
       "      <td>0.5</td>\n",
       "      <td>0.866025</td>\n",
       "      <td>5</td>\n",
       "      <td>-0.974928</td>\n",
       "      <td>-0.222521</td>\n",
       "    </tr>\n",
       "    <tr>\n",
       "      <th>...</th>\n",
       "      <td>...</td>\n",
       "      <td>...</td>\n",
       "      <td>...</td>\n",
       "      <td>...</td>\n",
       "      <td>...</td>\n",
       "      <td>...</td>\n",
       "      <td>...</td>\n",
       "      <td>...</td>\n",
       "      <td>...</td>\n",
       "      <td>...</td>\n",
       "      <td>...</td>\n",
       "      <td>...</td>\n",
       "      <td>...</td>\n",
       "      <td>...</td>\n",
       "      <td>...</td>\n",
       "      <td>...</td>\n",
       "      <td>...</td>\n",
       "      <td>...</td>\n",
       "      <td>...</td>\n",
       "      <td>...</td>\n",
       "      <td>...</td>\n",
       "      <td>...</td>\n",
       "      <td>...</td>\n",
       "      <td>...</td>\n",
       "      <td>...</td>\n",
       "      <td>...</td>\n",
       "      <td>...</td>\n",
       "      <td>...</td>\n",
       "      <td>...</td>\n",
       "      <td>...</td>\n",
       "      <td>...</td>\n",
       "      <td>...</td>\n",
       "      <td>...</td>\n",
       "      <td>...</td>\n",
       "      <td>...</td>\n",
       "      <td>...</td>\n",
       "      <td>...</td>\n",
       "      <td>...</td>\n",
       "      <td>...</td>\n",
       "      <td>...</td>\n",
       "      <td>...</td>\n",
       "      <td>...</td>\n",
       "      <td>...</td>\n",
       "      <td>...</td>\n",
       "      <td>...</td>\n",
       "    </tr>\n",
       "    <tr>\n",
       "      <th>3412</th>\n",
       "      <td>2022-05-11</td>\n",
       "      <td>4464</td>\n",
       "      <td>218296.0</td>\n",
       "      <td>34225.0</td>\n",
       "      <td>0.0</td>\n",
       "      <td>1909.0</td>\n",
       "      <td>10139.0</td>\n",
       "      <td>40944.0</td>\n",
       "      <td>-306.0</td>\n",
       "      <td>3115.0</td>\n",
       "      <td>128276.0</td>\n",
       "      <td>0.0</td>\n",
       "      <td>0.0</td>\n",
       "      <td>0.0</td>\n",
       "      <td>0.0</td>\n",
       "      <td>750.65</td>\n",
       "      <td>1257.37</td>\n",
       "      <td>0.0</td>\n",
       "      <td>0.0</td>\n",
       "      <td>41.85</td>\n",
       "      <td>1968.08</td>\n",
       "      <td>215.63</td>\n",
       "      <td>613.37</td>\n",
       "      <td>0.0</td>\n",
       "      <td>2022</td>\n",
       "      <td>5</td>\n",
       "      <td>11</td>\n",
       "      <td>18.10</td>\n",
       "      <td>10.98</td>\n",
       "      <td>14.55</td>\n",
       "      <td>18.10</td>\n",
       "      <td>10.06</td>\n",
       "      <td>23.51</td>\n",
       "      <td>13.45</td>\n",
       "      <td>8.36</td>\n",
       "      <td>65.50</td>\n",
       "      <td>0.00</td>\n",
       "      <td>98.39</td>\n",
       "      <td>2.50</td>\n",
       "      <td>3.04</td>\n",
       "      <td>0.5</td>\n",
       "      <td>-0.866025</td>\n",
       "      <td>2</td>\n",
       "      <td>0.974928</td>\n",
       "      <td>-0.222521</td>\n",
       "    </tr>\n",
       "    <tr>\n",
       "      <th>3413</th>\n",
       "      <td>2022-05-12</td>\n",
       "      <td>4464</td>\n",
       "      <td>209770.0</td>\n",
       "      <td>47313.0</td>\n",
       "      <td>0.0</td>\n",
       "      <td>1695.0</td>\n",
       "      <td>15998.0</td>\n",
       "      <td>40585.0</td>\n",
       "      <td>-306.0</td>\n",
       "      <td>3177.0</td>\n",
       "      <td>101324.0</td>\n",
       "      <td>0.0</td>\n",
       "      <td>0.0</td>\n",
       "      <td>0.0</td>\n",
       "      <td>0.0</td>\n",
       "      <td>1075.23</td>\n",
       "      <td>1738.16</td>\n",
       "      <td>0.0</td>\n",
       "      <td>0.0</td>\n",
       "      <td>38.92</td>\n",
       "      <td>1747.49</td>\n",
       "      <td>359.01</td>\n",
       "      <td>967.83</td>\n",
       "      <td>0.0</td>\n",
       "      <td>2022</td>\n",
       "      <td>5</td>\n",
       "      <td>12</td>\n",
       "      <td>18.13</td>\n",
       "      <td>10.08</td>\n",
       "      <td>14.11</td>\n",
       "      <td>18.05</td>\n",
       "      <td>10.38</td>\n",
       "      <td>23.49</td>\n",
       "      <td>13.11</td>\n",
       "      <td>7.81</td>\n",
       "      <td>61.56</td>\n",
       "      <td>0.00</td>\n",
       "      <td>98.51</td>\n",
       "      <td>2.45</td>\n",
       "      <td>3.00</td>\n",
       "      <td>0.5</td>\n",
       "      <td>-0.866025</td>\n",
       "      <td>3</td>\n",
       "      <td>0.433884</td>\n",
       "      <td>-0.900969</td>\n",
       "    </tr>\n",
       "    <tr>\n",
       "      <th>3414</th>\n",
       "      <td>2022-05-13</td>\n",
       "      <td>4464</td>\n",
       "      <td>201061.0</td>\n",
       "      <td>74913.0</td>\n",
       "      <td>0.0</td>\n",
       "      <td>1215.0</td>\n",
       "      <td>18002.0</td>\n",
       "      <td>41576.0</td>\n",
       "      <td>0.0</td>\n",
       "      <td>3561.0</td>\n",
       "      <td>61809.0</td>\n",
       "      <td>0.0</td>\n",
       "      <td>0.0</td>\n",
       "      <td>0.0</td>\n",
       "      <td>0.0</td>\n",
       "      <td>1795.44</td>\n",
       "      <td>2752.11</td>\n",
       "      <td>0.0</td>\n",
       "      <td>0.0</td>\n",
       "      <td>29.28</td>\n",
       "      <td>1252.63</td>\n",
       "      <td>419.87</td>\n",
       "      <td>1089.04</td>\n",
       "      <td>0.0</td>\n",
       "      <td>2022</td>\n",
       "      <td>5</td>\n",
       "      <td>13</td>\n",
       "      <td>18.01</td>\n",
       "      <td>10.59</td>\n",
       "      <td>14.30</td>\n",
       "      <td>18.40</td>\n",
       "      <td>10.09</td>\n",
       "      <td>23.48</td>\n",
       "      <td>13.39</td>\n",
       "      <td>8.24</td>\n",
       "      <td>64.94</td>\n",
       "      <td>0.10</td>\n",
       "      <td>98.33</td>\n",
       "      <td>2.34</td>\n",
       "      <td>3.11</td>\n",
       "      <td>0.5</td>\n",
       "      <td>-0.866025</td>\n",
       "      <td>4</td>\n",
       "      <td>-0.433884</td>\n",
       "      <td>-0.900969</td>\n",
       "    </tr>\n",
       "    <tr>\n",
       "      <th>3415</th>\n",
       "      <td>2022-05-14</td>\n",
       "      <td>4464</td>\n",
       "      <td>194195.0</td>\n",
       "      <td>73265.0</td>\n",
       "      <td>0.0</td>\n",
       "      <td>266.0</td>\n",
       "      <td>19831.0</td>\n",
       "      <td>40031.0</td>\n",
       "      <td>-110.0</td>\n",
       "      <td>3245.0</td>\n",
       "      <td>57672.0</td>\n",
       "      <td>0.0</td>\n",
       "      <td>0.0</td>\n",
       "      <td>0.0</td>\n",
       "      <td>0.0</td>\n",
       "      <td>1816.54</td>\n",
       "      <td>2691.58</td>\n",
       "      <td>0.0</td>\n",
       "      <td>0.0</td>\n",
       "      <td>6.62</td>\n",
       "      <td>274.19</td>\n",
       "      <td>479.62</td>\n",
       "      <td>1199.69</td>\n",
       "      <td>0.0</td>\n",
       "      <td>2022</td>\n",
       "      <td>5</td>\n",
       "      <td>14</td>\n",
       "      <td>19.47</td>\n",
       "      <td>14.94</td>\n",
       "      <td>17.20</td>\n",
       "      <td>20.69</td>\n",
       "      <td>13.58</td>\n",
       "      <td>26.39</td>\n",
       "      <td>12.80</td>\n",
       "      <td>10.93</td>\n",
       "      <td>77.94</td>\n",
       "      <td>0.83</td>\n",
       "      <td>98.08</td>\n",
       "      <td>2.03</td>\n",
       "      <td>2.70</td>\n",
       "      <td>0.5</td>\n",
       "      <td>-0.866025</td>\n",
       "      <td>5</td>\n",
       "      <td>-0.974928</td>\n",
       "      <td>-0.222521</td>\n",
       "    </tr>\n",
       "    <tr>\n",
       "      <th>3416</th>\n",
       "      <td>2022-05-15</td>\n",
       "      <td>4464</td>\n",
       "      <td>187301.0</td>\n",
       "      <td>27118.0</td>\n",
       "      <td>0.0</td>\n",
       "      <td>524.0</td>\n",
       "      <td>19200.0</td>\n",
       "      <td>39016.0</td>\n",
       "      <td>-165.0</td>\n",
       "      <td>3168.0</td>\n",
       "      <td>98438.0</td>\n",
       "      <td>0.0</td>\n",
       "      <td>0.0</td>\n",
       "      <td>0.0</td>\n",
       "      <td>0.0</td>\n",
       "      <td>704.69</td>\n",
       "      <td>996.26</td>\n",
       "      <td>0.0</td>\n",
       "      <td>0.0</td>\n",
       "      <td>13.29</td>\n",
       "      <td>540.18</td>\n",
       "      <td>473.24</td>\n",
       "      <td>1161.50</td>\n",
       "      <td>0.0</td>\n",
       "      <td>2022</td>\n",
       "      <td>5</td>\n",
       "      <td>15</td>\n",
       "      <td>19.63</td>\n",
       "      <td>14.10</td>\n",
       "      <td>16.87</td>\n",
       "      <td>20.39</td>\n",
       "      <td>10.77</td>\n",
       "      <td>25.51</td>\n",
       "      <td>14.73</td>\n",
       "      <td>10.31</td>\n",
       "      <td>72.88</td>\n",
       "      <td>0.44</td>\n",
       "      <td>98.13</td>\n",
       "      <td>3.02</td>\n",
       "      <td>3.87</td>\n",
       "      <td>0.5</td>\n",
       "      <td>-0.866025</td>\n",
       "      <td>6</td>\n",
       "      <td>-0.781831</td>\n",
       "      <td>0.623490</td>\n",
       "    </tr>\n",
       "  </tbody>\n",
       "</table>\n",
       "<p>3417 rows × 45 columns</p>\n",
       "</div>"
      ],
      "text/plain": [
       "            Date  Code INSEE région  Consommation (MW)  Thermique (MW)  \\\n",
       "0     2013-01-01               4464           252371.0         15175.0   \n",
       "1     2013-01-02               4464           280064.0         18369.0   \n",
       "2     2013-01-03               4464           285526.0         24755.0   \n",
       "3     2013-01-04               4464           286799.0         17085.0   \n",
       "4     2013-01-05               4464           267848.0         15479.0   \n",
       "...          ...                ...                ...             ...   \n",
       "3412  2022-05-11               4464           218296.0         34225.0   \n",
       "3413  2022-05-12               4464           209770.0         47313.0   \n",
       "3414  2022-05-13               4464           201061.0         74913.0   \n",
       "3415  2022-05-14               4464           194195.0         73265.0   \n",
       "3416  2022-05-15               4464           187301.0         27118.0   \n",
       "\n",
       "      Nucléaire (MW)  Eolien (MW)  Solaire (MW)  Hydraulique (MW)  \\\n",
       "0                0.0        372.0         405.0           61254.0   \n",
       "1                0.0       1404.0        2655.0           70681.0   \n",
       "2                0.0        626.0        2984.0           72282.0   \n",
       "3                0.0       1028.0        2570.0           68995.0   \n",
       "4                0.0       1557.0        2898.0           62143.0   \n",
       "...              ...          ...           ...               ...   \n",
       "3412             0.0       1909.0       10139.0           40944.0   \n",
       "3413             0.0       1695.0       15998.0           40585.0   \n",
       "3414             0.0       1215.0       18002.0           41576.0   \n",
       "3415             0.0        266.0       19831.0           40031.0   \n",
       "3416             0.0        524.0       19200.0           39016.0   \n",
       "\n",
       "      Pompage (MW)  Bioénergies (MW)  Ech. physiques (MW)  Stockage batterie  \\\n",
       "0             -4.0            1808.0             173268.0                0.0   \n",
       "1            -12.0            1717.0             185143.0                0.0   \n",
       "2              0.0            2357.0             182412.0                0.0   \n",
       "3              0.0            2988.0             194018.0                0.0   \n",
       "4              0.0            3051.0             182618.0                0.0   \n",
       "...            ...               ...                  ...                ...   \n",
       "3412        -306.0            3115.0             128276.0                0.0   \n",
       "3413        -306.0            3177.0             101324.0                0.0   \n",
       "3414           0.0            3561.0              61809.0                0.0   \n",
       "3415        -110.0            3245.0              57672.0                0.0   \n",
       "3416        -165.0            3168.0              98438.0                0.0   \n",
       "\n",
       "      Déstockage batterie  Eolien terrestre  Eolien offshore  \\\n",
       "0                     0.0               0.0              0.0   \n",
       "1                     0.0               0.0              0.0   \n",
       "2                     0.0               0.0              0.0   \n",
       "3                     0.0               0.0              0.0   \n",
       "4                     0.0               0.0              0.0   \n",
       "...                   ...               ...              ...   \n",
       "3412                  0.0               0.0              0.0   \n",
       "3413                  0.0               0.0              0.0   \n",
       "3414                  0.0               0.0              0.0   \n",
       "3415                  0.0               0.0              0.0   \n",
       "3416                  0.0               0.0              0.0   \n",
       "\n",
       "      TCO Thermique (%)  TCH Thermique (%)  TCO Nucléaire (%)  \\\n",
       "0                  0.00               0.00                0.0   \n",
       "1                  0.00               0.00                0.0   \n",
       "2                  0.00               0.00                0.0   \n",
       "3                  0.00               0.00                0.0   \n",
       "4                  0.00               0.00                0.0   \n",
       "...                 ...                ...                ...   \n",
       "3412             750.65            1257.37                0.0   \n",
       "3413            1075.23            1738.16                0.0   \n",
       "3414            1795.44            2752.11                0.0   \n",
       "3415            1816.54            2691.58                0.0   \n",
       "3416             704.69             996.26                0.0   \n",
       "\n",
       "      TCH Nucléaire (%)  TCO Eolien (%)  TCH Eolien (%)  TCO Solaire (%)  \\\n",
       "0                   0.0            0.00            0.00             0.00   \n",
       "1                   0.0            0.00            0.00             0.00   \n",
       "2                   0.0            0.00            0.00             0.00   \n",
       "3                   0.0            0.00            0.00             0.00   \n",
       "4                   0.0            0.00            0.00             0.00   \n",
       "...                 ...             ...             ...              ...   \n",
       "3412                0.0           41.85         1968.08           215.63   \n",
       "3413                0.0           38.92         1747.49           359.01   \n",
       "3414                0.0           29.28         1252.63           419.87   \n",
       "3415                0.0            6.62          274.19           479.62   \n",
       "3416                0.0           13.29          540.18           473.24   \n",
       "\n",
       "      TCH Solaire (%)  Column 30  YEAR  MONTH  DAY    T2M  T2MDEW  T2MWET  \\\n",
       "0                0.00        0.0  2013      1    1   7.30    6.40    6.85   \n",
       "1                0.00        0.0  2013      1    2   4.36    1.79    3.08   \n",
       "2                0.00        0.0  2013      1    3   5.46    0.91    3.19   \n",
       "3                0.00        0.0  2013      1    4   5.92    2.24    4.08   \n",
       "4                0.00        0.0  2013      1    5   6.64    2.37    4.50   \n",
       "...               ...        ...   ...    ...  ...    ...     ...     ...   \n",
       "3412           613.37        0.0  2022      5   11  18.10   10.98   14.55   \n",
       "3413           967.83        0.0  2022      5   12  18.13   10.08   14.11   \n",
       "3414          1089.04        0.0  2022      5   13  18.01   10.59   14.30   \n",
       "3415          1199.69        0.0  2022      5   14  19.47   14.94   17.20   \n",
       "3416          1161.50        0.0  2022      5   15  19.63   14.10   16.87   \n",
       "\n",
       "         TS  T2M_RANGE  T2M_MAX  T2M_MIN   QV2M   RH2M  PRECTOTCORR     PS  \\\n",
       "0      7.08       5.75     9.60     3.86   6.16  94.12         5.62  97.76   \n",
       "1      4.10       8.23    10.05     1.83   4.46  84.50         0.08  98.04   \n",
       "2      3.78      10.59    11.96     1.37   4.15  73.75         0.00  99.42   \n",
       "3      4.06      11.30    12.80     1.51   4.58  79.12         0.01  99.19   \n",
       "4      4.85      12.38    14.41     2.04   4.76  74.88         0.00  98.51   \n",
       "...     ...        ...      ...      ...    ...    ...          ...    ...   \n",
       "3412  18.10      10.06    23.51    13.45   8.36  65.50         0.00  98.39   \n",
       "3413  18.05      10.38    23.49    13.11   7.81  61.56         0.00  98.51   \n",
       "3414  18.40      10.09    23.48    13.39   8.24  64.94         0.10  98.33   \n",
       "3415  20.69      13.58    26.39    12.80  10.93  77.94         0.83  98.08   \n",
       "3416  20.39      10.77    25.51    14.73  10.31  72.88         0.44  98.13   \n",
       "\n",
       "      WS10M  WS50M  sin_month  cos_month  week_day   sin_day   cos_day  \n",
       "0      3.23   5.29        0.5   0.866025         1  0.781831  0.623490  \n",
       "1      4.65   6.87        0.5   0.866025         2  0.974928 -0.222521  \n",
       "2      2.33   3.35        0.5   0.866025         3  0.433884 -0.900969  \n",
       "3      2.50   3.72        0.5   0.866025         4 -0.433884 -0.900969  \n",
       "4      3.25   5.05        0.5   0.866025         5 -0.974928 -0.222521  \n",
       "...     ...    ...        ...        ...       ...       ...       ...  \n",
       "3412   2.50   3.04        0.5  -0.866025         2  0.974928 -0.222521  \n",
       "3413   2.45   3.00        0.5  -0.866025         3  0.433884 -0.900969  \n",
       "3414   2.34   3.11        0.5  -0.866025         4 -0.433884 -0.900969  \n",
       "3415   2.03   2.70        0.5  -0.866025         5 -0.974928 -0.222521  \n",
       "3416   3.02   3.87        0.5  -0.866025         6 -0.781831  0.623490  \n",
       "\n",
       "[3417 rows x 45 columns]"
      ]
     },
     "execution_count": 53,
     "metadata": {},
     "output_type": "execute_result"
    }
   ],
   "source": [
    "df"
   ]
  },
  {
   "cell_type": "code",
   "execution_count": 3,
   "id": "3c08ccdd",
   "metadata": {},
   "outputs": [],
   "source": [
    "df = df[['Consommation (MW)', 'T2M', 'TS', 'week_day']]#.values"
   ]
  },
  {
   "cell_type": "code",
   "execution_count": 4,
   "id": "c79747a0",
   "metadata": {},
   "outputs": [],
   "source": [
    "len_ = int(0.8*df.shape[0])\n",
    "df_train = df[:len_]\n",
    "#df_train = df[:1014]\n",
    "df_test = df[len_:]\n"
   ]
  },
  {
   "cell_type": "code",
   "execution_count": 5,
   "id": "122fd78d",
   "metadata": {},
   "outputs": [],
   "source": [
    "from sklearn.preprocessing import MinMaxScaler\n",
    "columns = df.columns\n",
    "\n",
    "scaler = MinMaxScaler()\n",
    "df_train = pd.DataFrame(scaler.fit_transform(df_train), columns=columns)\n",
    "df_test = pd.DataFrame(scaler.transform(df_test), columns=columns)\n",
    "#df_train.head()"
   ]
  },
  {
   "cell_type": "code",
   "execution_count": 6,
   "id": "910f726a",
   "metadata": {},
   "outputs": [
    {
     "data": {
      "text/plain": [
       "(2733, 4)"
      ]
     },
     "execution_count": 6,
     "metadata": {},
     "output_type": "execute_result"
    }
   ],
   "source": [
    "df_train.shape"
   ]
  },
  {
   "cell_type": "code",
   "execution_count": 7,
   "id": "a2a51dc3",
   "metadata": {},
   "outputs": [
    {
     "data": {
      "text/html": [
       "<div>\n",
       "<style scoped>\n",
       "    .dataframe tbody tr th:only-of-type {\n",
       "        vertical-align: middle;\n",
       "    }\n",
       "\n",
       "    .dataframe tbody tr th {\n",
       "        vertical-align: top;\n",
       "    }\n",
       "\n",
       "    .dataframe thead th {\n",
       "        text-align: right;\n",
       "    }\n",
       "</style>\n",
       "<table border=\"1\" class=\"dataframe\">\n",
       "  <thead>\n",
       "    <tr style=\"text-align: right;\">\n",
       "      <th></th>\n",
       "      <th>Consommation (MW)</th>\n",
       "      <th>T2M</th>\n",
       "      <th>TS</th>\n",
       "      <th>week_day</th>\n",
       "    </tr>\n",
       "  </thead>\n",
       "  <tbody>\n",
       "    <tr>\n",
       "      <th>0</th>\n",
       "      <td>0.471546</td>\n",
       "      <td>0.284957</td>\n",
       "      <td>0.250290</td>\n",
       "      <td>0.166667</td>\n",
       "    </tr>\n",
       "    <tr>\n",
       "      <th>1</th>\n",
       "      <td>0.603878</td>\n",
       "      <td>0.198410</td>\n",
       "      <td>0.163863</td>\n",
       "      <td>0.333333</td>\n",
       "    </tr>\n",
       "    <tr>\n",
       "      <th>2</th>\n",
       "      <td>0.629979</td>\n",
       "      <td>0.230792</td>\n",
       "      <td>0.154582</td>\n",
       "      <td>0.500000</td>\n",
       "    </tr>\n",
       "    <tr>\n",
       "      <th>3</th>\n",
       "      <td>0.636062</td>\n",
       "      <td>0.244333</td>\n",
       "      <td>0.162703</td>\n",
       "      <td>0.666667</td>\n",
       "    </tr>\n",
       "    <tr>\n",
       "      <th>4</th>\n",
       "      <td>0.545504</td>\n",
       "      <td>0.265528</td>\n",
       "      <td>0.185615</td>\n",
       "      <td>0.833333</td>\n",
       "    </tr>\n",
       "    <tr>\n",
       "      <th>...</th>\n",
       "      <td>...</td>\n",
       "      <td>...</td>\n",
       "      <td>...</td>\n",
       "      <td>...</td>\n",
       "    </tr>\n",
       "    <tr>\n",
       "      <th>2728</th>\n",
       "      <td>0.059947</td>\n",
       "      <td>0.703562</td>\n",
       "      <td>0.684455</td>\n",
       "      <td>1.000000</td>\n",
       "    </tr>\n",
       "    <tr>\n",
       "      <th>2729</th>\n",
       "      <td>0.136026</td>\n",
       "      <td>0.783927</td>\n",
       "      <td>0.783933</td>\n",
       "      <td>0.000000</td>\n",
       "    </tr>\n",
       "    <tr>\n",
       "      <th>2730</th>\n",
       "      <td>0.165911</td>\n",
       "      <td>0.798940</td>\n",
       "      <td>0.790313</td>\n",
       "      <td>0.166667</td>\n",
       "    </tr>\n",
       "    <tr>\n",
       "      <th>2731</th>\n",
       "      <td>0.170135</td>\n",
       "      <td>0.788931</td>\n",
       "      <td>0.780742</td>\n",
       "      <td>0.333333</td>\n",
       "    </tr>\n",
       "    <tr>\n",
       "      <th>2732</th>\n",
       "      <td>0.180113</td>\n",
       "      <td>0.775979</td>\n",
       "      <td>0.772042</td>\n",
       "      <td>0.500000</td>\n",
       "    </tr>\n",
       "  </tbody>\n",
       "</table>\n",
       "<p>2733 rows × 4 columns</p>\n",
       "</div>"
      ],
      "text/plain": [
       "      Consommation (MW)       T2M        TS  week_day\n",
       "0              0.471546  0.284957  0.250290  0.166667\n",
       "1              0.603878  0.198410  0.163863  0.333333\n",
       "2              0.629979  0.230792  0.154582  0.500000\n",
       "3              0.636062  0.244333  0.162703  0.666667\n",
       "4              0.545504  0.265528  0.185615  0.833333\n",
       "...                 ...       ...       ...       ...\n",
       "2728           0.059947  0.703562  0.684455  1.000000\n",
       "2729           0.136026  0.783927  0.783933  0.000000\n",
       "2730           0.165911  0.798940  0.790313  0.166667\n",
       "2731           0.170135  0.788931  0.780742  0.333333\n",
       "2732           0.180113  0.775979  0.772042  0.500000\n",
       "\n",
       "[2733 rows x 4 columns]"
      ]
     },
     "execution_count": 7,
     "metadata": {},
     "output_type": "execute_result"
    }
   ],
   "source": [
    "df_train"
   ]
  },
  {
   "cell_type": "code",
   "execution_count": 8,
   "id": "f58ebb23",
   "metadata": {},
   "outputs": [],
   "source": [
    "X, y = [], []"
   ]
  },
  {
   "cell_type": "code",
   "execution_count": 9,
   "id": "222d2274",
   "metadata": {},
   "outputs": [
    {
     "data": {
      "text/plain": [
       "2733"
      ]
     },
     "execution_count": 9,
     "metadata": {},
     "output_type": "execute_result"
    }
   ],
   "source": [
    "df_train.shape[0]"
   ]
  },
  {
   "cell_type": "code",
   "execution_count": 10,
   "id": "407f0850",
   "metadata": {},
   "outputs": [],
   "source": [
    "steps = 1\n",
    "nb_jours_entrainement = 360\n",
    "nb_jours_prevision = 14\n",
    "df_train_shape = df_train.shape[0]\n",
    "df_test_shape = df_test.shape[0]\n",
    "#nb_sequence_test = (df_train.shape[0] - nb_jours_entrainement + nb_jours_prevision ) / steps"
   ]
  },
  {
   "cell_type": "raw",
   "id": "a5ab8b64",
   "metadata": {},
   "source": [
    "for i in range (0,nb_sequence_test):\n",
    "    print(i)\n",
    "    df_sample = df_train[]\n",
    "    X_sample = df"
   ]
  },
  {
   "cell_type": "raw",
   "id": "6396ea4e",
   "metadata": {},
   "source": [
    "for i in range (0,nb_sequence_test):\n",
    "    print(i)\n",
    "    df_sample = df_train[]\n",
    "    X_sample = df"
   ]
  },
  {
   "cell_type": "code",
   "execution_count": 11,
   "id": "67aef178",
   "metadata": {},
   "outputs": [
    {
     "data": {
      "text/plain": [
       "pandas.core.frame.DataFrame"
      ]
     },
     "execution_count": 11,
     "metadata": {},
     "output_type": "execute_result"
    }
   ],
   "source": [
    "type(df_train)"
   ]
  },
  {
   "cell_type": "code",
   "execution_count": 12,
   "id": "44be5555",
   "metadata": {},
   "outputs": [],
   "source": [
    "X_train = []\n",
    "y_train = []\n",
    "\n",
    "for i in range(nb_jours_entrainement, df_train_shape - nb_jours_prevision, steps):\n",
    "    X_train.append(df_train[i-nb_jours_entrainement:i])\n",
    "    #y_test.append(df_train[i : i + nb_jours_prevision,0:1])\n",
    "    #.iloc[:, 1:2]\n",
    "    y_train.append(df_train.iloc[i : i + nb_jours_prevision, 0:1])"
   ]
  },
  {
   "cell_type": "code",
   "execution_count": null,
   "id": "310acd2c",
   "metadata": {},
   "outputs": [],
   "source": []
  },
  {
   "cell_type": "code",
   "execution_count": 13,
   "id": "34f77167",
   "metadata": {},
   "outputs": [],
   "source": [
    "X_train, y_train = np.array(X_train), np.array(y_train)"
   ]
  },
  {
   "cell_type": "code",
   "execution_count": 14,
   "id": "7f234650",
   "metadata": {},
   "outputs": [],
   "source": [
    "#X_train = np.reshape(X_train, (X_train.shape[0], X_train.shape[1], 14))"
   ]
  },
  {
   "cell_type": "code",
   "execution_count": 15,
   "id": "99ece82f",
   "metadata": {},
   "outputs": [
    {
     "name": "stdout",
     "output_type": "stream",
     "text": [
      "(2359, 360, 4)\n",
      "(2359, 14, 1)\n"
     ]
    }
   ],
   "source": [
    "print(np.shape(X_train))\n",
    "print(np.shape(y_train))\n"
   ]
  },
  {
   "cell_type": "code",
   "execution_count": 16,
   "id": "2cc5e8da",
   "metadata": {},
   "outputs": [
    {
     "data": {
      "text/plain": [
       "(360, 4)"
      ]
     },
     "execution_count": 16,
     "metadata": {},
     "output_type": "execute_result"
    }
   ],
   "source": [
    "input_shape_value = X_train.shape[1:3]\n",
    "input_shape_value"
   ]
  },
  {
   "cell_type": "markdown",
   "id": "cb3630e4",
   "metadata": {},
   "source": [
    "# modele"
   ]
  },
  {
   "cell_type": "code",
   "execution_count": 17,
   "id": "8ec2c225",
   "metadata": {},
   "outputs": [],
   "source": [
    "from tensorflow.keras import models\n",
    "from tensorflow.keras import layers, metrics\n",
    "from tensorflow.keras.optimizers import RMSprop\n",
    "from tensorflow.keras.callbacks import EarlyStopping"
   ]
  },
  {
   "cell_type": "code",
   "execution_count": 18,
   "id": "755e02b4",
   "metadata": {},
   "outputs": [
    {
     "name": "stderr",
     "output_type": "stream",
     "text": [
      "2022-06-17 17:38:36.624965: I tensorflow/core/platform/cpu_feature_guard.cc:142] This TensorFlow binary is optimized with oneAPI Deep Neural Network Library (oneDNN) to use the following CPU instructions in performance-critical operations:  SSE4.2\n",
      "To enable them in other operations, rebuild TensorFlow with the appropriate compiler flags.\n"
     ]
    }
   ],
   "source": [
    "metric = metrics.MAPE\n",
    "\n",
    "es = EarlyStopping(monitor='val_loss', mode='min', verbose=1, patience=5, restore_best_weights=True)\n",
    "\n",
    "\n",
    "model = models.Sequential()\n",
    "#model.add(layers.Masking(mask_value=-1000., input_shape=(30,2)))\n",
    "#model.add(layers.LSTM(20, return_sequences=True, activation='tanh'))\n",
    "# Ajout d'une couche + drop\n",
    "\n",
    "\n",
    "model.add(layers.LSTM(20, return_sequences = True, input_shape=input_shape_value, activation='tanh'))\n",
    "model.add(layers.Dropout(0.2))\n",
    "\n",
    "model.add(layers.LSTM(10, return_sequences = False, activation='tanh'))\n",
    "model.add(layers.Dropout(0.2))\n",
    "model.add(layers.Dense(5, activation = 'relu'))\n",
    "model.add(layers.Dense(14, activation = 'linear'))\n",
    "\n",
    "\n",
    "model.compile(loss='mse', \n",
    "              optimizer=RMSprop(learning_rate=0.0003), \n",
    "              metrics=[metric])\n"
   ]
  },
  {
   "cell_type": "code",
   "execution_count": 19,
   "id": "57fa30f2",
   "metadata": {},
   "outputs": [],
   "source": [
    "#model.summary()"
   ]
  },
  {
   "cell_type": "code",
   "execution_count": 20,
   "id": "3f8e2155",
   "metadata": {},
   "outputs": [
    {
     "name": "stderr",
     "output_type": "stream",
     "text": [
      "2022-06-17 17:38:36.875992: I tensorflow/compiler/mlir/mlir_graph_optimization_pass.cc:176] None of the MLIR Optimization Passes are enabled (registered 2)\n"
     ]
    },
    {
     "name": "stdout",
     "output_type": "stream",
     "text": [
      "Epoch 1/1000\n",
      "59/59 [==============================] - 8s 101ms/step - loss: 0.1244 - mean_absolute_percentage_error: 78.6933 - val_loss: 0.0594 - val_mean_absolute_percentage_error: 275846.5312\n",
      "Epoch 2/1000\n",
      "59/59 [==============================] - 6s 96ms/step - loss: 0.0847 - mean_absolute_percentage_error: 62.8890 - val_loss: 0.0431 - val_mean_absolute_percentage_error: 301500.4062\n",
      "Epoch 3/1000\n",
      "59/59 [==============================] - 6s 95ms/step - loss: 0.0626 - mean_absolute_percentage_error: 52.6938 - val_loss: 0.0334 - val_mean_absolute_percentage_error: 267506.2188\n",
      "Epoch 4/1000\n",
      "59/59 [==============================] - 6s 96ms/step - loss: 0.0483 - mean_absolute_percentage_error: 46.0230 - val_loss: 0.0258 - val_mean_absolute_percentage_error: 271781.2500\n",
      "Epoch 5/1000\n",
      "59/59 [==============================] - 6s 95ms/step - loss: 0.0379 - mean_absolute_percentage_error: 41.4751 - val_loss: 0.0217 - val_mean_absolute_percentage_error: 320466.0312\n",
      "Epoch 6/1000\n",
      "59/59 [==============================] - 6s 95ms/step - loss: 0.0305 - mean_absolute_percentage_error: 38.2463 - val_loss: 0.0165 - val_mean_absolute_percentage_error: 306009.3125\n",
      "Epoch 7/1000\n",
      "59/59 [==============================] - 6s 96ms/step - loss: 0.0238 - mean_absolute_percentage_error: 35.0341 - val_loss: 0.0135 - val_mean_absolute_percentage_error: 316355.7188\n",
      "Epoch 8/1000\n",
      "59/59 [==============================] - 6s 95ms/step - loss: 0.0197 - mean_absolute_percentage_error: 32.9053 - val_loss: 0.0121 - val_mean_absolute_percentage_error: 334048.8125\n",
      "Epoch 9/1000\n",
      "59/59 [==============================] - 6s 95ms/step - loss: 0.0166 - mean_absolute_percentage_error: 31.7640 - val_loss: 0.0106 - val_mean_absolute_percentage_error: 334304.9062\n",
      "Epoch 10/1000\n",
      "59/59 [==============================] - 6s 95ms/step - loss: 0.0149 - mean_absolute_percentage_error: 30.9521 - val_loss: 0.0107 - val_mean_absolute_percentage_error: 335513.4688\n",
      "Epoch 11/1000\n",
      "59/59 [==============================] - 6s 95ms/step - loss: 0.0136 - mean_absolute_percentage_error: 30.2272 - val_loss: 0.0101 - val_mean_absolute_percentage_error: 329138.7812\n",
      "Epoch 12/1000\n",
      "59/59 [==============================] - 6s 95ms/step - loss: 0.0135 - mean_absolute_percentage_error: 30.0475 - val_loss: 0.0111 - val_mean_absolute_percentage_error: 337579.9688\n",
      "Epoch 13/1000\n",
      "59/59 [==============================] - 6s 96ms/step - loss: 0.0129 - mean_absolute_percentage_error: 29.8590 - val_loss: 0.0097 - val_mean_absolute_percentage_error: 300916.0625\n",
      "Epoch 14/1000\n",
      "59/59 [==============================] - 6s 94ms/step - loss: 0.0122 - mean_absolute_percentage_error: 28.9442 - val_loss: 0.0108 - val_mean_absolute_percentage_error: 320756.6250\n",
      "Epoch 15/1000\n",
      "59/59 [==============================] - 6s 95ms/step - loss: 0.0120 - mean_absolute_percentage_error: 28.6378 - val_loss: 0.0097 - val_mean_absolute_percentage_error: 303132.9375\n",
      "Epoch 16/1000\n",
      "59/59 [==============================] - 6s 95ms/step - loss: 0.0115 - mean_absolute_percentage_error: 28.2156 - val_loss: 0.0112 - val_mean_absolute_percentage_error: 308898.4375\n",
      "Epoch 17/1000\n",
      "59/59 [==============================] - 6s 95ms/step - loss: 0.0115 - mean_absolute_percentage_error: 27.9961 - val_loss: 0.0098 - val_mean_absolute_percentage_error: 308246.4688\n",
      "Epoch 18/1000\n",
      "59/59 [==============================] - 6s 95ms/step - loss: 0.0113 - mean_absolute_percentage_error: 27.9472 - val_loss: 0.0095 - val_mean_absolute_percentage_error: 297805.4375\n",
      "Epoch 19/1000\n",
      "59/59 [==============================] - 6s 95ms/step - loss: 0.0112 - mean_absolute_percentage_error: 27.7157 - val_loss: 0.0095 - val_mean_absolute_percentage_error: 304981.5000\n",
      "Epoch 20/1000\n",
      "59/59 [==============================] - 6s 94ms/step - loss: 0.0109 - mean_absolute_percentage_error: 27.4905 - val_loss: 0.0102 - val_mean_absolute_percentage_error: 312925.0625\n",
      "Epoch 21/1000\n",
      "59/59 [==============================] - 6s 95ms/step - loss: 0.0107 - mean_absolute_percentage_error: 27.4746 - val_loss: 0.0095 - val_mean_absolute_percentage_error: 309857.5000\n",
      "Epoch 22/1000\n",
      "59/59 [==============================] - 6s 94ms/step - loss: 0.0108 - mean_absolute_percentage_error: 27.1375 - val_loss: 0.0096 - val_mean_absolute_percentage_error: 316387.0938\n",
      "Epoch 23/1000\n",
      "59/59 [==============================] - 6s 96ms/step - loss: 0.0104 - mean_absolute_percentage_error: 27.0243 - val_loss: 0.0102 - val_mean_absolute_percentage_error: 324498.5312\n",
      "Restoring model weights from the end of the best epoch.\n",
      "Epoch 00023: early stopping\n"
     ]
    },
    {
     "data": {
      "text/plain": [
       "<tensorflow.python.keras.callbacks.History at 0x1c4900fd0>"
      ]
     },
     "execution_count": 20,
     "metadata": {},
     "output_type": "execute_result"
    }
   ],
   "source": [
    "model.fit(X_train, y_train,\n",
    "            validation_split=0.2,\n",
    "            epochs=1000, \n",
    "            batch_size=None,\n",
    "            callbacks=[es], verbose=1)"
   ]
  },
  {
   "cell_type": "code",
   "execution_count": 21,
   "id": "ba3bf5cb",
   "metadata": {},
   "outputs": [
    {
     "data": {
      "text/html": [
       "<div>\n",
       "<style scoped>\n",
       "    .dataframe tbody tr th:only-of-type {\n",
       "        vertical-align: middle;\n",
       "    }\n",
       "\n",
       "    .dataframe tbody tr th {\n",
       "        vertical-align: top;\n",
       "    }\n",
       "\n",
       "    .dataframe thead th {\n",
       "        text-align: right;\n",
       "    }\n",
       "</style>\n",
       "<table border=\"1\" class=\"dataframe\">\n",
       "  <thead>\n",
       "    <tr style=\"text-align: right;\">\n",
       "      <th></th>\n",
       "      <th>Consommation (MW)</th>\n",
       "      <th>T2M</th>\n",
       "      <th>TS</th>\n",
       "      <th>week_day</th>\n",
       "    </tr>\n",
       "  </thead>\n",
       "  <tbody>\n",
       "    <tr>\n",
       "      <th>0</th>\n",
       "      <td>0.180060</td>\n",
       "      <td>0.773918</td>\n",
       "      <td>0.775812</td>\n",
       "      <td>0.666667</td>\n",
       "    </tr>\n",
       "    <tr>\n",
       "      <th>1</th>\n",
       "      <td>0.138243</td>\n",
       "      <td>0.780983</td>\n",
       "      <td>0.791763</td>\n",
       "      <td>0.833333</td>\n",
       "    </tr>\n",
       "    <tr>\n",
       "      <th>2</th>\n",
       "      <td>0.117691</td>\n",
       "      <td>0.795702</td>\n",
       "      <td>0.808295</td>\n",
       "      <td>1.000000</td>\n",
       "    </tr>\n",
       "    <tr>\n",
       "      <th>3</th>\n",
       "      <td>0.211498</td>\n",
       "      <td>0.816014</td>\n",
       "      <td>0.816125</td>\n",
       "      <td>0.000000</td>\n",
       "    </tr>\n",
       "    <tr>\n",
       "      <th>4</th>\n",
       "      <td>0.209405</td>\n",
       "      <td>0.791875</td>\n",
       "      <td>0.802494</td>\n",
       "      <td>0.166667</td>\n",
       "    </tr>\n",
       "    <tr>\n",
       "      <th>...</th>\n",
       "      <td>...</td>\n",
       "      <td>...</td>\n",
       "      <td>...</td>\n",
       "      <td>...</td>\n",
       "    </tr>\n",
       "    <tr>\n",
       "      <th>679</th>\n",
       "      <td>0.308717</td>\n",
       "      <td>0.602885</td>\n",
       "      <td>0.569896</td>\n",
       "      <td>0.333333</td>\n",
       "    </tr>\n",
       "    <tr>\n",
       "      <th>680</th>\n",
       "      <td>0.267976</td>\n",
       "      <td>0.603768</td>\n",
       "      <td>0.568445</td>\n",
       "      <td>0.500000</td>\n",
       "    </tr>\n",
       "    <tr>\n",
       "      <th>681</th>\n",
       "      <td>0.226359</td>\n",
       "      <td>0.600236</td>\n",
       "      <td>0.578596</td>\n",
       "      <td>0.666667</td>\n",
       "    </tr>\n",
       "    <tr>\n",
       "      <th>682</th>\n",
       "      <td>0.193550</td>\n",
       "      <td>0.643215</td>\n",
       "      <td>0.645012</td>\n",
       "      <td>0.833333</td>\n",
       "    </tr>\n",
       "    <tr>\n",
       "      <th>683</th>\n",
       "      <td>0.160607</td>\n",
       "      <td>0.647925</td>\n",
       "      <td>0.636311</td>\n",
       "      <td>1.000000</td>\n",
       "    </tr>\n",
       "  </tbody>\n",
       "</table>\n",
       "<p>684 rows × 4 columns</p>\n",
       "</div>"
      ],
      "text/plain": [
       "     Consommation (MW)       T2M        TS  week_day\n",
       "0             0.180060  0.773918  0.775812  0.666667\n",
       "1             0.138243  0.780983  0.791763  0.833333\n",
       "2             0.117691  0.795702  0.808295  1.000000\n",
       "3             0.211498  0.816014  0.816125  0.000000\n",
       "4             0.209405  0.791875  0.802494  0.166667\n",
       "..                 ...       ...       ...       ...\n",
       "679           0.308717  0.602885  0.569896  0.333333\n",
       "680           0.267976  0.603768  0.568445  0.500000\n",
       "681           0.226359  0.600236  0.578596  0.666667\n",
       "682           0.193550  0.643215  0.645012  0.833333\n",
       "683           0.160607  0.647925  0.636311  1.000000\n",
       "\n",
       "[684 rows x 4 columns]"
      ]
     },
     "execution_count": 21,
     "metadata": {},
     "output_type": "execute_result"
    }
   ],
   "source": [
    "df_test"
   ]
  },
  {
   "cell_type": "code",
   "execution_count": 22,
   "id": "fc970c37",
   "metadata": {},
   "outputs": [],
   "source": [
    "X_test = []\n",
    "y_test = []\n",
    "\n",
    "for i in range(nb_jours_entrainement, df_test_shape - nb_jours_prevision, steps):\n",
    "    X_test.append(df_test[i-nb_jours_entrainement:i])\n",
    "    #y_test.append(df_train[i : i + nb_jours_prevision,0:1])\n",
    "    #.iloc[:, 1:2]\n",
    "    y_test.append(df_test.iloc[i : i + nb_jours_prevision, 0:1])"
   ]
  },
  {
   "cell_type": "code",
   "execution_count": 23,
   "id": "c161c0d1",
   "metadata": {},
   "outputs": [],
   "source": [
    "X_test, y_test = np.array(X_test), np.array(y_test)"
   ]
  },
  {
   "cell_type": "code",
   "execution_count": 24,
   "id": "2e2ab1e7",
   "metadata": {},
   "outputs": [
    {
     "name": "stdout",
     "output_type": "stream",
     "text": [
      "(310, 360, 4)\n",
      "(310, 14, 1)\n"
     ]
    }
   ],
   "source": [
    "print(np.shape(X_test))\n",
    "print(np.shape(y_test))"
   ]
  },
  {
   "cell_type": "code",
   "execution_count": 25,
   "id": "dbe4aa82",
   "metadata": {},
   "outputs": [
    {
     "data": {
      "text/plain": [
       "array([[0.18006011, 0.77391816, 0.77581206, 0.66666667],\n",
       "       [0.13824312, 0.78098322, 0.79176334, 0.83333333],\n",
       "       [0.11769063, 0.79570209, 0.80829466, 1.        ],\n",
       "       ...,\n",
       "       [0.25345847, 0.83102738, 0.83555684, 0.66666667],\n",
       "       [0.1939131 , 0.80129526, 0.79263341, 0.83333333],\n",
       "       [0.15985167, 0.7748013 , 0.75696056, 1.        ]])"
      ]
     },
     "execution_count": 25,
     "metadata": {},
     "output_type": "execute_result"
    }
   ],
   "source": [
    "test = X_test[0]\n",
    "test"
   ]
  },
  {
   "cell_type": "code",
   "execution_count": 26,
   "id": "e98869e7",
   "metadata": {},
   "outputs": [],
   "source": [
    "X_test_pred = X_test[0].reshape(1,360,4)"
   ]
  },
  {
   "cell_type": "code",
   "execution_count": 27,
   "id": "a877b170",
   "metadata": {},
   "outputs": [
    {
     "data": {
      "text/plain": [
       "(1, 360, 4)"
      ]
     },
     "execution_count": 27,
     "metadata": {},
     "output_type": "execute_result"
    }
   ],
   "source": [
    "X_test_pred.shape"
   ]
  },
  {
   "cell_type": "code",
   "execution_count": 28,
   "id": "2e5996a0",
   "metadata": {},
   "outputs": [
    {
     "data": {
      "text/plain": [
       "array([[[0.18006011, 0.77391816, 0.77581206, 0.66666667],\n",
       "        [0.13824312, 0.78098322, 0.79176334, 0.83333333],\n",
       "        [0.11769063, 0.79570209, 0.80829466, 1.        ],\n",
       "        ...,\n",
       "        [0.25345847, 0.83102738, 0.83555684, 0.66666667],\n",
       "        [0.1939131 , 0.80129526, 0.79263341, 0.83333333],\n",
       "        [0.15985167, 0.7748013 , 0.75696056, 1.        ]]])"
      ]
     },
     "execution_count": 28,
     "metadata": {},
     "output_type": "execute_result"
    }
   ],
   "source": [
    "X_test_pred"
   ]
  },
  {
   "cell_type": "code",
   "execution_count": 29,
   "id": "d9f4c7a0",
   "metadata": {},
   "outputs": [],
   "source": [
    "#y_test_pred = ''"
   ]
  },
  {
   "cell_type": "code",
   "execution_count": 30,
   "id": "2a7fb4f0",
   "metadata": {},
   "outputs": [
    {
     "data": {
      "text/plain": [
       "(14, 1)"
      ]
     },
     "execution_count": 30,
     "metadata": {},
     "output_type": "execute_result"
    }
   ],
   "source": [
    "y_test[0].shape"
   ]
  },
  {
   "cell_type": "code",
   "execution_count": 31,
   "id": "76470477",
   "metadata": {},
   "outputs": [
    {
     "data": {
      "text/plain": [
       "array([[0.17616877, 0.16736186, 0.19818181, 0.17031339, 0.17351118,\n",
       "        0.16245893, 0.17574526, 0.18077141, 0.18614513, 0.17864177,\n",
       "        0.19036722, 0.1778425 , 0.17427976, 0.18710226]], dtype=float32)"
      ]
     },
     "execution_count": 31,
     "metadata": {},
     "output_type": "execute_result"
    }
   ],
   "source": [
    "model.predict(X_test_pred)"
   ]
  },
  {
   "cell_type": "code",
   "execution_count": 32,
   "id": "66b5018b",
   "metadata": {},
   "outputs": [
    {
     "data": {
      "text/plain": [
       "array([[0.17616877, 0.16736186, 0.19818181, ..., 0.1778425 , 0.17427976,\n",
       "        0.18710226],\n",
       "       [0.1786523 , 0.17001724, 0.20104094, ..., 0.1801312 , 0.17698747,\n",
       "        0.18940973],\n",
       "       [0.18290414, 0.17452922, 0.20634568, ..., 0.18431547, 0.18154612,\n",
       "        0.19356588],\n",
       "       ...,\n",
       "       [0.17676865, 0.16869402, 0.20087065, ..., 0.17611071, 0.17739986,\n",
       "        0.18634254],\n",
       "       [0.1707995 , 0.16221307, 0.19204302, ..., 0.17043264, 0.17039287,\n",
       "        0.18052243],\n",
       "       [0.16864026, 0.15983221, 0.19045223, ..., 0.16901484, 0.16787763,\n",
       "        0.17895967]], dtype=float32)"
      ]
     },
     "execution_count": 32,
     "metadata": {},
     "output_type": "execute_result"
    }
   ],
   "source": [
    "model.predict(X_test)"
   ]
  },
  {
   "cell_type": "code",
   "execution_count": 33,
   "id": "1868b8b5",
   "metadata": {},
   "outputs": [
    {
     "name": "stdout",
     "output_type": "stream",
     "text": [
      "10/10 [==============================] - 0s 22ms/step - loss: 0.0131 - mean_absolute_percentage_error: 25.6319\n"
     ]
    },
    {
     "data": {
      "text/plain": [
       "[0.01306802686303854, 25.631925582885742]"
      ]
     },
     "execution_count": 33,
     "metadata": {},
     "output_type": "execute_result"
    }
   ],
   "source": [
    "model.evaluate(X_test, y_test, verbose=1)"
   ]
  },
  {
   "cell_type": "code",
   "execution_count": 49,
   "id": "95a9cc87",
   "metadata": {},
   "outputs": [
    {
     "data": {
      "text/plain": [
       "array([[0.17616877, 0.16736186, 0.19818181, 0.17031339, 0.17351118,\n",
       "        0.16245893, 0.17574526, 0.18077141, 0.18614513, 0.17864177,\n",
       "        0.19036722, 0.1778425 , 0.17427976, 0.18710226]], dtype=float32)"
      ]
     },
     "execution_count": 49,
     "metadata": {},
     "output_type": "execute_result"
    }
   ],
   "source": [
    "predictions = model.predict(X_test_pred)#.reshape(14,1)\n",
    "#prediction = scaler.inverse_transform(prediction)\n",
    "#predictions = scaler.inverse_transform(predictions)\n",
    "predictions"
   ]
  },
  {
   "cell_type": "code",
   "execution_count": 50,
   "id": "1f8f0006",
   "metadata": {},
   "outputs": [
    {
     "ename": "ValueError",
     "evalue": "non-broadcastable output operand with shape (14,1) doesn't match the broadcast shape (14,4)",
     "output_type": "error",
     "traceback": [
      "\u001b[0;31m---------------------------------------------------------------------------\u001b[0m",
      "\u001b[0;31mValueError\u001b[0m                                Traceback (most recent call last)",
      "Input \u001b[0;32mIn [50]\u001b[0m, in \u001b[0;36m<cell line: 2>\u001b[0;34m()\u001b[0m\n\u001b[1;32m      1\u001b[0m predictions \u001b[38;5;241m=\u001b[39m predictions\u001b[38;5;241m.\u001b[39mreshape(\u001b[38;5;241m14\u001b[39m,\u001b[38;5;241m1\u001b[39m)\n\u001b[0;32m----> 2\u001b[0m predictions \u001b[38;5;241m=\u001b[39m \u001b[43mscaler\u001b[49m\u001b[38;5;241;43m.\u001b[39;49m\u001b[43minverse_transform\u001b[49m\u001b[43m(\u001b[49m\u001b[43mpredictions\u001b[49m\u001b[43m)\u001b[49m\n",
      "File \u001b[0;32m~/.pyenv/versions/3.8.13/envs/forecast_energy_consumption/lib/python3.8/site-packages/sklearn/preprocessing/_data.py:532\u001b[0m, in \u001b[0;36mMinMaxScaler.inverse_transform\u001b[0;34m(self, X)\u001b[0m\n\u001b[1;32m    526\u001b[0m check_is_fitted(\u001b[38;5;28mself\u001b[39m)\n\u001b[1;32m    528\u001b[0m X \u001b[38;5;241m=\u001b[39m check_array(\n\u001b[1;32m    529\u001b[0m     X, copy\u001b[38;5;241m=\u001b[39m\u001b[38;5;28mself\u001b[39m\u001b[38;5;241m.\u001b[39mcopy, dtype\u001b[38;5;241m=\u001b[39mFLOAT_DTYPES, force_all_finite\u001b[38;5;241m=\u001b[39m\u001b[38;5;124m\"\u001b[39m\u001b[38;5;124mallow-nan\u001b[39m\u001b[38;5;124m\"\u001b[39m\n\u001b[1;32m    530\u001b[0m )\n\u001b[0;32m--> 532\u001b[0m X \u001b[38;5;241m-\u001b[39m\u001b[38;5;241m=\u001b[39m \u001b[38;5;28mself\u001b[39m\u001b[38;5;241m.\u001b[39mmin_\n\u001b[1;32m    533\u001b[0m X \u001b[38;5;241m/\u001b[39m\u001b[38;5;241m=\u001b[39m \u001b[38;5;28mself\u001b[39m\u001b[38;5;241m.\u001b[39mscale_\n\u001b[1;32m    534\u001b[0m \u001b[38;5;28;01mreturn\u001b[39;00m X\n",
      "\u001b[0;31mValueError\u001b[0m: non-broadcastable output operand with shape (14,1) doesn't match the broadcast shape (14,4)"
     ]
    }
   ],
   "source": [
    "predictions = predictions.reshape(14,1)\n",
    "predictions = scaler.inverse_transform(predictions)"
   ]
  },
  {
   "cell_type": "code",
   "execution_count": 46,
   "id": "89e3d746",
   "metadata": {},
   "outputs": [],
   "source": [
    "y_test_plot = y_test[1]\n",
    "#y_test_plot = scaler.inverse_transform(y_test_plot)"
   ]
  },
  {
   "cell_type": "code",
   "execution_count": 47,
   "id": "9307c846",
   "metadata": {},
   "outputs": [
    {
     "data": {
      "image/png": "[encoded data removed]",
      "text/plain": [
       "<Figure size 432x288 with 1 Axes>"
      ]
     },
     "metadata": {
      "needs_background": "light"
     },
     "output_type": "display_data"
    }
   ],
   "source": [
    "plt.figure()#figsize=(10,6)\n",
    "plt.plot(y_test_plot, color='blue', label='consommation réel')\n",
    "plt.plot(predictions , color='red', label='prédiction de consommation')\n",
    "plt.title('Prédiction de consommation')\n",
    "plt.xlabel('Date')\n",
    "plt.ylabel('Consommation')\n",
    "plt.legend()\n",
    "plt.show()"
   ]
  },
  {
   "cell_type": "code",
   "execution_count": null,
   "id": "c7b90bd1",
   "metadata": {},
   "outputs": [],
   "source": []
  }
 ],
 "metadata": {
  "kernelspec": {
   "display_name": "Python 3 (ipykernel)",
   "language": "python",
   "name": "python3"
  },
  "language_info": {
   "codemirror_mode": {
    "name": "ipython",
    "version": 3
   },
   "file_extension": ".py",
   "mimetype": "text/x-python",
   "name": "python",
   "nbconvert_exporter": "python",
   "pygments_lexer": "ipython3",
   "version": "3.8.13"
  },
  "toc": {
   "base_numbering": 1,
   "nav_menu": {},
   "number_sections": true,
   "sideBar": true,
   "skip_h1_title": false,
   "title_cell": "Table of Contents",
   "title_sidebar": "Contents",
   "toc_cell": false,
   "toc_position": {},
   "toc_section_display": true,
   "toc_window_display": false
  },
  "varInspector": {
   "cols": {
    "lenName": 16,
    "lenType": 16,
    "lenVar": 40
   },
   "kernels_config": {
    "python": {
     "delete_cmd_postfix": "",
     "delete_cmd_prefix": "del ",
     "library": "var_list.py",
     "varRefreshCmd": "print(var_dic_list())"
    },
    "r": {
     "delete_cmd_postfix": ") ",
     "delete_cmd_prefix": "rm(",
     "library": "var_list.r",
     "varRefreshCmd": "cat(var_dic_list()) "
    }
   },
   "types_to_exclude": [
    "module",
    "function",
    "builtin_function_or_method",
    "instance",
    "_Feature"
   ],
   "window_display": false
  }
 },
 "nbformat": 4,
 "nbformat_minor": 5
}
