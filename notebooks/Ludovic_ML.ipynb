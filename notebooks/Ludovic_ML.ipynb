{
 "cells": [
  {
   "cell_type": "code",
   "execution_count": 1,
   "id": "1ef13445",
   "metadata": {},
   "outputs": [],
   "source": [
    "import pandas as pd"
   ]
  },
  {
   "cell_type": "code",
   "execution_count": 2,
   "id": "9acf31a4",
   "metadata": {},
   "outputs": [],
   "source": [
    "df_energy_weather = pd.read_csv('../raw_data/df_energy_weather.csv')"
   ]
  },
  {
   "cell_type": "code",
   "execution_count": 6,
   "id": "6568ac09",
   "metadata": {},
   "outputs": [
    {
     "data": {
      "text/html": [
       "<div>\n",
       "<style scoped>\n",
       "    .dataframe tbody tr th:only-of-type {\n",
       "        vertical-align: middle;\n",
       "    }\n",
       "\n",
       "    .dataframe tbody tr th {\n",
       "        vertical-align: top;\n",
       "    }\n",
       "\n",
       "    .dataframe thead th {\n",
       "        text-align: right;\n",
       "    }\n",
       "</style>\n",
       "<table border=\"1\" class=\"dataframe\">\n",
       "  <thead>\n",
       "    <tr style=\"text-align: right;\">\n",
       "      <th></th>\n",
       "      <th>Unnamed: 0</th>\n",
       "      <th>Date</th>\n",
       "      <th>Code INSEE région</th>\n",
       "      <th>Consommation (MW)</th>\n",
       "      <th>Thermique (MW)</th>\n",
       "      <th>Nucléaire (MW)</th>\n",
       "      <th>Eolien (MW)</th>\n",
       "      <th>Solaire (MW)</th>\n",
       "      <th>Hydraulique (MW)</th>\n",
       "      <th>Pompage (MW)</th>\n",
       "      <th>Bioénergies (MW)</th>\n",
       "      <th>Ech. physiques (MW)</th>\n",
       "      <th>Stockage batterie</th>\n",
       "      <th>Déstockage batterie</th>\n",
       "      <th>Eolien terrestre</th>\n",
       "      <th>Eolien offshore</th>\n",
       "      <th>TCO Thermique (%)</th>\n",
       "      <th>TCH Thermique (%)</th>\n",
       "      <th>TCO Nucléaire (%)</th>\n",
       "      <th>TCH Nucléaire (%)</th>\n",
       "      <th>TCO Eolien (%)</th>\n",
       "      <th>TCH Eolien (%)</th>\n",
       "      <th>TCO Solaire (%)</th>\n",
       "      <th>TCH Solaire (%)</th>\n",
       "      <th>Column 30</th>\n",
       "      <th>YEAR</th>\n",
       "      <th>MONTH</th>\n",
       "      <th>DAY</th>\n",
       "      <th>T2M</th>\n",
       "      <th>T2MDEW</th>\n",
       "      <th>T2MWET</th>\n",
       "      <th>TS</th>\n",
       "      <th>T2M_RANGE</th>\n",
       "      <th>T2M_MAX</th>\n",
       "      <th>T2M_MIN</th>\n",
       "      <th>QV2M</th>\n",
       "      <th>RH2M</th>\n",
       "      <th>PRECTOTCORR</th>\n",
       "      <th>PS</th>\n",
       "      <th>WS10M</th>\n",
       "      <th>WS50M</th>\n",
       "      <th>sin_month</th>\n",
       "      <th>cos_month</th>\n",
       "      <th>week_day</th>\n",
       "      <th>sin_day</th>\n",
       "      <th>cos_day</th>\n",
       "    </tr>\n",
       "  </thead>\n",
       "  <tbody>\n",
       "    <tr>\n",
       "      <th>0</th>\n",
       "      <td>0</td>\n",
       "      <td>2013-01-01</td>\n",
       "      <td>4464</td>\n",
       "      <td>252371.0</td>\n",
       "      <td>15175.0</td>\n",
       "      <td>0.0</td>\n",
       "      <td>372.0</td>\n",
       "      <td>405.0</td>\n",
       "      <td>61254.0</td>\n",
       "      <td>-4.0</td>\n",
       "      <td>1808.0</td>\n",
       "      <td>173268.0</td>\n",
       "      <td>0.0</td>\n",
       "      <td>0.0</td>\n",
       "      <td>0.0</td>\n",
       "      <td>0.0</td>\n",
       "      <td>0.0</td>\n",
       "      <td>0.0</td>\n",
       "      <td>0.0</td>\n",
       "      <td>0.0</td>\n",
       "      <td>0.0</td>\n",
       "      <td>0.0</td>\n",
       "      <td>0.0</td>\n",
       "      <td>0.0</td>\n",
       "      <td>0.0</td>\n",
       "      <td>2013</td>\n",
       "      <td>1</td>\n",
       "      <td>1</td>\n",
       "      <td>7.30</td>\n",
       "      <td>6.40</td>\n",
       "      <td>6.85</td>\n",
       "      <td>7.08</td>\n",
       "      <td>5.75</td>\n",
       "      <td>9.60</td>\n",
       "      <td>3.86</td>\n",
       "      <td>6.16</td>\n",
       "      <td>94.12</td>\n",
       "      <td>5.62</td>\n",
       "      <td>97.76</td>\n",
       "      <td>3.23</td>\n",
       "      <td>5.29</td>\n",
       "      <td>0.5</td>\n",
       "      <td>0.866025</td>\n",
       "      <td>1</td>\n",
       "      <td>0.781831</td>\n",
       "      <td>0.623490</td>\n",
       "    </tr>\n",
       "    <tr>\n",
       "      <th>1</th>\n",
       "      <td>1</td>\n",
       "      <td>2013-01-02</td>\n",
       "      <td>4464</td>\n",
       "      <td>280064.0</td>\n",
       "      <td>18369.0</td>\n",
       "      <td>0.0</td>\n",
       "      <td>1404.0</td>\n",
       "      <td>2655.0</td>\n",
       "      <td>70681.0</td>\n",
       "      <td>-12.0</td>\n",
       "      <td>1717.0</td>\n",
       "      <td>185143.0</td>\n",
       "      <td>0.0</td>\n",
       "      <td>0.0</td>\n",
       "      <td>0.0</td>\n",
       "      <td>0.0</td>\n",
       "      <td>0.0</td>\n",
       "      <td>0.0</td>\n",
       "      <td>0.0</td>\n",
       "      <td>0.0</td>\n",
       "      <td>0.0</td>\n",
       "      <td>0.0</td>\n",
       "      <td>0.0</td>\n",
       "      <td>0.0</td>\n",
       "      <td>0.0</td>\n",
       "      <td>2013</td>\n",
       "      <td>1</td>\n",
       "      <td>2</td>\n",
       "      <td>4.36</td>\n",
       "      <td>1.79</td>\n",
       "      <td>3.08</td>\n",
       "      <td>4.10</td>\n",
       "      <td>8.23</td>\n",
       "      <td>10.05</td>\n",
       "      <td>1.83</td>\n",
       "      <td>4.46</td>\n",
       "      <td>84.50</td>\n",
       "      <td>0.08</td>\n",
       "      <td>98.04</td>\n",
       "      <td>4.65</td>\n",
       "      <td>6.87</td>\n",
       "      <td>0.5</td>\n",
       "      <td>0.866025</td>\n",
       "      <td>2</td>\n",
       "      <td>0.974928</td>\n",
       "      <td>-0.222521</td>\n",
       "    </tr>\n",
       "    <tr>\n",
       "      <th>2</th>\n",
       "      <td>2</td>\n",
       "      <td>2013-01-03</td>\n",
       "      <td>4464</td>\n",
       "      <td>285526.0</td>\n",
       "      <td>24755.0</td>\n",
       "      <td>0.0</td>\n",
       "      <td>626.0</td>\n",
       "      <td>2984.0</td>\n",
       "      <td>72282.0</td>\n",
       "      <td>0.0</td>\n",
       "      <td>2357.0</td>\n",
       "      <td>182412.0</td>\n",
       "      <td>0.0</td>\n",
       "      <td>0.0</td>\n",
       "      <td>0.0</td>\n",
       "      <td>0.0</td>\n",
       "      <td>0.0</td>\n",
       "      <td>0.0</td>\n",
       "      <td>0.0</td>\n",
       "      <td>0.0</td>\n",
       "      <td>0.0</td>\n",
       "      <td>0.0</td>\n",
       "      <td>0.0</td>\n",
       "      <td>0.0</td>\n",
       "      <td>0.0</td>\n",
       "      <td>2013</td>\n",
       "      <td>1</td>\n",
       "      <td>3</td>\n",
       "      <td>5.46</td>\n",
       "      <td>0.91</td>\n",
       "      <td>3.19</td>\n",
       "      <td>3.78</td>\n",
       "      <td>10.59</td>\n",
       "      <td>11.96</td>\n",
       "      <td>1.37</td>\n",
       "      <td>4.15</td>\n",
       "      <td>73.75</td>\n",
       "      <td>0.00</td>\n",
       "      <td>99.42</td>\n",
       "      <td>2.33</td>\n",
       "      <td>3.35</td>\n",
       "      <td>0.5</td>\n",
       "      <td>0.866025</td>\n",
       "      <td>3</td>\n",
       "      <td>0.433884</td>\n",
       "      <td>-0.900969</td>\n",
       "    </tr>\n",
       "    <tr>\n",
       "      <th>3</th>\n",
       "      <td>3</td>\n",
       "      <td>2013-01-04</td>\n",
       "      <td>4464</td>\n",
       "      <td>286799.0</td>\n",
       "      <td>17085.0</td>\n",
       "      <td>0.0</td>\n",
       "      <td>1028.0</td>\n",
       "      <td>2570.0</td>\n",
       "      <td>68995.0</td>\n",
       "      <td>0.0</td>\n",
       "      <td>2988.0</td>\n",
       "      <td>194018.0</td>\n",
       "      <td>0.0</td>\n",
       "      <td>0.0</td>\n",
       "      <td>0.0</td>\n",
       "      <td>0.0</td>\n",
       "      <td>0.0</td>\n",
       "      <td>0.0</td>\n",
       "      <td>0.0</td>\n",
       "      <td>0.0</td>\n",
       "      <td>0.0</td>\n",
       "      <td>0.0</td>\n",
       "      <td>0.0</td>\n",
       "      <td>0.0</td>\n",
       "      <td>0.0</td>\n",
       "      <td>2013</td>\n",
       "      <td>1</td>\n",
       "      <td>4</td>\n",
       "      <td>5.92</td>\n",
       "      <td>2.24</td>\n",
       "      <td>4.08</td>\n",
       "      <td>4.06</td>\n",
       "      <td>11.30</td>\n",
       "      <td>12.80</td>\n",
       "      <td>1.51</td>\n",
       "      <td>4.58</td>\n",
       "      <td>79.12</td>\n",
       "      <td>0.01</td>\n",
       "      <td>99.19</td>\n",
       "      <td>2.50</td>\n",
       "      <td>3.72</td>\n",
       "      <td>0.5</td>\n",
       "      <td>0.866025</td>\n",
       "      <td>4</td>\n",
       "      <td>-0.433884</td>\n",
       "      <td>-0.900969</td>\n",
       "    </tr>\n",
       "    <tr>\n",
       "      <th>4</th>\n",
       "      <td>4</td>\n",
       "      <td>2013-01-05</td>\n",
       "      <td>4464</td>\n",
       "      <td>267848.0</td>\n",
       "      <td>15479.0</td>\n",
       "      <td>0.0</td>\n",
       "      <td>1557.0</td>\n",
       "      <td>2898.0</td>\n",
       "      <td>62143.0</td>\n",
       "      <td>0.0</td>\n",
       "      <td>3051.0</td>\n",
       "      <td>182618.0</td>\n",
       "      <td>0.0</td>\n",
       "      <td>0.0</td>\n",
       "      <td>0.0</td>\n",
       "      <td>0.0</td>\n",
       "      <td>0.0</td>\n",
       "      <td>0.0</td>\n",
       "      <td>0.0</td>\n",
       "      <td>0.0</td>\n",
       "      <td>0.0</td>\n",
       "      <td>0.0</td>\n",
       "      <td>0.0</td>\n",
       "      <td>0.0</td>\n",
       "      <td>0.0</td>\n",
       "      <td>2013</td>\n",
       "      <td>1</td>\n",
       "      <td>5</td>\n",
       "      <td>6.64</td>\n",
       "      <td>2.37</td>\n",
       "      <td>4.50</td>\n",
       "      <td>4.85</td>\n",
       "      <td>12.38</td>\n",
       "      <td>14.41</td>\n",
       "      <td>2.04</td>\n",
       "      <td>4.76</td>\n",
       "      <td>74.88</td>\n",
       "      <td>0.00</td>\n",
       "      <td>98.51</td>\n",
       "      <td>3.25</td>\n",
       "      <td>5.05</td>\n",
       "      <td>0.5</td>\n",
       "      <td>0.866025</td>\n",
       "      <td>5</td>\n",
       "      <td>-0.974928</td>\n",
       "      <td>-0.222521</td>\n",
       "    </tr>\n",
       "  </tbody>\n",
       "</table>\n",
       "</div>"
      ],
      "text/plain": [
       "   Unnamed: 0        Date  Code INSEE région  Consommation (MW)  \\\n",
       "0           0  2013-01-01               4464           252371.0   \n",
       "1           1  2013-01-02               4464           280064.0   \n",
       "2           2  2013-01-03               4464           285526.0   \n",
       "3           3  2013-01-04               4464           286799.0   \n",
       "4           4  2013-01-05               4464           267848.0   \n",
       "\n",
       "   Thermique (MW)  Nucléaire (MW)  Eolien (MW)  Solaire (MW)  \\\n",
       "0         15175.0             0.0        372.0         405.0   \n",
       "1         18369.0             0.0       1404.0        2655.0   \n",
       "2         24755.0             0.0        626.0        2984.0   \n",
       "3         17085.0             0.0       1028.0        2570.0   \n",
       "4         15479.0             0.0       1557.0        2898.0   \n",
       "\n",
       "   Hydraulique (MW)  Pompage (MW)  Bioénergies (MW)  Ech. physiques (MW)  \\\n",
       "0           61254.0          -4.0            1808.0             173268.0   \n",
       "1           70681.0         -12.0            1717.0             185143.0   \n",
       "2           72282.0           0.0            2357.0             182412.0   \n",
       "3           68995.0           0.0            2988.0             194018.0   \n",
       "4           62143.0           0.0            3051.0             182618.0   \n",
       "\n",
       "   Stockage batterie  Déstockage batterie  Eolien terrestre  Eolien offshore  \\\n",
       "0                0.0                  0.0               0.0              0.0   \n",
       "1                0.0                  0.0               0.0              0.0   \n",
       "2                0.0                  0.0               0.0              0.0   \n",
       "3                0.0                  0.0               0.0              0.0   \n",
       "4                0.0                  0.0               0.0              0.0   \n",
       "\n",
       "   TCO Thermique (%)  TCH Thermique (%)  TCO Nucléaire (%)  TCH Nucléaire (%)  \\\n",
       "0                0.0                0.0                0.0                0.0   \n",
       "1                0.0                0.0                0.0                0.0   \n",
       "2                0.0                0.0                0.0                0.0   \n",
       "3                0.0                0.0                0.0                0.0   \n",
       "4                0.0                0.0                0.0                0.0   \n",
       "\n",
       "   TCO Eolien (%)  TCH Eolien (%)  TCO Solaire (%)  TCH Solaire (%)  \\\n",
       "0             0.0             0.0              0.0              0.0   \n",
       "1             0.0             0.0              0.0              0.0   \n",
       "2             0.0             0.0              0.0              0.0   \n",
       "3             0.0             0.0              0.0              0.0   \n",
       "4             0.0             0.0              0.0              0.0   \n",
       "\n",
       "   Column 30  YEAR  MONTH  DAY   T2M  T2MDEW  T2MWET    TS  T2M_RANGE  \\\n",
       "0        0.0  2013      1    1  7.30    6.40    6.85  7.08       5.75   \n",
       "1        0.0  2013      1    2  4.36    1.79    3.08  4.10       8.23   \n",
       "2        0.0  2013      1    3  5.46    0.91    3.19  3.78      10.59   \n",
       "3        0.0  2013      1    4  5.92    2.24    4.08  4.06      11.30   \n",
       "4        0.0  2013      1    5  6.64    2.37    4.50  4.85      12.38   \n",
       "\n",
       "   T2M_MAX  T2M_MIN  QV2M   RH2M  PRECTOTCORR     PS  WS10M  WS50M  sin_month  \\\n",
       "0     9.60     3.86  6.16  94.12         5.62  97.76   3.23   5.29        0.5   \n",
       "1    10.05     1.83  4.46  84.50         0.08  98.04   4.65   6.87        0.5   \n",
       "2    11.96     1.37  4.15  73.75         0.00  99.42   2.33   3.35        0.5   \n",
       "3    12.80     1.51  4.58  79.12         0.01  99.19   2.50   3.72        0.5   \n",
       "4    14.41     2.04  4.76  74.88         0.00  98.51   3.25   5.05        0.5   \n",
       "\n",
       "   cos_month  week_day   sin_day   cos_day  \n",
       "0   0.866025         1  0.781831  0.623490  \n",
       "1   0.866025         2  0.974928 -0.222521  \n",
       "2   0.866025         3  0.433884 -0.900969  \n",
       "3   0.866025         4 -0.433884 -0.900969  \n",
       "4   0.866025         5 -0.974928 -0.222521  "
      ]
     },
     "execution_count": 6,
     "metadata": {},
     "output_type": "execute_result"
    }
   ],
   "source": [
    "pd.set_option('display.max_column', 46)\n",
    "df_energy_weather.head()"
   ]
  },
  {
   "cell_type": "code",
   "execution_count": 8,
   "id": "bf506448",
   "metadata": {
    "scrolled": true
   },
   "outputs": [
    {
     "data": {
      "text/plain": [
       "Index(['Unnamed: 0', 'Date', 'Code INSEE région', 'Consommation (MW)',\n",
       "       'Thermique (MW)', 'Nucléaire (MW)', 'Eolien (MW)', 'Solaire (MW)',\n",
       "       'Hydraulique (MW)', 'Pompage (MW)', 'Bioénergies (MW)',\n",
       "       'Ech. physiques (MW)', 'Stockage batterie', 'Déstockage batterie',\n",
       "       'Eolien terrestre', 'Eolien offshore', 'TCO Thermique (%)',\n",
       "       'TCH Thermique (%)', 'TCO Nucléaire (%)', 'TCH Nucléaire (%)',\n",
       "       'TCO Eolien (%)', 'TCH Eolien (%)', 'TCO Solaire (%)',\n",
       "       'TCH Solaire (%)', 'Column 30', 'YEAR', 'MONTH', 'DAY', 'T2M', 'T2MDEW',\n",
       "       'T2MWET', 'TS', 'T2M_RANGE', 'T2M_MAX', 'T2M_MIN', 'QV2M', 'RH2M',\n",
       "       'PRECTOTCORR', 'PS', 'WS10M', 'WS50M', 'sin_month', 'cos_month',\n",
       "       'week_day', 'sin_day', 'cos_day'],\n",
       "      dtype='object')"
      ]
     },
     "execution_count": 8,
     "metadata": {},
     "output_type": "execute_result"
    }
   ],
   "source": [
    "df_energy_weather.columns"
   ]
  },
  {
   "cell_type": "code",
   "execution_count": 13,
   "id": "3c4bb8e7",
   "metadata": {
    "scrolled": true
   },
   "outputs": [
    {
     "data": {
      "text/plain": [
       "(3417, 18)"
      ]
     },
     "execution_count": 13,
     "metadata": {},
     "output_type": "execute_result"
    }
   ],
   "source": [
    "X = df_energy_weather.drop(columns=['Consommation (MW)','Unnamed: 0','Date','Code INSEE région','Thermique (MW)', 'Nucléaire (MW)', 'Eolien (MW)', 'Solaire (MW)',\n",
    "       'Hydraulique (MW)', 'Pompage (MW)', 'Bioénergies (MW)',\n",
    "       'Ech. physiques (MW)', 'Stockage batterie', 'Déstockage batterie',\n",
    "       'Eolien terrestre', 'Eolien offshore', 'TCO Thermique (%)',\n",
    "       'TCH Thermique (%)', 'TCO Nucléaire (%)', 'TCH Nucléaire (%)',\n",
    "       'TCO Eolien (%)', 'TCH Eolien (%)', 'TCO Solaire (%)',\n",
    "       'TCH Solaire (%)', 'Column 30', 'YEAR', 'MONTH', 'DAY', ])\n",
    "y = df_energy_weather['Consommation (MW)']\n",
    "X.shape"
   ]
  },
  {
   "cell_type": "code",
   "execution_count": 14,
   "id": "30e8f234",
   "metadata": {
    "scrolled": false
   },
   "outputs": [
    {
     "data": {
      "text/plain": [
       "float64    17\n",
       "int64       1\n",
       "dtype: int64"
      ]
     },
     "execution_count": 14,
     "metadata": {},
     "output_type": "execute_result"
    }
   ],
   "source": [
    "X.dtypes.value_counts()"
   ]
  },
  {
   "cell_type": "code",
   "execution_count": 16,
   "id": "e3664c57",
   "metadata": {
    "collapsed": true
   },
   "outputs": [
    {
     "data": {
      "text/plain": [
       "T2M            0\n",
       "T2MDEW         0\n",
       "T2MWET         0\n",
       "TS             0\n",
       "T2M_RANGE      0\n",
       "T2M_MAX        0\n",
       "T2M_MIN        0\n",
       "QV2M           0\n",
       "RH2M           0\n",
       "PRECTOTCORR    0\n",
       "PS             0\n",
       "WS10M          0\n",
       "WS50M          0\n",
       "sin_month      0\n",
       "cos_month      0\n",
       "week_day       0\n",
       "sin_day        0\n",
       "cos_day        0\n",
       "dtype: int64"
      ]
     },
     "execution_count": 16,
     "metadata": {},
     "output_type": "execute_result"
    }
   ],
   "source": [
    "X.isna().sum()"
   ]
  },
  {
   "cell_type": "code",
   "execution_count": 50,
   "id": "17a7a710",
   "metadata": {},
   "outputs": [
    {
     "data": {
      "text/html": [
       "<div>\n",
       "<style scoped>\n",
       "    .dataframe tbody tr th:only-of-type {\n",
       "        vertical-align: middle;\n",
       "    }\n",
       "\n",
       "    .dataframe tbody tr th {\n",
       "        vertical-align: top;\n",
       "    }\n",
       "\n",
       "    .dataframe thead th {\n",
       "        text-align: right;\n",
       "    }\n",
       "</style>\n",
       "<table border=\"1\" class=\"dataframe\">\n",
       "  <thead>\n",
       "    <tr style=\"text-align: right;\">\n",
       "      <th></th>\n",
       "      <th>T2M</th>\n",
       "      <th>T2MDEW</th>\n",
       "      <th>T2MWET</th>\n",
       "      <th>TS</th>\n",
       "      <th>T2M_RANGE</th>\n",
       "      <th>T2M_MAX</th>\n",
       "      <th>T2M_MIN</th>\n",
       "      <th>QV2M</th>\n",
       "      <th>RH2M</th>\n",
       "      <th>PRECTOTCORR</th>\n",
       "      <th>PS</th>\n",
       "      <th>WS10M</th>\n",
       "      <th>WS50M</th>\n",
       "      <th>sin_month</th>\n",
       "      <th>cos_month</th>\n",
       "      <th>week_day</th>\n",
       "      <th>sin_day</th>\n",
       "      <th>cos_day</th>\n",
       "    </tr>\n",
       "  </thead>\n",
       "  <tbody>\n",
       "    <tr>\n",
       "      <th>0</th>\n",
       "      <td>7.30</td>\n",
       "      <td>6.40</td>\n",
       "      <td>6.85</td>\n",
       "      <td>7.08</td>\n",
       "      <td>5.75</td>\n",
       "      <td>9.60</td>\n",
       "      <td>3.86</td>\n",
       "      <td>6.16</td>\n",
       "      <td>94.12</td>\n",
       "      <td>5.62</td>\n",
       "      <td>97.76</td>\n",
       "      <td>3.23</td>\n",
       "      <td>5.29</td>\n",
       "      <td>0.5</td>\n",
       "      <td>0.866025</td>\n",
       "      <td>1</td>\n",
       "      <td>0.781831</td>\n",
       "      <td>0.623490</td>\n",
       "    </tr>\n",
       "    <tr>\n",
       "      <th>1</th>\n",
       "      <td>4.36</td>\n",
       "      <td>1.79</td>\n",
       "      <td>3.08</td>\n",
       "      <td>4.10</td>\n",
       "      <td>8.23</td>\n",
       "      <td>10.05</td>\n",
       "      <td>1.83</td>\n",
       "      <td>4.46</td>\n",
       "      <td>84.50</td>\n",
       "      <td>0.08</td>\n",
       "      <td>98.04</td>\n",
       "      <td>4.65</td>\n",
       "      <td>6.87</td>\n",
       "      <td>0.5</td>\n",
       "      <td>0.866025</td>\n",
       "      <td>2</td>\n",
       "      <td>0.974928</td>\n",
       "      <td>-0.222521</td>\n",
       "    </tr>\n",
       "    <tr>\n",
       "      <th>2</th>\n",
       "      <td>5.46</td>\n",
       "      <td>0.91</td>\n",
       "      <td>3.19</td>\n",
       "      <td>3.78</td>\n",
       "      <td>10.59</td>\n",
       "      <td>11.96</td>\n",
       "      <td>1.37</td>\n",
       "      <td>4.15</td>\n",
       "      <td>73.75</td>\n",
       "      <td>0.00</td>\n",
       "      <td>99.42</td>\n",
       "      <td>2.33</td>\n",
       "      <td>3.35</td>\n",
       "      <td>0.5</td>\n",
       "      <td>0.866025</td>\n",
       "      <td>3</td>\n",
       "      <td>0.433884</td>\n",
       "      <td>-0.900969</td>\n",
       "    </tr>\n",
       "    <tr>\n",
       "      <th>3</th>\n",
       "      <td>5.92</td>\n",
       "      <td>2.24</td>\n",
       "      <td>4.08</td>\n",
       "      <td>4.06</td>\n",
       "      <td>11.30</td>\n",
       "      <td>12.80</td>\n",
       "      <td>1.51</td>\n",
       "      <td>4.58</td>\n",
       "      <td>79.12</td>\n",
       "      <td>0.01</td>\n",
       "      <td>99.19</td>\n",
       "      <td>2.50</td>\n",
       "      <td>3.72</td>\n",
       "      <td>0.5</td>\n",
       "      <td>0.866025</td>\n",
       "      <td>4</td>\n",
       "      <td>-0.433884</td>\n",
       "      <td>-0.900969</td>\n",
       "    </tr>\n",
       "    <tr>\n",
       "      <th>4</th>\n",
       "      <td>6.64</td>\n",
       "      <td>2.37</td>\n",
       "      <td>4.50</td>\n",
       "      <td>4.85</td>\n",
       "      <td>12.38</td>\n",
       "      <td>14.41</td>\n",
       "      <td>2.04</td>\n",
       "      <td>4.76</td>\n",
       "      <td>74.88</td>\n",
       "      <td>0.00</td>\n",
       "      <td>98.51</td>\n",
       "      <td>3.25</td>\n",
       "      <td>5.05</td>\n",
       "      <td>0.5</td>\n",
       "      <td>0.866025</td>\n",
       "      <td>5</td>\n",
       "      <td>-0.974928</td>\n",
       "      <td>-0.222521</td>\n",
       "    </tr>\n",
       "  </tbody>\n",
       "</table>\n",
       "</div>"
      ],
      "text/plain": [
       "    T2M  T2MDEW  T2MWET    TS  T2M_RANGE  T2M_MAX  T2M_MIN  QV2M   RH2M  \\\n",
       "0  7.30    6.40    6.85  7.08       5.75     9.60     3.86  6.16  94.12   \n",
       "1  4.36    1.79    3.08  4.10       8.23    10.05     1.83  4.46  84.50   \n",
       "2  5.46    0.91    3.19  3.78      10.59    11.96     1.37  4.15  73.75   \n",
       "3  5.92    2.24    4.08  4.06      11.30    12.80     1.51  4.58  79.12   \n",
       "4  6.64    2.37    4.50  4.85      12.38    14.41     2.04  4.76  74.88   \n",
       "\n",
       "   PRECTOTCORR     PS  WS10M  WS50M  sin_month  cos_month  week_day   sin_day  \\\n",
       "0         5.62  97.76   3.23   5.29        0.5   0.866025         1  0.781831   \n",
       "1         0.08  98.04   4.65   6.87        0.5   0.866025         2  0.974928   \n",
       "2         0.00  99.42   2.33   3.35        0.5   0.866025         3  0.433884   \n",
       "3         0.01  99.19   2.50   3.72        0.5   0.866025         4 -0.433884   \n",
       "4         0.00  98.51   3.25   5.05        0.5   0.866025         5 -0.974928   \n",
       "\n",
       "    cos_day  \n",
       "0  0.623490  \n",
       "1 -0.222521  \n",
       "2 -0.900969  \n",
       "3 -0.900969  \n",
       "4 -0.222521  "
      ]
     },
     "execution_count": 50,
     "metadata": {},
     "output_type": "execute_result"
    }
   ],
   "source": [
    "X.head()"
   ]
  },
  {
   "cell_type": "code",
   "execution_count": 25,
   "id": "c2bddbb1",
   "metadata": {},
   "outputs": [],
   "source": [
    "from sklearn.preprocessing import RobustScaler, OneHotEncoder, OrdinalEncoder\n",
    "from sklearn.linear_model import Ridge, Lasso, LinearRegression\n",
    "from sklearn.pipeline import Pipeline, make_pipeline\n",
    "from sklearn.impute import SimpleImputer, KNNImputer\n",
    "from sklearn.compose import ColumnTransformer, make_column_transformer, make_column_selector\n",
    "from sklearn.preprocessing import MinMaxScaler, StandardScaler\n"
   ]
  },
  {
   "cell_type": "markdown",
   "id": "4a3e835d",
   "metadata": {},
   "source": [
    "Baseline pipe"
   ]
  },
  {
   "cell_type": "code",
   "execution_count": 36,
   "id": "abf065a1",
   "metadata": {},
   "outputs": [
    {
     "data": {
      "text/html": [
       "<style>#sk-container-id-6 {color: black;background-color: white;}#sk-container-id-6 pre{padding: 0;}#sk-container-id-6 div.sk-toggleable {background-color: white;}#sk-container-id-6 label.sk-toggleable__label {cursor: pointer;display: block;width: 100%;margin-bottom: 0;padding: 0.3em;box-sizing: border-box;text-align: center;}#sk-container-id-6 label.sk-toggleable__label-arrow:before {content: \"▸\";float: left;margin-right: 0.25em;color: #696969;}#sk-container-id-6 label.sk-toggleable__label-arrow:hover:before {color: black;}#sk-container-id-6 div.sk-estimator:hover label.sk-toggleable__label-arrow:before {color: black;}#sk-container-id-6 div.sk-toggleable__content {max-height: 0;max-width: 0;overflow: hidden;text-align: left;background-color: #f0f8ff;}#sk-container-id-6 div.sk-toggleable__content pre {margin: 0.2em;color: black;border-radius: 0.25em;background-color: #f0f8ff;}#sk-container-id-6 input.sk-toggleable__control:checked~div.sk-toggleable__content {max-height: 200px;max-width: 100%;overflow: auto;}#sk-container-id-6 input.sk-toggleable__control:checked~label.sk-toggleable__label-arrow:before {content: \"▾\";}#sk-container-id-6 div.sk-estimator input.sk-toggleable__control:checked~label.sk-toggleable__label {background-color: #d4ebff;}#sk-container-id-6 div.sk-label input.sk-toggleable__control:checked~label.sk-toggleable__label {background-color: #d4ebff;}#sk-container-id-6 input.sk-hidden--visually {border: 0;clip: rect(1px 1px 1px 1px);clip: rect(1px, 1px, 1px, 1px);height: 1px;margin: -1px;overflow: hidden;padding: 0;position: absolute;width: 1px;}#sk-container-id-6 div.sk-estimator {font-family: monospace;background-color: #f0f8ff;border: 1px dotted black;border-radius: 0.25em;box-sizing: border-box;margin-bottom: 0.5em;}#sk-container-id-6 div.sk-estimator:hover {background-color: #d4ebff;}#sk-container-id-6 div.sk-parallel-item::after {content: \"\";width: 100%;border-bottom: 1px solid gray;flex-grow: 1;}#sk-container-id-6 div.sk-label:hover label.sk-toggleable__label {background-color: #d4ebff;}#sk-container-id-6 div.sk-serial::before {content: \"\";position: absolute;border-left: 1px solid gray;box-sizing: border-box;top: 0;bottom: 0;left: 50%;z-index: 0;}#sk-container-id-6 div.sk-serial {display: flex;flex-direction: column;align-items: center;background-color: white;padding-right: 0.2em;padding-left: 0.2em;position: relative;}#sk-container-id-6 div.sk-item {position: relative;z-index: 1;}#sk-container-id-6 div.sk-parallel {display: flex;align-items: stretch;justify-content: center;background-color: white;position: relative;}#sk-container-id-6 div.sk-item::before, #sk-container-id-6 div.sk-parallel-item::before {content: \"\";position: absolute;border-left: 1px solid gray;box-sizing: border-box;top: 0;bottom: 0;left: 50%;z-index: -1;}#sk-container-id-6 div.sk-parallel-item {display: flex;flex-direction: column;z-index: 1;position: relative;background-color: white;}#sk-container-id-6 div.sk-parallel-item:first-child::after {align-self: flex-end;width: 50%;}#sk-container-id-6 div.sk-parallel-item:last-child::after {align-self: flex-start;width: 50%;}#sk-container-id-6 div.sk-parallel-item:only-child::after {width: 0;}#sk-container-id-6 div.sk-dashed-wrapped {border: 1px dashed gray;margin: 0 0.4em 0.5em 0.4em;box-sizing: border-box;padding-bottom: 0.4em;background-color: white;}#sk-container-id-6 div.sk-label label {font-family: monospace;font-weight: bold;display: inline-block;line-height: 1.2em;}#sk-container-id-6 div.sk-label-container {text-align: center;}#sk-container-id-6 div.sk-container {/* jupyter's `normalize.less` sets `[hidden] { display: none; }` but bootstrap.min.css set `[hidden] { display: none !important; }` so we also need the `!important` here to be able to override the default hidden behavior on the sphinx rendered scikit-learn.org. See: https://github.com/scikit-learn/scikit-learn/issues/21755 */display: inline-block !important;position: relative;}#sk-container-id-6 div.sk-text-repr-fallback {display: none;}</style><div id=\"sk-container-id-6\" class=\"sk-top-container\"><div class=\"sk-text-repr-fallback\"><pre>Pipeline(steps=[(&#x27;robustscaler&#x27;, RobustScaler())])</pre><b>In a Jupyter environment, please rerun this cell to show the HTML representation or trust the notebook. <br />On GitHub, the HTML representation is unable to render, please try loading this page with nbviewer.org.</b></div><div class=\"sk-container\" hidden><div class=\"sk-item sk-dashed-wrapped\"><div class=\"sk-label-container\"><div class=\"sk-label sk-toggleable\"><input class=\"sk-toggleable__control sk-hidden--visually\" id=\"sk-estimator-id-23\" type=\"checkbox\" ><label for=\"sk-estimator-id-23\" class=\"sk-toggleable__label sk-toggleable__label-arrow\">Pipeline</label><div class=\"sk-toggleable__content\"><pre>Pipeline(steps=[(&#x27;robustscaler&#x27;, RobustScaler())])</pre></div></div></div><div class=\"sk-serial\"><div class=\"sk-item\"><div class=\"sk-estimator sk-toggleable\"><input class=\"sk-toggleable__control sk-hidden--visually\" id=\"sk-estimator-id-24\" type=\"checkbox\" ><label for=\"sk-estimator-id-24\" class=\"sk-toggleable__label sk-toggleable__label-arrow\">RobustScaler</label><div class=\"sk-toggleable__content\"><pre>RobustScaler()</pre></div></div></div></div></div></div></div>"
      ],
      "text/plain": [
       "Pipeline(steps=[('robustscaler', RobustScaler())])"
      ]
     },
     "execution_count": 36,
     "metadata": {},
     "output_type": "execute_result"
    }
   ],
   "source": [
    "preproc_numerical_baseline = make_pipeline(\n",
    "    RobustScaler())\n",
    "\n",
    "\n",
    "#preproc_baseline = make_column_transformer(\n",
    " #   (preproc_numerical_baseline, make_column_selector(dtype_include=[\"int64\", \"float64\"])),\n",
    "  #  remainder=\"drop\")\n",
    "\n",
    "preproc_numerical_baseline"
   ]
  },
  {
   "cell_type": "code",
   "execution_count": 27,
   "id": "41479f23",
   "metadata": {},
   "outputs": [
    {
     "data": {
      "text/plain": [
       "(3417, 18)"
      ]
     },
     "execution_count": 27,
     "metadata": {},
     "output_type": "execute_result"
    }
   ],
   "source": [
    "shape_preproc_baseline = preproc_baseline.fit_transform(X).shape\n",
    "shape_preproc_baseline"
   ]
  },
  {
   "cell_type": "code",
   "execution_count": 37,
   "id": "075d09f7",
   "metadata": {},
   "outputs": [
    {
     "data": {
      "text/html": [
       "<style>#sk-container-id-7 {color: black;background-color: white;}#sk-container-id-7 pre{padding: 0;}#sk-container-id-7 div.sk-toggleable {background-color: white;}#sk-container-id-7 label.sk-toggleable__label {cursor: pointer;display: block;width: 100%;margin-bottom: 0;padding: 0.3em;box-sizing: border-box;text-align: center;}#sk-container-id-7 label.sk-toggleable__label-arrow:before {content: \"▸\";float: left;margin-right: 0.25em;color: #696969;}#sk-container-id-7 label.sk-toggleable__label-arrow:hover:before {color: black;}#sk-container-id-7 div.sk-estimator:hover label.sk-toggleable__label-arrow:before {color: black;}#sk-container-id-7 div.sk-toggleable__content {max-height: 0;max-width: 0;overflow: hidden;text-align: left;background-color: #f0f8ff;}#sk-container-id-7 div.sk-toggleable__content pre {margin: 0.2em;color: black;border-radius: 0.25em;background-color: #f0f8ff;}#sk-container-id-7 input.sk-toggleable__control:checked~div.sk-toggleable__content {max-height: 200px;max-width: 100%;overflow: auto;}#sk-container-id-7 input.sk-toggleable__control:checked~label.sk-toggleable__label-arrow:before {content: \"▾\";}#sk-container-id-7 div.sk-estimator input.sk-toggleable__control:checked~label.sk-toggleable__label {background-color: #d4ebff;}#sk-container-id-7 div.sk-label input.sk-toggleable__control:checked~label.sk-toggleable__label {background-color: #d4ebff;}#sk-container-id-7 input.sk-hidden--visually {border: 0;clip: rect(1px 1px 1px 1px);clip: rect(1px, 1px, 1px, 1px);height: 1px;margin: -1px;overflow: hidden;padding: 0;position: absolute;width: 1px;}#sk-container-id-7 div.sk-estimator {font-family: monospace;background-color: #f0f8ff;border: 1px dotted black;border-radius: 0.25em;box-sizing: border-box;margin-bottom: 0.5em;}#sk-container-id-7 div.sk-estimator:hover {background-color: #d4ebff;}#sk-container-id-7 div.sk-parallel-item::after {content: \"\";width: 100%;border-bottom: 1px solid gray;flex-grow: 1;}#sk-container-id-7 div.sk-label:hover label.sk-toggleable__label {background-color: #d4ebff;}#sk-container-id-7 div.sk-serial::before {content: \"\";position: absolute;border-left: 1px solid gray;box-sizing: border-box;top: 0;bottom: 0;left: 50%;z-index: 0;}#sk-container-id-7 div.sk-serial {display: flex;flex-direction: column;align-items: center;background-color: white;padding-right: 0.2em;padding-left: 0.2em;position: relative;}#sk-container-id-7 div.sk-item {position: relative;z-index: 1;}#sk-container-id-7 div.sk-parallel {display: flex;align-items: stretch;justify-content: center;background-color: white;position: relative;}#sk-container-id-7 div.sk-item::before, #sk-container-id-7 div.sk-parallel-item::before {content: \"\";position: absolute;border-left: 1px solid gray;box-sizing: border-box;top: 0;bottom: 0;left: 50%;z-index: -1;}#sk-container-id-7 div.sk-parallel-item {display: flex;flex-direction: column;z-index: 1;position: relative;background-color: white;}#sk-container-id-7 div.sk-parallel-item:first-child::after {align-self: flex-end;width: 50%;}#sk-container-id-7 div.sk-parallel-item:last-child::after {align-self: flex-start;width: 50%;}#sk-container-id-7 div.sk-parallel-item:only-child::after {width: 0;}#sk-container-id-7 div.sk-dashed-wrapped {border: 1px dashed gray;margin: 0 0.4em 0.5em 0.4em;box-sizing: border-box;padding-bottom: 0.4em;background-color: white;}#sk-container-id-7 div.sk-label label {font-family: monospace;font-weight: bold;display: inline-block;line-height: 1.2em;}#sk-container-id-7 div.sk-label-container {text-align: center;}#sk-container-id-7 div.sk-container {/* jupyter's `normalize.less` sets `[hidden] { display: none; }` but bootstrap.min.css set `[hidden] { display: none !important; }` so we also need the `!important` here to be able to override the default hidden behavior on the sphinx rendered scikit-learn.org. See: https://github.com/scikit-learn/scikit-learn/issues/21755 */display: inline-block !important;position: relative;}#sk-container-id-7 div.sk-text-repr-fallback {display: none;}</style><div id=\"sk-container-id-7\" class=\"sk-top-container\"><div class=\"sk-text-repr-fallback\"><pre>Pipeline(steps=[(&#x27;pipeline&#x27;,\n",
       "                 Pipeline(steps=[(&#x27;robustscaler&#x27;, RobustScaler())])),\n",
       "                (&#x27;linearregression&#x27;, LinearRegression())])</pre><b>In a Jupyter environment, please rerun this cell to show the HTML representation or trust the notebook. <br />On GitHub, the HTML representation is unable to render, please try loading this page with nbviewer.org.</b></div><div class=\"sk-container\" hidden><div class=\"sk-item sk-dashed-wrapped\"><div class=\"sk-label-container\"><div class=\"sk-label sk-toggleable\"><input class=\"sk-toggleable__control sk-hidden--visually\" id=\"sk-estimator-id-25\" type=\"checkbox\" ><label for=\"sk-estimator-id-25\" class=\"sk-toggleable__label sk-toggleable__label-arrow\">Pipeline</label><div class=\"sk-toggleable__content\"><pre>Pipeline(steps=[(&#x27;pipeline&#x27;,\n",
       "                 Pipeline(steps=[(&#x27;robustscaler&#x27;, RobustScaler())])),\n",
       "                (&#x27;linearregression&#x27;, LinearRegression())])</pre></div></div></div><div class=\"sk-serial\"><div class=\"sk-item\"><div class=\"sk-label-container\"><div class=\"sk-label sk-toggleable\"><input class=\"sk-toggleable__control sk-hidden--visually\" id=\"sk-estimator-id-26\" type=\"checkbox\" ><label for=\"sk-estimator-id-26\" class=\"sk-toggleable__label sk-toggleable__label-arrow\">pipeline: Pipeline</label><div class=\"sk-toggleable__content\"><pre>Pipeline(steps=[(&#x27;robustscaler&#x27;, RobustScaler())])</pre></div></div></div><div class=\"sk-serial\"><div class=\"sk-item\"><div class=\"sk-estimator sk-toggleable\"><input class=\"sk-toggleable__control sk-hidden--visually\" id=\"sk-estimator-id-27\" type=\"checkbox\" ><label for=\"sk-estimator-id-27\" class=\"sk-toggleable__label sk-toggleable__label-arrow\">RobustScaler</label><div class=\"sk-toggleable__content\"><pre>RobustScaler()</pre></div></div></div></div></div><div class=\"sk-item\"><div class=\"sk-estimator sk-toggleable\"><input class=\"sk-toggleable__control sk-hidden--visually\" id=\"sk-estimator-id-28\" type=\"checkbox\" ><label for=\"sk-estimator-id-28\" class=\"sk-toggleable__label sk-toggleable__label-arrow\">LinearRegression</label><div class=\"sk-toggleable__content\"><pre>LinearRegression()</pre></div></div></div></div></div></div></div>"
      ],
      "text/plain": [
       "Pipeline(steps=[('pipeline',\n",
       "                 Pipeline(steps=[('robustscaler', RobustScaler())])),\n",
       "                ('linearregression', LinearRegression())])"
      ]
     },
     "execution_count": 37,
     "metadata": {},
     "output_type": "execute_result"
    }
   ],
   "source": [
    "pipe_baseline = make_pipeline(preproc_numerical_baseline, LinearRegression())\n",
    "pipe_baseline"
   ]
  },
  {
   "cell_type": "markdown",
   "id": "83403a6e",
   "metadata": {},
   "source": [
    "Cross-Validate"
   ]
  },
  {
   "cell_type": "code",
   "execution_count": 38,
   "id": "3c533b7f",
   "metadata": {},
   "outputs": [],
   "source": [
    "from sklearn.metrics import mean_absolute_percentage_error"
   ]
  },
  {
   "cell_type": "code",
   "execution_count": 40,
   "id": "f116de5a",
   "metadata": {},
   "outputs": [
    {
     "data": {
      "text/plain": [
       "array([-0.06363733, -0.0559391 , -0.05997966, -0.07667544, -0.06158657])"
      ]
     },
     "execution_count": 40,
     "metadata": {},
     "output_type": "execute_result"
    }
   ],
   "source": [
    "from sklearn.model_selection import cross_val_score\n",
    "score_baseline = cross_val_score(pipe_baseline, X, y, cv=5, scoring='neg_mean_absolute_percentage_error')\n",
    "score_baseline"
   ]
  },
  {
   "cell_type": "code",
   "execution_count": null,
   "id": "dcdaea3b",
   "metadata": {},
   "outputs": [],
   "source": []
  },
  {
   "cell_type": "code",
   "execution_count": null,
   "id": "205d5c0d",
   "metadata": {},
   "outputs": [],
   "source": []
  },
  {
   "cell_type": "code",
   "execution_count": null,
   "id": "e05a1f06",
   "metadata": {},
   "outputs": [],
   "source": [
    "#from sklearn.model_selection import train_test_split\n",
    "#X_train, X_test, y_train, y_test = train_test_split(X,y, test_size = 0,3)\n",
    "\n",
    "#from sklearn.model_selection import cross_val_score\n",
    "#cross_val_score(KneighborsClassifier(), X_train, y_train, cv=5, scoring='accuracy').mean rmettre dans les () un knn"
   ]
  },
  {
   "cell_type": "code",
   "execution_count": 41,
   "id": "f58bdc5f",
   "metadata": {},
   "outputs": [
    {
     "data": {
      "text/plain": [
       "Index(['T2M', 'T2MDEW', 'T2MWET', 'TS', 'T2M_RANGE', 'T2M_MAX', 'T2M_MIN',\n",
       "       'QV2M', 'RH2M', 'PRECTOTCORR', 'PS', 'WS10M', 'WS50M', 'sin_month',\n",
       "       'cos_month', 'week_day', 'sin_day', 'cos_day'],\n",
       "      dtype='object')"
      ]
     },
     "execution_count": 41,
     "metadata": {},
     "output_type": "execute_result"
    }
   ],
   "source": [
    "X.columns"
   ]
  },
  {
   "cell_type": "markdown",
   "id": "49853aad",
   "metadata": {},
   "source": [
    "Itération"
   ]
  },
  {
   "cell_type": "code",
   "execution_count": 48,
   "id": "640cf6a3",
   "metadata": {
    "collapsed": true
   },
   "outputs": [
    {
     "data": {
      "image/png": "[encoded data removed]",
      "text/plain": [
       "<Figure size 1152x1152 with 20 Axes>"
      ]
     },
     "metadata": {
      "needs_background": "light"
     },
     "output_type": "display_data"
    }
   ],
   "source": [
    "import matplotlib.pyplot as plt\n",
    "X.hist(figsize=(16,16))\n",
    "plt.show()"
   ]
  },
  {
   "cell_type": "markdown",
   "id": "1729a930",
   "metadata": {},
   "source": [
    "14J"
   ]
  },
  {
   "cell_type": "code",
   "execution_count": 51,
   "id": "ee109be0",
   "metadata": {},
   "outputs": [],
   "source": [
    "# model à tester - Lasso avec gridsearch / xgboost  / random forest / decision tree regressor / gradient boosting regressor\n",
    "#dans gridsearch (attention à qu'elle parametre)"
   ]
  },
  {
   "cell_type": "code",
   "execution_count": 57,
   "id": "bceed16c",
   "metadata": {
    "collapsed": true
   },
   "outputs": [
    {
     "data": {
      "text/plain": [
       "<AxesSubplot:>"
      ]
     },
     "execution_count": 57,
     "metadata": {},
     "output_type": "execute_result"
    },
    {
     "data": {
      "image/png": "[encoded data removed]",
      "text/plain": [
       "<Figure size 576x576 with 1 Axes>"
      ]
     },
     "metadata": {
      "needs_background": "light"
     },
     "output_type": "display_data"
    }
   ],
   "source": [
    "X.boxplot(['T2MDEW'], figsize=(8,8))"
   ]
  },
  {
   "cell_type": "code",
   "execution_count": 59,
   "id": "027360aa",
   "metadata": {
    "collapsed": true
   },
   "outputs": [
    {
     "data": {
      "text/plain": [
       "<AxesSubplot:>"
      ]
     },
     "execution_count": 59,
     "metadata": {},
     "output_type": "execute_result"
    },
    {
     "data": {
      "image/png": "[encoded data removed]",
      "text/plain": [
       "<Figure size 576x576 with 1 Axes>"
      ]
     },
     "metadata": {
      "needs_background": "light"
     },
     "output_type": "display_data"
    }
   ],
   "source": [
    "X.boxplot(['T2M_RANGE'], figsize=(8,8))"
   ]
  },
  {
   "cell_type": "code",
   "execution_count": 60,
   "id": "ed7f9656",
   "metadata": {
    "collapsed": true
   },
   "outputs": [
    {
     "data": {
      "text/plain": [
       "<AxesSubplot:>"
      ]
     },
     "execution_count": 60,
     "metadata": {},
     "output_type": "execute_result"
    },
    {
     "data": {
      "image/png": "[encoded data removed]",
      "text/plain": [
       "<Figure size 576x576 with 1 Axes>"
      ]
     },
     "metadata": {
      "needs_background": "light"
     },
     "output_type": "display_data"
    }
   ],
   "source": [
    "X.boxplot(['PS'], figsize=(8,8))\n"
   ]
  },
  {
   "cell_type": "code",
   "execution_count": 62,
   "id": "06929acc",
   "metadata": {},
   "outputs": [],
   "source": [
    "from sklearn.preprocessing import MinMaxScaler, StandardScaler\n",
    "\n",
    "feat_numerical = sorted(X.select_dtypes(include=[\"int64\", \"float64\"]).columns)\n",
    "\n",
    "preproc_MinMaxScaler = make_pipeline(MinMaxScaler())\n",
    "\n",
    "\n",
    "preproc_StandardScaler = make_pipeline(StandardScaler())\n",
    "    \n",
    "\n",
    "preproc_RobustScaler = make_pipeline( RobustScaler())"
   ]
  },
  {
   "cell_type": "code",
   "execution_count": 68,
   "id": "d978785b",
   "metadata": {},
   "outputs": [
    {
     "data": {
      "text/html": [
       "<style>#sk-container-id-9 {color: black;background-color: white;}#sk-container-id-9 pre{padding: 0;}#sk-container-id-9 div.sk-toggleable {background-color: white;}#sk-container-id-9 label.sk-toggleable__label {cursor: pointer;display: block;width: 100%;margin-bottom: 0;padding: 0.3em;box-sizing: border-box;text-align: center;}#sk-container-id-9 label.sk-toggleable__label-arrow:before {content: \"▸\";float: left;margin-right: 0.25em;color: #696969;}#sk-container-id-9 label.sk-toggleable__label-arrow:hover:before {color: black;}#sk-container-id-9 div.sk-estimator:hover label.sk-toggleable__label-arrow:before {color: black;}#sk-container-id-9 div.sk-toggleable__content {max-height: 0;max-width: 0;overflow: hidden;text-align: left;background-color: #f0f8ff;}#sk-container-id-9 div.sk-toggleable__content pre {margin: 0.2em;color: black;border-radius: 0.25em;background-color: #f0f8ff;}#sk-container-id-9 input.sk-toggleable__control:checked~div.sk-toggleable__content {max-height: 200px;max-width: 100%;overflow: auto;}#sk-container-id-9 input.sk-toggleable__control:checked~label.sk-toggleable__label-arrow:before {content: \"▾\";}#sk-container-id-9 div.sk-estimator input.sk-toggleable__control:checked~label.sk-toggleable__label {background-color: #d4ebff;}#sk-container-id-9 div.sk-label input.sk-toggleable__control:checked~label.sk-toggleable__label {background-color: #d4ebff;}#sk-container-id-9 input.sk-hidden--visually {border: 0;clip: rect(1px 1px 1px 1px);clip: rect(1px, 1px, 1px, 1px);height: 1px;margin: -1px;overflow: hidden;padding: 0;position: absolute;width: 1px;}#sk-container-id-9 div.sk-estimator {font-family: monospace;background-color: #f0f8ff;border: 1px dotted black;border-radius: 0.25em;box-sizing: border-box;margin-bottom: 0.5em;}#sk-container-id-9 div.sk-estimator:hover {background-color: #d4ebff;}#sk-container-id-9 div.sk-parallel-item::after {content: \"\";width: 100%;border-bottom: 1px solid gray;flex-grow: 1;}#sk-container-id-9 div.sk-label:hover label.sk-toggleable__label {background-color: #d4ebff;}#sk-container-id-9 div.sk-serial::before {content: \"\";position: absolute;border-left: 1px solid gray;box-sizing: border-box;top: 0;bottom: 0;left: 50%;z-index: 0;}#sk-container-id-9 div.sk-serial {display: flex;flex-direction: column;align-items: center;background-color: white;padding-right: 0.2em;padding-left: 0.2em;position: relative;}#sk-container-id-9 div.sk-item {position: relative;z-index: 1;}#sk-container-id-9 div.sk-parallel {display: flex;align-items: stretch;justify-content: center;background-color: white;position: relative;}#sk-container-id-9 div.sk-item::before, #sk-container-id-9 div.sk-parallel-item::before {content: \"\";position: absolute;border-left: 1px solid gray;box-sizing: border-box;top: 0;bottom: 0;left: 50%;z-index: -1;}#sk-container-id-9 div.sk-parallel-item {display: flex;flex-direction: column;z-index: 1;position: relative;background-color: white;}#sk-container-id-9 div.sk-parallel-item:first-child::after {align-self: flex-end;width: 50%;}#sk-container-id-9 div.sk-parallel-item:last-child::after {align-self: flex-start;width: 50%;}#sk-container-id-9 div.sk-parallel-item:only-child::after {width: 0;}#sk-container-id-9 div.sk-dashed-wrapped {border: 1px dashed gray;margin: 0 0.4em 0.5em 0.4em;box-sizing: border-box;padding-bottom: 0.4em;background-color: white;}#sk-container-id-9 div.sk-label label {font-family: monospace;font-weight: bold;display: inline-block;line-height: 1.2em;}#sk-container-id-9 div.sk-label-container {text-align: center;}#sk-container-id-9 div.sk-container {/* jupyter's `normalize.less` sets `[hidden] { display: none; }` but bootstrap.min.css set `[hidden] { display: none !important; }` so we also need the `!important` here to be able to override the default hidden behavior on the sphinx rendered scikit-learn.org. See: https://github.com/scikit-learn/scikit-learn/issues/21755 */display: inline-block !important;position: relative;}#sk-container-id-9 div.sk-text-repr-fallback {display: none;}</style><div id=\"sk-container-id-9\" class=\"sk-top-container\"><div class=\"sk-text-repr-fallback\"><pre>ColumnTransformer(transformers=[(&#x27;pipeline-1&#x27;,\n",
       "                                 Pipeline(steps=[(&#x27;minmaxscaler&#x27;,\n",
       "                                                  MinMaxScaler())]),\n",
       "                                 [&#x27;week_day&#x27;]),\n",
       "                                (&#x27;pipeline-2&#x27;,\n",
       "                                 Pipeline(steps=[(&#x27;standardscaler&#x27;,\n",
       "                                                  StandardScaler())]),\n",
       "                                 [&#x27;T2MDEW&#x27;, &#x27;T2M_RANGE&#x27;]),\n",
       "                                (&#x27;pipeline-3&#x27;,\n",
       "                                 Pipeline(steps=[(&#x27;robustscaler&#x27;,\n",
       "                                                  RobustScaler())]),\n",
       "                                 [&#x27;T2M&#x27;, &#x27;T2MWET&#x27;, &#x27;TS&#x27;, &#x27;T2M_MAX&#x27;, &#x27;T2M_MIN&#x27;,\n",
       "                                  &#x27;QV2M&#x27;, &#x27;RH2M&#x27;, &#x27;PRECTOTCORR&#x27;, &#x27;PS&#x27;, &#x27;WS10M&#x27;,\n",
       "                                  &#x27;WS50M&#x27;, &#x27;sin_month&#x27;, &#x27;cos_month&#x27;, &#x27;sin_day&#x27;,\n",
       "                                  &#x27;cos_day&#x27;])])</pre><b>In a Jupyter environment, please rerun this cell to show the HTML representation or trust the notebook. <br />On GitHub, the HTML representation is unable to render, please try loading this page with nbviewer.org.</b></div><div class=\"sk-container\" hidden><div class=\"sk-item sk-dashed-wrapped\"><div class=\"sk-label-container\"><div class=\"sk-label sk-toggleable\"><input class=\"sk-toggleable__control sk-hidden--visually\" id=\"sk-estimator-id-36\" type=\"checkbox\" ><label for=\"sk-estimator-id-36\" class=\"sk-toggleable__label sk-toggleable__label-arrow\">ColumnTransformer</label><div class=\"sk-toggleable__content\"><pre>ColumnTransformer(transformers=[(&#x27;pipeline-1&#x27;,\n",
       "                                 Pipeline(steps=[(&#x27;minmaxscaler&#x27;,\n",
       "                                                  MinMaxScaler())]),\n",
       "                                 [&#x27;week_day&#x27;]),\n",
       "                                (&#x27;pipeline-2&#x27;,\n",
       "                                 Pipeline(steps=[(&#x27;standardscaler&#x27;,\n",
       "                                                  StandardScaler())]),\n",
       "                                 [&#x27;T2MDEW&#x27;, &#x27;T2M_RANGE&#x27;]),\n",
       "                                (&#x27;pipeline-3&#x27;,\n",
       "                                 Pipeline(steps=[(&#x27;robustscaler&#x27;,\n",
       "                                                  RobustScaler())]),\n",
       "                                 [&#x27;T2M&#x27;, &#x27;T2MWET&#x27;, &#x27;TS&#x27;, &#x27;T2M_MAX&#x27;, &#x27;T2M_MIN&#x27;,\n",
       "                                  &#x27;QV2M&#x27;, &#x27;RH2M&#x27;, &#x27;PRECTOTCORR&#x27;, &#x27;PS&#x27;, &#x27;WS10M&#x27;,\n",
       "                                  &#x27;WS50M&#x27;, &#x27;sin_month&#x27;, &#x27;cos_month&#x27;, &#x27;sin_day&#x27;,\n",
       "                                  &#x27;cos_day&#x27;])])</pre></div></div></div><div class=\"sk-parallel\"><div class=\"sk-parallel-item\"><div class=\"sk-item\"><div class=\"sk-label-container\"><div class=\"sk-label sk-toggleable\"><input class=\"sk-toggleable__control sk-hidden--visually\" id=\"sk-estimator-id-37\" type=\"checkbox\" ><label for=\"sk-estimator-id-37\" class=\"sk-toggleable__label sk-toggleable__label-arrow\">pipeline-1</label><div class=\"sk-toggleable__content\"><pre>[&#x27;week_day&#x27;]</pre></div></div></div><div class=\"sk-serial\"><div class=\"sk-item\"><div class=\"sk-serial\"><div class=\"sk-item\"><div class=\"sk-estimator sk-toggleable\"><input class=\"sk-toggleable__control sk-hidden--visually\" id=\"sk-estimator-id-38\" type=\"checkbox\" ><label for=\"sk-estimator-id-38\" class=\"sk-toggleable__label sk-toggleable__label-arrow\">MinMaxScaler</label><div class=\"sk-toggleable__content\"><pre>MinMaxScaler()</pre></div></div></div></div></div></div></div></div><div class=\"sk-parallel-item\"><div class=\"sk-item\"><div class=\"sk-label-container\"><div class=\"sk-label sk-toggleable\"><input class=\"sk-toggleable__control sk-hidden--visually\" id=\"sk-estimator-id-39\" type=\"checkbox\" ><label for=\"sk-estimator-id-39\" class=\"sk-toggleable__label sk-toggleable__label-arrow\">pipeline-2</label><div class=\"sk-toggleable__content\"><pre>[&#x27;T2MDEW&#x27;, &#x27;T2M_RANGE&#x27;]</pre></div></div></div><div class=\"sk-serial\"><div class=\"sk-item\"><div class=\"sk-serial\"><div class=\"sk-item\"><div class=\"sk-estimator sk-toggleable\"><input class=\"sk-toggleable__control sk-hidden--visually\" id=\"sk-estimator-id-40\" type=\"checkbox\" ><label for=\"sk-estimator-id-40\" class=\"sk-toggleable__label sk-toggleable__label-arrow\">StandardScaler</label><div class=\"sk-toggleable__content\"><pre>StandardScaler()</pre></div></div></div></div></div></div></div></div><div class=\"sk-parallel-item\"><div class=\"sk-item\"><div class=\"sk-label-container\"><div class=\"sk-label sk-toggleable\"><input class=\"sk-toggleable__control sk-hidden--visually\" id=\"sk-estimator-id-41\" type=\"checkbox\" ><label for=\"sk-estimator-id-41\" class=\"sk-toggleable__label sk-toggleable__label-arrow\">pipeline-3</label><div class=\"sk-toggleable__content\"><pre>[&#x27;T2M&#x27;, &#x27;T2MWET&#x27;, &#x27;TS&#x27;, &#x27;T2M_MAX&#x27;, &#x27;T2M_MIN&#x27;, &#x27;QV2M&#x27;, &#x27;RH2M&#x27;, &#x27;PRECTOTCORR&#x27;, &#x27;PS&#x27;, &#x27;WS10M&#x27;, &#x27;WS50M&#x27;, &#x27;sin_month&#x27;, &#x27;cos_month&#x27;, &#x27;sin_day&#x27;, &#x27;cos_day&#x27;]</pre></div></div></div><div class=\"sk-serial\"><div class=\"sk-item\"><div class=\"sk-serial\"><div class=\"sk-item\"><div class=\"sk-estimator sk-toggleable\"><input class=\"sk-toggleable__control sk-hidden--visually\" id=\"sk-estimator-id-42\" type=\"checkbox\" ><label for=\"sk-estimator-id-42\" class=\"sk-toggleable__label sk-toggleable__label-arrow\">RobustScaler</label><div class=\"sk-toggleable__content\"><pre>RobustScaler()</pre></div></div></div></div></div></div></div></div></div></div></div></div>"
      ],
      "text/plain": [
       "ColumnTransformer(transformers=[('pipeline-1',\n",
       "                                 Pipeline(steps=[('minmaxscaler',\n",
       "                                                  MinMaxScaler())]),\n",
       "                                 ['week_day']),\n",
       "                                ('pipeline-2',\n",
       "                                 Pipeline(steps=[('standardscaler',\n",
       "                                                  StandardScaler())]),\n",
       "                                 ['T2MDEW', 'T2M_RANGE']),\n",
       "                                ('pipeline-3',\n",
       "                                 Pipeline(steps=[('robustscaler',\n",
       "                                                  RobustScaler())]),\n",
       "                                 ['T2M', 'T2MWET', 'TS', 'T2M_MAX', 'T2M_MIN',\n",
       "                                  'QV2M', 'RH2M', 'PRECTOTCORR', 'PS', 'WS10M',\n",
       "                                  'WS50M', 'sin_month', 'cos_month', 'sin_day',\n",
       "                                  'cos_day'])])"
      ]
     },
     "execution_count": 68,
     "metadata": {},
     "output_type": "execute_result"
    }
   ],
   "source": [
    "min_max = ['week_day']\n",
    "stand = ['T2MDEW','T2M_RANGE']\n",
    "robus = ['T2M', 'T2MWET', 'TS', 'T2M_MAX', 'T2M_MIN','QV2M', 'RH2M', 'PRECTOTCORR', 'PS', 'WS10M', 'WS50M', 'sin_month', 'cos_month', 'sin_day', 'cos_day']\n",
    "\n",
    "preproc = make_column_transformer(\n",
    "    (preproc_MinMaxScaler, min_max),\n",
    "    (preproc_StandardScaler, stand),\n",
    "    (preproc_RobustScaler, robus),\n",
    "    remainder=\"drop\")\n",
    "\n",
    "preproc"
   ]
  },
  {
   "cell_type": "code",
   "execution_count": 69,
   "id": "6f149667",
   "metadata": {},
   "outputs": [
    {
     "data": {
      "text/html": [
       "<div>\n",
       "<style scoped>\n",
       "    .dataframe tbody tr th:only-of-type {\n",
       "        vertical-align: middle;\n",
       "    }\n",
       "\n",
       "    .dataframe tbody tr th {\n",
       "        vertical-align: top;\n",
       "    }\n",
       "\n",
       "    .dataframe thead th {\n",
       "        text-align: right;\n",
       "    }\n",
       "</style>\n",
       "<table border=\"1\" class=\"dataframe\">\n",
       "  <thead>\n",
       "    <tr style=\"text-align: right;\">\n",
       "      <th></th>\n",
       "      <th>0</th>\n",
       "      <th>1</th>\n",
       "      <th>2</th>\n",
       "      <th>3</th>\n",
       "      <th>4</th>\n",
       "      <th>5</th>\n",
       "      <th>6</th>\n",
       "      <th>7</th>\n",
       "      <th>8</th>\n",
       "      <th>9</th>\n",
       "      <th>10</th>\n",
       "      <th>11</th>\n",
       "      <th>12</th>\n",
       "      <th>13</th>\n",
       "      <th>14</th>\n",
       "      <th>15</th>\n",
       "      <th>16</th>\n",
       "      <th>17</th>\n",
       "    </tr>\n",
       "  </thead>\n",
       "  <tbody>\n",
       "    <tr>\n",
       "      <th>0</th>\n",
       "      <td>0.166667</td>\n",
       "      <td>-0.343572</td>\n",
       "      <td>-1.508554</td>\n",
       "      <td>-0.516928</td>\n",
       "      <td>-0.417773</td>\n",
       "      <td>-0.488266</td>\n",
       "      <td>-0.689139</td>\n",
       "      <td>-0.451613</td>\n",
       "      <td>-0.255556</td>\n",
       "      <td>0.918931</td>\n",
       "      <td>8.703125</td>\n",
       "      <td>-0.136986</td>\n",
       "      <td>-0.120000</td>\n",
       "      <td>0.030952</td>\n",
       "      <td>0.366025</td>\n",
       "      <td>0.633975</td>\n",
       "      <td>0.500000</td>\n",
       "      <td>5.549581e-01</td>\n",
       "    </tr>\n",
       "    <tr>\n",
       "      <th>1</th>\n",
       "      <td>0.333333</td>\n",
       "      <td>-1.262954</td>\n",
       "      <td>-0.698372</td>\n",
       "      <td>-0.759703</td>\n",
       "      <td>-0.802860</td>\n",
       "      <td>-0.713853</td>\n",
       "      <td>-0.655431</td>\n",
       "      <td>-0.638710</td>\n",
       "      <td>-0.727778</td>\n",
       "      <td>0.504097</td>\n",
       "      <td>0.046875</td>\n",
       "      <td>0.246575</td>\n",
       "      <td>0.353333</td>\n",
       "      <td>0.407143</td>\n",
       "      <td>0.366025</td>\n",
       "      <td>0.633975</td>\n",
       "      <td>0.623490</td>\n",
       "      <td>0.000000e+00</td>\n",
       "    </tr>\n",
       "    <tr>\n",
       "      <th>2</th>\n",
       "      <td>0.500000</td>\n",
       "      <td>-1.438454</td>\n",
       "      <td>0.072607</td>\n",
       "      <td>-0.668869</td>\n",
       "      <td>-0.791624</td>\n",
       "      <td>-0.738077</td>\n",
       "      <td>-0.512360</td>\n",
       "      <td>-0.681106</td>\n",
       "      <td>-0.813889</td>\n",
       "      <td>0.040535</td>\n",
       "      <td>-0.078125</td>\n",
       "      <td>2.136986</td>\n",
       "      <td>-0.420000</td>\n",
       "      <td>-0.430952</td>\n",
       "      <td>0.366025</td>\n",
       "      <td>0.633975</td>\n",
       "      <td>0.277479</td>\n",
       "      <td>-4.450419e-01</td>\n",
       "    </tr>\n",
       "    <tr>\n",
       "      <th>3</th>\n",
       "      <td>0.666667</td>\n",
       "      <td>-1.173210</td>\n",
       "      <td>0.304554</td>\n",
       "      <td>-0.630884</td>\n",
       "      <td>-0.700715</td>\n",
       "      <td>-0.716881</td>\n",
       "      <td>-0.449438</td>\n",
       "      <td>-0.668203</td>\n",
       "      <td>-0.694444</td>\n",
       "      <td>0.272100</td>\n",
       "      <td>-0.062500</td>\n",
       "      <td>1.821918</td>\n",
       "      <td>-0.363333</td>\n",
       "      <td>-0.342857</td>\n",
       "      <td>0.366025</td>\n",
       "      <td>0.633975</td>\n",
       "      <td>-0.277479</td>\n",
       "      <td>-4.450419e-01</td>\n",
       "    </tr>\n",
       "    <tr>\n",
       "      <th>4</th>\n",
       "      <td>0.833333</td>\n",
       "      <td>-1.147284</td>\n",
       "      <td>0.657375</td>\n",
       "      <td>-0.571429</td>\n",
       "      <td>-0.657814</td>\n",
       "      <td>-0.657078</td>\n",
       "      <td>-0.328839</td>\n",
       "      <td>-0.619355</td>\n",
       "      <td>-0.644444</td>\n",
       "      <td>0.089263</td>\n",
       "      <td>-0.078125</td>\n",
       "      <td>0.890411</td>\n",
       "      <td>-0.113333</td>\n",
       "      <td>-0.026190</td>\n",
       "      <td>0.366025</td>\n",
       "      <td>0.633975</td>\n",
       "      <td>-0.623490</td>\n",
       "      <td>-1.820684e-16</td>\n",
       "    </tr>\n",
       "  </tbody>\n",
       "</table>\n",
       "</div>"
      ],
      "text/plain": [
       "         0         1         2         3         4         5         6   \\\n",
       "0  0.166667 -0.343572 -1.508554 -0.516928 -0.417773 -0.488266 -0.689139   \n",
       "1  0.333333 -1.262954 -0.698372 -0.759703 -0.802860 -0.713853 -0.655431   \n",
       "2  0.500000 -1.438454  0.072607 -0.668869 -0.791624 -0.738077 -0.512360   \n",
       "3  0.666667 -1.173210  0.304554 -0.630884 -0.700715 -0.716881 -0.449438   \n",
       "4  0.833333 -1.147284  0.657375 -0.571429 -0.657814 -0.657078 -0.328839   \n",
       "\n",
       "         7         8         9         10        11        12        13  \\\n",
       "0 -0.451613 -0.255556  0.918931  8.703125 -0.136986 -0.120000  0.030952   \n",
       "1 -0.638710 -0.727778  0.504097  0.046875  0.246575  0.353333  0.407143   \n",
       "2 -0.681106 -0.813889  0.040535 -0.078125  2.136986 -0.420000 -0.430952   \n",
       "3 -0.668203 -0.694444  0.272100 -0.062500  1.821918 -0.363333 -0.342857   \n",
       "4 -0.619355 -0.644444  0.089263 -0.078125  0.890411 -0.113333 -0.026190   \n",
       "\n",
       "         14        15        16            17  \n",
       "0  0.366025  0.633975  0.500000  5.549581e-01  \n",
       "1  0.366025  0.633975  0.623490  0.000000e+00  \n",
       "2  0.366025  0.633975  0.277479 -4.450419e-01  \n",
       "3  0.366025  0.633975 -0.277479 -4.450419e-01  \n",
       "4  0.366025  0.633975 -0.623490 -1.820684e-16  "
      ]
     },
     "execution_count": 69,
     "metadata": {},
     "output_type": "execute_result"
    }
   ],
   "source": [
    "pd.DataFrame(preproc.fit_transform(X,y)).head()"
   ]
  },
  {
   "cell_type": "code",
   "execution_count": null,
   "id": "2ea77021",
   "metadata": {},
   "outputs": [],
   "source": []
  }
 ],
 "metadata": {
  "kernelspec": {
   "display_name": "Python 3 (ipykernel)",
   "language": "python",
   "name": "python3"
  },
  "language_info": {
   "codemirror_mode": {
    "name": "ipython",
    "version": 3
   },
   "file_extension": ".py",
   "mimetype": "text/x-python",
   "name": "python",
   "nbconvert_exporter": "python",
   "pygments_lexer": "ipython3",
   "version": "3.8.12"
  },
  "toc": {
   "base_numbering": 1,
   "nav_menu": {},
   "number_sections": true,
   "sideBar": true,
   "skip_h1_title": false,
   "title_cell": "Table of Contents",
   "title_sidebar": "Contents",
   "toc_cell": false,
   "toc_position": {},
   "toc_section_display": true,
   "toc_window_display": false
  }
 },
 "nbformat": 4,
 "nbformat_minor": 5
}
