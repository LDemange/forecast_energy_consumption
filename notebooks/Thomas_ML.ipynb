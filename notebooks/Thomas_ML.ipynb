{
 "cells": [
  {
   "cell_type": "code",
   "execution_count": 1,
   "id": "776ba461",
   "metadata": {},
   "outputs": [],
   "source": [
    "import pandas as pd\n",
    "import numpy as np\n",
    "from sklearn.preprocessing import RobustScaler, OneHotEncoder, OrdinalEncoder\n",
    "from sklearn.linear_model import Ridge, Lasso, LinearRegression\n",
    "from sklearn.pipeline import Pipeline, make_pipeline\n",
    "from sklearn.impute import SimpleImputer, KNNImputer\n",
    "from sklearn.compose import ColumnTransformer, make_column_transformer, make_column_selector\n",
    "from sklearn.preprocessing import MinMaxScaler, StandardScaler\n",
    "from sklearn.ensemble import RandomForestRegressor\n",
    "from sklearn.model_selection import cross_validate\n",
    "from sklearn.metrics import mean_absolute_percentage_error\n",
    "from sklearn.model_selection import cross_val_score\n",
    "from sklearn.tree import DecisionTreeRegressor"
   ]
  },
  {
   "cell_type": "code",
   "execution_count": 2,
   "id": "3ad4d4af",
   "metadata": {},
   "outputs": [],
   "source": [
    "df = pd.read_csv('../raw_data/data_preparation.csv', index_col=[0])\n",
    "pd.set_option(\"display.max_columns\", None)"
   ]
  },
  {
   "cell_type": "code",
   "execution_count": 3,
   "id": "70464f4d",
   "metadata": {},
   "outputs": [],
   "source": [
    "#df_energy_weather.isnull().sum()"
   ]
  },
  {
   "cell_type": "code",
   "execution_count": 4,
   "id": "cdc40c97",
   "metadata": {},
   "outputs": [
    {
     "data": {
      "text/plain": [
       "0       0.623490\n",
       "1      -0.222521\n",
       "2      -0.900969\n",
       "3      -0.900969\n",
       "4      -0.222521\n",
       "          ...   \n",
       "3412   -0.222521\n",
       "3413   -0.900969\n",
       "3414   -0.900969\n",
       "3415   -0.222521\n",
       "3416    0.623490\n",
       "Name: cos_day, Length: 3417, dtype: float64"
      ]
     },
     "execution_count": 4,
     "metadata": {},
     "output_type": "execute_result"
    }
   ],
   "source": [
    "df['cos_day']"
   ]
  },
  {
   "cell_type": "code",
   "execution_count": 5,
   "id": "3a140745",
   "metadata": {},
   "outputs": [],
   "source": [
    "X = df.drop(columns=['Date', 'Code INSEE région', 'Consommation (MW)', 'Thermique (MW)',\n",
    "       'Nucléaire (MW)', 'Eolien (MW)', 'Solaire (MW)', 'Hydraulique (MW)',\n",
    "       'Pompage (MW)', 'Bioénergies (MW)', 'Ech. physiques (MW)',\n",
    "       'Stockage batterie', 'Déstockage batterie', 'Eolien terrestre',\n",
    "       'Eolien offshore', 'TCO Thermique (%)', 'TCH Thermique (%)',\n",
    "       'TCO Nucléaire (%)', 'TCH Nucléaire (%)', 'TCO Eolien (%)',\n",
    "       'TCH Eolien (%)', 'TCO Solaire (%)', 'TCH Solaire (%)', 'Column 30','YEAR', 'MONTH', 'DAY', \n",
    "                     'season', 'num_day', 'sin365_2', 'cos365_2',\n",
    "       'sin365_3', 'cos365_3'])\n"
   ]
  },
  {
   "cell_type": "code",
   "execution_count": 6,
   "id": "4007ccf6",
   "metadata": {},
   "outputs": [
    {
     "data": {
      "text/plain": [
       "Index(['T2M', 'T2MDEW', 'T2MWET', 'TS', 'T2M_RANGE', 'T2M_MAX', 'T2M_MIN',\n",
       "       'QV2M', 'RH2M', 'PRECTOTCORR', 'PS', 'WS10M', 'WS50M', 'sin_month',\n",
       "       'cos_month', 'week_day', 'sin_day', 'cos_day', 'bank_holiday',\n",
       "       'school_holidays', 'sin365_1', 'cos365_1'],\n",
       "      dtype='object')"
      ]
     },
     "execution_count": 6,
     "metadata": {},
     "output_type": "execute_result"
    }
   ],
   "source": [
    "X.columns"
   ]
  },
  {
   "cell_type": "code",
   "execution_count": 7,
   "id": "d774b7c8",
   "metadata": {},
   "outputs": [],
   "source": [
    "y = df['Consommation (MW)']"
   ]
  },
  {
   "cell_type": "code",
   "execution_count": 8,
   "id": "4e18994f",
   "metadata": {},
   "outputs": [],
   "source": [
    "preproc_numerical_baseline = make_pipeline(\n",
    "    MinMaxScaler())"
   ]
  },
  {
   "cell_type": "code",
   "execution_count": 9,
   "id": "ee2839b7",
   "metadata": {},
   "outputs": [],
   "source": [
    "preproc_baseline = make_column_transformer(\n",
    "    (preproc_numerical_baseline, make_column_selector(dtype_include=[\"int64\", \"float64\"])),\n",
    "    remainder=\"drop\")"
   ]
  },
  {
   "cell_type": "code",
   "execution_count": 10,
   "id": "a0b735e8",
   "metadata": {},
   "outputs": [
    {
     "data": {
      "text/plain": [
       "(3417, 22)"
      ]
     },
     "execution_count": 10,
     "metadata": {},
     "output_type": "execute_result"
    }
   ],
   "source": [
    "shape_preproc_baseline = preproc_baseline.fit_transform(X).shape\n",
    "shape_preproc_baseline"
   ]
  },
  {
   "cell_type": "code",
   "execution_count": 11,
   "id": "f494ff40",
   "metadata": {},
   "outputs": [
    {
     "data": {
      "text/html": [
       "<style>#sk-container-id-1 {color: black;background-color: white;}#sk-container-id-1 pre{padding: 0;}#sk-container-id-1 div.sk-toggleable {background-color: white;}#sk-container-id-1 label.sk-toggleable__label {cursor: pointer;display: block;width: 100%;margin-bottom: 0;padding: 0.3em;box-sizing: border-box;text-align: center;}#sk-container-id-1 label.sk-toggleable__label-arrow:before {content: \"▸\";float: left;margin-right: 0.25em;color: #696969;}#sk-container-id-1 label.sk-toggleable__label-arrow:hover:before {color: black;}#sk-container-id-1 div.sk-estimator:hover label.sk-toggleable__label-arrow:before {color: black;}#sk-container-id-1 div.sk-toggleable__content {max-height: 0;max-width: 0;overflow: hidden;text-align: left;background-color: #f0f8ff;}#sk-container-id-1 div.sk-toggleable__content pre {margin: 0.2em;color: black;border-radius: 0.25em;background-color: #f0f8ff;}#sk-container-id-1 input.sk-toggleable__control:checked~div.sk-toggleable__content {max-height: 200px;max-width: 100%;overflow: auto;}#sk-container-id-1 input.sk-toggleable__control:checked~label.sk-toggleable__label-arrow:before {content: \"▾\";}#sk-container-id-1 div.sk-estimator input.sk-toggleable__control:checked~label.sk-toggleable__label {background-color: #d4ebff;}#sk-container-id-1 div.sk-label input.sk-toggleable__control:checked~label.sk-toggleable__label {background-color: #d4ebff;}#sk-container-id-1 input.sk-hidden--visually {border: 0;clip: rect(1px 1px 1px 1px);clip: rect(1px, 1px, 1px, 1px);height: 1px;margin: -1px;overflow: hidden;padding: 0;position: absolute;width: 1px;}#sk-container-id-1 div.sk-estimator {font-family: monospace;background-color: #f0f8ff;border: 1px dotted black;border-radius: 0.25em;box-sizing: border-box;margin-bottom: 0.5em;}#sk-container-id-1 div.sk-estimator:hover {background-color: #d4ebff;}#sk-container-id-1 div.sk-parallel-item::after {content: \"\";width: 100%;border-bottom: 1px solid gray;flex-grow: 1;}#sk-container-id-1 div.sk-label:hover label.sk-toggleable__label {background-color: #d4ebff;}#sk-container-id-1 div.sk-serial::before {content: \"\";position: absolute;border-left: 1px solid gray;box-sizing: border-box;top: 0;bottom: 0;left: 50%;z-index: 0;}#sk-container-id-1 div.sk-serial {display: flex;flex-direction: column;align-items: center;background-color: white;padding-right: 0.2em;padding-left: 0.2em;position: relative;}#sk-container-id-1 div.sk-item {position: relative;z-index: 1;}#sk-container-id-1 div.sk-parallel {display: flex;align-items: stretch;justify-content: center;background-color: white;position: relative;}#sk-container-id-1 div.sk-item::before, #sk-container-id-1 div.sk-parallel-item::before {content: \"\";position: absolute;border-left: 1px solid gray;box-sizing: border-box;top: 0;bottom: 0;left: 50%;z-index: -1;}#sk-container-id-1 div.sk-parallel-item {display: flex;flex-direction: column;z-index: 1;position: relative;background-color: white;}#sk-container-id-1 div.sk-parallel-item:first-child::after {align-self: flex-end;width: 50%;}#sk-container-id-1 div.sk-parallel-item:last-child::after {align-self: flex-start;width: 50%;}#sk-container-id-1 div.sk-parallel-item:only-child::after {width: 0;}#sk-container-id-1 div.sk-dashed-wrapped {border: 1px dashed gray;margin: 0 0.4em 0.5em 0.4em;box-sizing: border-box;padding-bottom: 0.4em;background-color: white;}#sk-container-id-1 div.sk-label label {font-family: monospace;font-weight: bold;display: inline-block;line-height: 1.2em;}#sk-container-id-1 div.sk-label-container {text-align: center;}#sk-container-id-1 div.sk-container {/* jupyter's `normalize.less` sets `[hidden] { display: none; }` but bootstrap.min.css set `[hidden] { display: none !important; }` so we also need the `!important` here to be able to override the default hidden behavior on the sphinx rendered scikit-learn.org. See: https://github.com/scikit-learn/scikit-learn/issues/21755 */display: inline-block !important;position: relative;}#sk-container-id-1 div.sk-text-repr-fallback {display: none;}</style><div id=\"sk-container-id-1\" class=\"sk-top-container\"><div class=\"sk-text-repr-fallback\"><pre>Pipeline(steps=[(&#x27;columntransformer&#x27;,\n",
       "                 ColumnTransformer(transformers=[(&#x27;pipeline&#x27;,\n",
       "                                                  Pipeline(steps=[(&#x27;minmaxscaler&#x27;,\n",
       "                                                                   MinMaxScaler())]),\n",
       "                                                  &lt;sklearn.compose._column_transformer.make_column_selector object at 0x176b25dc0&gt;)])),\n",
       "                (&#x27;decisiontreeregressor&#x27;, DecisionTreeRegressor())])</pre><b>In a Jupyter environment, please rerun this cell to show the HTML representation or trust the notebook. <br />On GitHub, the HTML representation is unable to render, please try loading this page with nbviewer.org.</b></div><div class=\"sk-container\" hidden><div class=\"sk-item sk-dashed-wrapped\"><div class=\"sk-label-container\"><div class=\"sk-label sk-toggleable\"><input class=\"sk-toggleable__control sk-hidden--visually\" id=\"sk-estimator-id-1\" type=\"checkbox\" ><label for=\"sk-estimator-id-1\" class=\"sk-toggleable__label sk-toggleable__label-arrow\">Pipeline</label><div class=\"sk-toggleable__content\"><pre>Pipeline(steps=[(&#x27;columntransformer&#x27;,\n",
       "                 ColumnTransformer(transformers=[(&#x27;pipeline&#x27;,\n",
       "                                                  Pipeline(steps=[(&#x27;minmaxscaler&#x27;,\n",
       "                                                                   MinMaxScaler())]),\n",
       "                                                  &lt;sklearn.compose._column_transformer.make_column_selector object at 0x176b25dc0&gt;)])),\n",
       "                (&#x27;decisiontreeregressor&#x27;, DecisionTreeRegressor())])</pre></div></div></div><div class=\"sk-serial\"><div class=\"sk-item sk-dashed-wrapped\"><div class=\"sk-label-container\"><div class=\"sk-label sk-toggleable\"><input class=\"sk-toggleable__control sk-hidden--visually\" id=\"sk-estimator-id-2\" type=\"checkbox\" ><label for=\"sk-estimator-id-2\" class=\"sk-toggleable__label sk-toggleable__label-arrow\">columntransformer: ColumnTransformer</label><div class=\"sk-toggleable__content\"><pre>ColumnTransformer(transformers=[(&#x27;pipeline&#x27;,\n",
       "                                 Pipeline(steps=[(&#x27;minmaxscaler&#x27;,\n",
       "                                                  MinMaxScaler())]),\n",
       "                                 &lt;sklearn.compose._column_transformer.make_column_selector object at 0x176b25dc0&gt;)])</pre></div></div></div><div class=\"sk-parallel\"><div class=\"sk-parallel-item\"><div class=\"sk-item\"><div class=\"sk-label-container\"><div class=\"sk-label sk-toggleable\"><input class=\"sk-toggleable__control sk-hidden--visually\" id=\"sk-estimator-id-3\" type=\"checkbox\" ><label for=\"sk-estimator-id-3\" class=\"sk-toggleable__label sk-toggleable__label-arrow\">pipeline</label><div class=\"sk-toggleable__content\"><pre>&lt;sklearn.compose._column_transformer.make_column_selector object at 0x176b25dc0&gt;</pre></div></div></div><div class=\"sk-serial\"><div class=\"sk-item\"><div class=\"sk-serial\"><div class=\"sk-item\"><div class=\"sk-estimator sk-toggleable\"><input class=\"sk-toggleable__control sk-hidden--visually\" id=\"sk-estimator-id-4\" type=\"checkbox\" ><label for=\"sk-estimator-id-4\" class=\"sk-toggleable__label sk-toggleable__label-arrow\">MinMaxScaler</label><div class=\"sk-toggleable__content\"><pre>MinMaxScaler()</pre></div></div></div></div></div></div></div></div></div></div><div class=\"sk-item\"><div class=\"sk-estimator sk-toggleable\"><input class=\"sk-toggleable__control sk-hidden--visually\" id=\"sk-estimator-id-5\" type=\"checkbox\" ><label for=\"sk-estimator-id-5\" class=\"sk-toggleable__label sk-toggleable__label-arrow\">DecisionTreeRegressor</label><div class=\"sk-toggleable__content\"><pre>DecisionTreeRegressor()</pre></div></div></div></div></div></div></div>"
      ],
      "text/plain": [
       "Pipeline(steps=[('columntransformer',\n",
       "                 ColumnTransformer(transformers=[('pipeline',\n",
       "                                                  Pipeline(steps=[('minmaxscaler',\n",
       "                                                                   MinMaxScaler())]),\n",
       "                                                  <sklearn.compose._column_transformer.make_column_selector object at 0x176b25dc0>)])),\n",
       "                ('decisiontreeregressor', DecisionTreeRegressor())])"
      ]
     },
     "execution_count": 11,
     "metadata": {},
     "output_type": "execute_result"
    }
   ],
   "source": [
    "pipe_baseline = make_pipeline(preproc_baseline, DecisionTreeRegressor())\n",
    "pipe_baseline"
   ]
  },
  {
   "cell_type": "code",
   "execution_count": 12,
   "id": "2403082f",
   "metadata": {},
   "outputs": [],
   "source": [
    "from sklearn.metrics import mean_absolute_percentage_error"
   ]
  },
  {
   "cell_type": "code",
   "execution_count": 13,
   "id": "79d011e2",
   "metadata": {},
   "outputs": [
    {
     "data": {
      "text/plain": [
       "-0.05057376858324562"
      ]
     },
     "execution_count": 13,
     "metadata": {},
     "output_type": "execute_result"
    }
   ],
   "source": [
    "from sklearn.model_selection import cross_val_score\n",
    "score_baseline = cross_val_score(pipe_baseline, X, y, cv=5, scoring='neg_mean_absolute_percentage_error')\n",
    "score_baseline.mean()"
   ]
  },
  {
   "cell_type": "code",
   "execution_count": 14,
   "id": "27fedd57",
   "metadata": {},
   "outputs": [
    {
     "data": {
      "image/png": "[encoded data removed]",
      "text/plain": [
       "<Figure size 1152x1152 with 25 Axes>"
      ]
     },
     "metadata": {
      "needs_background": "light"
     },
     "output_type": "display_data"
    }
   ],
   "source": [
    "import matplotlib.pyplot as plt\n",
    "X.hist(figsize=(16,16))\n",
    "plt.show()"
   ]
  },
  {
   "cell_type": "code",
   "execution_count": null,
   "id": "e2fc3999",
   "metadata": {},
   "outputs": [],
   "source": []
  },
  {
   "cell_type": "code",
   "execution_count": null,
   "id": "b55bf7e5",
   "metadata": {},
   "outputs": [],
   "source": []
  },
  {
   "cell_type": "markdown",
   "id": "7544f9b4",
   "metadata": {},
   "source": [
    "# random forest"
   ]
  },
  {
   "cell_type": "code",
   "execution_count": 15,
   "id": "80b1232b",
   "metadata": {},
   "outputs": [],
   "source": [
    "from sklearn.preprocessing import MinMaxScaler, StandardScaler"
   ]
  },
  {
   "cell_type": "code",
   "execution_count": 16,
   "id": "a06b53d3",
   "metadata": {},
   "outputs": [],
   "source": [
    "preproc_StandardScaler = make_pipeline(StandardScaler()) \n",
    "preproc_RobustScaler = make_pipeline( RobustScaler())"
   ]
  },
  {
   "cell_type": "code",
   "execution_count": 17,
   "id": "443a9cdc",
   "metadata": {},
   "outputs": [],
   "source": [
    "from sklearn.ensemble import RandomForestRegressor"
   ]
  },
  {
   "cell_type": "code",
   "execution_count": 18,
   "id": "65c4a731",
   "metadata": {},
   "outputs": [],
   "source": [
    "#min_max = ['week_day']\n",
    "stand = ['T2MDEW','T2M_RANGE']\n",
    "robus = ['T2M', 'T2MWET', 'TS', 'T2M_MAX', 'T2M_MIN','QV2M', 'RH2M', 'PRECTOTCORR', 'PS', \n",
    "         'WS10M', 'WS50M']\n"
   ]
  },
  {
   "cell_type": "code",
   "execution_count": 19,
   "id": "9f2bd046",
   "metadata": {},
   "outputs": [
    {
     "data": {
      "text/html": [
       "<style>#sk-container-id-2 {color: black;background-color: white;}#sk-container-id-2 pre{padding: 0;}#sk-container-id-2 div.sk-toggleable {background-color: white;}#sk-container-id-2 label.sk-toggleable__label {cursor: pointer;display: block;width: 100%;margin-bottom: 0;padding: 0.3em;box-sizing: border-box;text-align: center;}#sk-container-id-2 label.sk-toggleable__label-arrow:before {content: \"▸\";float: left;margin-right: 0.25em;color: #696969;}#sk-container-id-2 label.sk-toggleable__label-arrow:hover:before {color: black;}#sk-container-id-2 div.sk-estimator:hover label.sk-toggleable__label-arrow:before {color: black;}#sk-container-id-2 div.sk-toggleable__content {max-height: 0;max-width: 0;overflow: hidden;text-align: left;background-color: #f0f8ff;}#sk-container-id-2 div.sk-toggleable__content pre {margin: 0.2em;color: black;border-radius: 0.25em;background-color: #f0f8ff;}#sk-container-id-2 input.sk-toggleable__control:checked~div.sk-toggleable__content {max-height: 200px;max-width: 100%;overflow: auto;}#sk-container-id-2 input.sk-toggleable__control:checked~label.sk-toggleable__label-arrow:before {content: \"▾\";}#sk-container-id-2 div.sk-estimator input.sk-toggleable__control:checked~label.sk-toggleable__label {background-color: #d4ebff;}#sk-container-id-2 div.sk-label input.sk-toggleable__control:checked~label.sk-toggleable__label {background-color: #d4ebff;}#sk-container-id-2 input.sk-hidden--visually {border: 0;clip: rect(1px 1px 1px 1px);clip: rect(1px, 1px, 1px, 1px);height: 1px;margin: -1px;overflow: hidden;padding: 0;position: absolute;width: 1px;}#sk-container-id-2 div.sk-estimator {font-family: monospace;background-color: #f0f8ff;border: 1px dotted black;border-radius: 0.25em;box-sizing: border-box;margin-bottom: 0.5em;}#sk-container-id-2 div.sk-estimator:hover {background-color: #d4ebff;}#sk-container-id-2 div.sk-parallel-item::after {content: \"\";width: 100%;border-bottom: 1px solid gray;flex-grow: 1;}#sk-container-id-2 div.sk-label:hover label.sk-toggleable__label {background-color: #d4ebff;}#sk-container-id-2 div.sk-serial::before {content: \"\";position: absolute;border-left: 1px solid gray;box-sizing: border-box;top: 0;bottom: 0;left: 50%;z-index: 0;}#sk-container-id-2 div.sk-serial {display: flex;flex-direction: column;align-items: center;background-color: white;padding-right: 0.2em;padding-left: 0.2em;position: relative;}#sk-container-id-2 div.sk-item {position: relative;z-index: 1;}#sk-container-id-2 div.sk-parallel {display: flex;align-items: stretch;justify-content: center;background-color: white;position: relative;}#sk-container-id-2 div.sk-item::before, #sk-container-id-2 div.sk-parallel-item::before {content: \"\";position: absolute;border-left: 1px solid gray;box-sizing: border-box;top: 0;bottom: 0;left: 50%;z-index: -1;}#sk-container-id-2 div.sk-parallel-item {display: flex;flex-direction: column;z-index: 1;position: relative;background-color: white;}#sk-container-id-2 div.sk-parallel-item:first-child::after {align-self: flex-end;width: 50%;}#sk-container-id-2 div.sk-parallel-item:last-child::after {align-self: flex-start;width: 50%;}#sk-container-id-2 div.sk-parallel-item:only-child::after {width: 0;}#sk-container-id-2 div.sk-dashed-wrapped {border: 1px dashed gray;margin: 0 0.4em 0.5em 0.4em;box-sizing: border-box;padding-bottom: 0.4em;background-color: white;}#sk-container-id-2 div.sk-label label {font-family: monospace;font-weight: bold;display: inline-block;line-height: 1.2em;}#sk-container-id-2 div.sk-label-container {text-align: center;}#sk-container-id-2 div.sk-container {/* jupyter's `normalize.less` sets `[hidden] { display: none; }` but bootstrap.min.css set `[hidden] { display: none !important; }` so we also need the `!important` here to be able to override the default hidden behavior on the sphinx rendered scikit-learn.org. See: https://github.com/scikit-learn/scikit-learn/issues/21755 */display: inline-block !important;position: relative;}#sk-container-id-2 div.sk-text-repr-fallback {display: none;}</style><div id=\"sk-container-id-2\" class=\"sk-top-container\"><div class=\"sk-text-repr-fallback\"><pre>ColumnTransformer(remainder=&#x27;passthrough&#x27;,\n",
       "                  transformers=[(&#x27;pipeline-1&#x27;,\n",
       "                                 Pipeline(steps=[(&#x27;standardscaler&#x27;,\n",
       "                                                  StandardScaler())]),\n",
       "                                 [&#x27;T2MDEW&#x27;, &#x27;T2M_RANGE&#x27;]),\n",
       "                                (&#x27;pipeline-2&#x27;,\n",
       "                                 Pipeline(steps=[(&#x27;robustscaler&#x27;,\n",
       "                                                  RobustScaler())]),\n",
       "                                 [&#x27;T2M&#x27;, &#x27;T2MWET&#x27;, &#x27;TS&#x27;, &#x27;T2M_MAX&#x27;, &#x27;T2M_MIN&#x27;,\n",
       "                                  &#x27;QV2M&#x27;, &#x27;RH2M&#x27;, &#x27;PRECTOTCORR&#x27;, &#x27;PS&#x27;, &#x27;WS10M&#x27;,\n",
       "                                  &#x27;WS50M&#x27;])])</pre><b>In a Jupyter environment, please rerun this cell to show the HTML representation or trust the notebook. <br />On GitHub, the HTML representation is unable to render, please try loading this page with nbviewer.org.</b></div><div class=\"sk-container\" hidden><div class=\"sk-item sk-dashed-wrapped\"><div class=\"sk-label-container\"><div class=\"sk-label sk-toggleable\"><input class=\"sk-toggleable__control sk-hidden--visually\" id=\"sk-estimator-id-6\" type=\"checkbox\" ><label for=\"sk-estimator-id-6\" class=\"sk-toggleable__label sk-toggleable__label-arrow\">ColumnTransformer</label><div class=\"sk-toggleable__content\"><pre>ColumnTransformer(remainder=&#x27;passthrough&#x27;,\n",
       "                  transformers=[(&#x27;pipeline-1&#x27;,\n",
       "                                 Pipeline(steps=[(&#x27;standardscaler&#x27;,\n",
       "                                                  StandardScaler())]),\n",
       "                                 [&#x27;T2MDEW&#x27;, &#x27;T2M_RANGE&#x27;]),\n",
       "                                (&#x27;pipeline-2&#x27;,\n",
       "                                 Pipeline(steps=[(&#x27;robustscaler&#x27;,\n",
       "                                                  RobustScaler())]),\n",
       "                                 [&#x27;T2M&#x27;, &#x27;T2MWET&#x27;, &#x27;TS&#x27;, &#x27;T2M_MAX&#x27;, &#x27;T2M_MIN&#x27;,\n",
       "                                  &#x27;QV2M&#x27;, &#x27;RH2M&#x27;, &#x27;PRECTOTCORR&#x27;, &#x27;PS&#x27;, &#x27;WS10M&#x27;,\n",
       "                                  &#x27;WS50M&#x27;])])</pre></div></div></div><div class=\"sk-parallel\"><div class=\"sk-parallel-item\"><div class=\"sk-item\"><div class=\"sk-label-container\"><div class=\"sk-label sk-toggleable\"><input class=\"sk-toggleable__control sk-hidden--visually\" id=\"sk-estimator-id-7\" type=\"checkbox\" ><label for=\"sk-estimator-id-7\" class=\"sk-toggleable__label sk-toggleable__label-arrow\">pipeline-1</label><div class=\"sk-toggleable__content\"><pre>[&#x27;T2MDEW&#x27;, &#x27;T2M_RANGE&#x27;]</pre></div></div></div><div class=\"sk-serial\"><div class=\"sk-item\"><div class=\"sk-serial\"><div class=\"sk-item\"><div class=\"sk-estimator sk-toggleable\"><input class=\"sk-toggleable__control sk-hidden--visually\" id=\"sk-estimator-id-8\" type=\"checkbox\" ><label for=\"sk-estimator-id-8\" class=\"sk-toggleable__label sk-toggleable__label-arrow\">StandardScaler</label><div class=\"sk-toggleable__content\"><pre>StandardScaler()</pre></div></div></div></div></div></div></div></div><div class=\"sk-parallel-item\"><div class=\"sk-item\"><div class=\"sk-label-container\"><div class=\"sk-label sk-toggleable\"><input class=\"sk-toggleable__control sk-hidden--visually\" id=\"sk-estimator-id-9\" type=\"checkbox\" ><label for=\"sk-estimator-id-9\" class=\"sk-toggleable__label sk-toggleable__label-arrow\">pipeline-2</label><div class=\"sk-toggleable__content\"><pre>[&#x27;T2M&#x27;, &#x27;T2MWET&#x27;, &#x27;TS&#x27;, &#x27;T2M_MAX&#x27;, &#x27;T2M_MIN&#x27;, &#x27;QV2M&#x27;, &#x27;RH2M&#x27;, &#x27;PRECTOTCORR&#x27;, &#x27;PS&#x27;, &#x27;WS10M&#x27;, &#x27;WS50M&#x27;]</pre></div></div></div><div class=\"sk-serial\"><div class=\"sk-item\"><div class=\"sk-serial\"><div class=\"sk-item\"><div class=\"sk-estimator sk-toggleable\"><input class=\"sk-toggleable__control sk-hidden--visually\" id=\"sk-estimator-id-10\" type=\"checkbox\" ><label for=\"sk-estimator-id-10\" class=\"sk-toggleable__label sk-toggleable__label-arrow\">RobustScaler</label><div class=\"sk-toggleable__content\"><pre>RobustScaler()</pre></div></div></div></div></div></div></div></div><div class=\"sk-parallel-item\"><div class=\"sk-item\"><div class=\"sk-label-container\"><div class=\"sk-label sk-toggleable\"><input class=\"sk-toggleable__control sk-hidden--visually\" id=\"sk-estimator-id-11\" type=\"checkbox\" ><label for=\"sk-estimator-id-11\" class=\"sk-toggleable__label sk-toggleable__label-arrow\">remainder</label><div class=\"sk-toggleable__content\"><pre></pre></div></div></div><div class=\"sk-serial\"><div class=\"sk-item\"><div class=\"sk-estimator sk-toggleable\"><input class=\"sk-toggleable__control sk-hidden--visually\" id=\"sk-estimator-id-12\" type=\"checkbox\" ><label for=\"sk-estimator-id-12\" class=\"sk-toggleable__label sk-toggleable__label-arrow\">passthrough</label><div class=\"sk-toggleable__content\"><pre>passthrough</pre></div></div></div></div></div></div></div></div></div></div>"
      ],
      "text/plain": [
       "ColumnTransformer(remainder='passthrough',\n",
       "                  transformers=[('pipeline-1',\n",
       "                                 Pipeline(steps=[('standardscaler',\n",
       "                                                  StandardScaler())]),\n",
       "                                 ['T2MDEW', 'T2M_RANGE']),\n",
       "                                ('pipeline-2',\n",
       "                                 Pipeline(steps=[('robustscaler',\n",
       "                                                  RobustScaler())]),\n",
       "                                 ['T2M', 'T2MWET', 'TS', 'T2M_MAX', 'T2M_MIN',\n",
       "                                  'QV2M', 'RH2M', 'PRECTOTCORR', 'PS', 'WS10M',\n",
       "                                  'WS50M'])])"
      ]
     },
     "execution_count": 19,
     "metadata": {},
     "output_type": "execute_result"
    }
   ],
   "source": [
    "preproc = make_column_transformer(\n",
    "    (preproc_StandardScaler, stand),\n",
    "    (preproc_RobustScaler, robus),\n",
    "    remainder=\"passthrough\")\n",
    "\n",
    "preproc\n",
    "\n"
   ]
  },
  {
   "cell_type": "code",
   "execution_count": 20,
   "id": "c5c45866",
   "metadata": {},
   "outputs": [],
   "source": [
    "#preproc.fit_transform(X).shape"
   ]
  },
  {
   "cell_type": "code",
   "execution_count": 21,
   "id": "737b11f0",
   "metadata": {},
   "outputs": [],
   "source": [
    "pipe_final_rf = make_pipeline(preproc, RandomForestRegressor())"
   ]
  },
  {
   "cell_type": "code",
   "execution_count": 22,
   "id": "a74a482c",
   "metadata": {},
   "outputs": [],
   "source": [
    "cv_result_rf = cross_val_score(pipe_final_rf, X, y, cv=5, scoring='neg_mean_absolute_percentage_error')"
   ]
  },
  {
   "cell_type": "code",
   "execution_count": 23,
   "id": "3592ccc2",
   "metadata": {},
   "outputs": [
    {
     "data": {
      "text/plain": [
       "array([-0.03451521, -0.03247743, -0.03180031, -0.05119136, -0.03664862])"
      ]
     },
     "execution_count": 23,
     "metadata": {},
     "output_type": "execute_result"
    }
   ],
   "source": [
    "cv_result_rf"
   ]
  },
  {
   "cell_type": "code",
   "execution_count": 24,
   "id": "e8a6dab3",
   "metadata": {},
   "outputs": [
    {
     "data": {
      "text/plain": [
       "-0.03732658428441522"
      ]
     },
     "execution_count": 24,
     "metadata": {},
     "output_type": "execute_result"
    }
   ],
   "source": [
    "cv_result_rf.mean()"
   ]
  },
  {
   "cell_type": "code",
   "execution_count": 25,
   "id": "6aecc234",
   "metadata": {},
   "outputs": [],
   "source": [
    "from sklearn.model_selection import RandomizedSearchCV, GridSearchCV"
   ]
  },
  {
   "cell_type": "code",
   "execution_count": 26,
   "id": "af876a05",
   "metadata": {},
   "outputs": [],
   "source": [
    "# Number of trees in random forest\n",
    "n_estimators = [int(x) for x in np.linspace(start = 280, stop = 340, num = 4)]\n",
    "# Number of features to consider at every split\n",
    "max_features = [2, 3] #['auto', 'sqrt']\n",
    "# Maximum number of levels in tree\n",
    "max_depth = [int(x) for x in np.linspace(70, 80, num = 3)]\n",
    "max_depth.append(None)\n",
    "# Minimum number of samples required to split a node\n",
    "min_samples_split = [5, 6, 7]\n",
    "# Minimum number of samples required at each leaf node\n",
    "min_samples_leaf = [5,6] \n",
    "# Method of selecting samples for training each tree\n",
    "#bootstrap = [True, False]"
   ]
  },
  {
   "cell_type": "code",
   "execution_count": 27,
   "id": "35c8ccdd",
   "metadata": {},
   "outputs": [],
   "source": [
    "grid = {'randomforestregressor__n_estimators': n_estimators,\n",
    "        'randomforestregressor__max_features': [1.0,0.8],\n",
    "        'randomforestregressor__max_depth': max_depth,\n",
    "        'randomforestregressor__min_samples_split': min_samples_split,\n",
    "        'randomforestregressor__min_samples_leaf': min_samples_leaf,\n",
    "               }\n",
    "\n",
    "\n"
   ]
  },
  {
   "cell_type": "raw",
   "id": "d9799016",
   "metadata": {},
   "source": [
    "'''\n",
    "\n",
    "{'randomforestregressor__max_depth': 75,\n",
    " 'randomforestregressor__min_samples_leaf': 6,\n",
    " 'randomforestregressor__min_samples_split': 5,\n",
    " 'randomforestregressor__n_estimators': 300}\n",
    "{'randomforestregressor__max_depth': 65,\n",
    " 'randomforestregressor__min_samples_leaf': 5,\n",
    " 'randomforestregressor__min_samples_split': 7,\n",
    " 'randomforestregressor__n_estimators': 250}\n",
    "\n",
    "randomforestregressor__bootstrap': True,\n",
    " 'randomforestregressor__ccp_alpha': 0.0,\n",
    " 'randomforestregressor__criterion': 'squared_error',\n",
    " 'randomforestregressor__max_depth': None,\n",
    " 'randomforestregressor__max_features': 1.0,\n",
    " 'randomforestregressor__max_leaf_nodes': None,\n",
    " 'randomforestregressor__max_samples': None,\n",
    " 'randomforestregressor__min_impurity_decrease': 0.0,\n",
    " 'randomforestregressor__min_samples_leaf': 1,\n",
    " 'randomforestregressor__min_samples_split': 2,\n",
    " 'randomforestregressor__min_weight_fraction_leaf': 0.0,\n",
    " 'randomforestregressor__n_estimators': 100,\n",
    " 'randomforestregressor__n_jobs': None,\n",
    " 'randomforestregressor__oob_score': False,\n",
    " 'randomforestregressor__random_state': None,\n",
    " 'randomforestregressor__verbose': 0,\n",
    " 'randomforestregressor__warm_start': False}\n",
    "'''"
   ]
  },
  {
   "cell_type": "code",
   "execution_count": 28,
   "id": "449fccaf",
   "metadata": {},
   "outputs": [
    {
     "data": {
      "text/html": [
       "<style>#sk-container-id-3 {color: black;background-color: white;}#sk-container-id-3 pre{padding: 0;}#sk-container-id-3 div.sk-toggleable {background-color: white;}#sk-container-id-3 label.sk-toggleable__label {cursor: pointer;display: block;width: 100%;margin-bottom: 0;padding: 0.3em;box-sizing: border-box;text-align: center;}#sk-container-id-3 label.sk-toggleable__label-arrow:before {content: \"▸\";float: left;margin-right: 0.25em;color: #696969;}#sk-container-id-3 label.sk-toggleable__label-arrow:hover:before {color: black;}#sk-container-id-3 div.sk-estimator:hover label.sk-toggleable__label-arrow:before {color: black;}#sk-container-id-3 div.sk-toggleable__content {max-height: 0;max-width: 0;overflow: hidden;text-align: left;background-color: #f0f8ff;}#sk-container-id-3 div.sk-toggleable__content pre {margin: 0.2em;color: black;border-radius: 0.25em;background-color: #f0f8ff;}#sk-container-id-3 input.sk-toggleable__control:checked~div.sk-toggleable__content {max-height: 200px;max-width: 100%;overflow: auto;}#sk-container-id-3 input.sk-toggleable__control:checked~label.sk-toggleable__label-arrow:before {content: \"▾\";}#sk-container-id-3 div.sk-estimator input.sk-toggleable__control:checked~label.sk-toggleable__label {background-color: #d4ebff;}#sk-container-id-3 div.sk-label input.sk-toggleable__control:checked~label.sk-toggleable__label {background-color: #d4ebff;}#sk-container-id-3 input.sk-hidden--visually {border: 0;clip: rect(1px 1px 1px 1px);clip: rect(1px, 1px, 1px, 1px);height: 1px;margin: -1px;overflow: hidden;padding: 0;position: absolute;width: 1px;}#sk-container-id-3 div.sk-estimator {font-family: monospace;background-color: #f0f8ff;border: 1px dotted black;border-radius: 0.25em;box-sizing: border-box;margin-bottom: 0.5em;}#sk-container-id-3 div.sk-estimator:hover {background-color: #d4ebff;}#sk-container-id-3 div.sk-parallel-item::after {content: \"\";width: 100%;border-bottom: 1px solid gray;flex-grow: 1;}#sk-container-id-3 div.sk-label:hover label.sk-toggleable__label {background-color: #d4ebff;}#sk-container-id-3 div.sk-serial::before {content: \"\";position: absolute;border-left: 1px solid gray;box-sizing: border-box;top: 0;bottom: 0;left: 50%;z-index: 0;}#sk-container-id-3 div.sk-serial {display: flex;flex-direction: column;align-items: center;background-color: white;padding-right: 0.2em;padding-left: 0.2em;position: relative;}#sk-container-id-3 div.sk-item {position: relative;z-index: 1;}#sk-container-id-3 div.sk-parallel {display: flex;align-items: stretch;justify-content: center;background-color: white;position: relative;}#sk-container-id-3 div.sk-item::before, #sk-container-id-3 div.sk-parallel-item::before {content: \"\";position: absolute;border-left: 1px solid gray;box-sizing: border-box;top: 0;bottom: 0;left: 50%;z-index: -1;}#sk-container-id-3 div.sk-parallel-item {display: flex;flex-direction: column;z-index: 1;position: relative;background-color: white;}#sk-container-id-3 div.sk-parallel-item:first-child::after {align-self: flex-end;width: 50%;}#sk-container-id-3 div.sk-parallel-item:last-child::after {align-self: flex-start;width: 50%;}#sk-container-id-3 div.sk-parallel-item:only-child::after {width: 0;}#sk-container-id-3 div.sk-dashed-wrapped {border: 1px dashed gray;margin: 0 0.4em 0.5em 0.4em;box-sizing: border-box;padding-bottom: 0.4em;background-color: white;}#sk-container-id-3 div.sk-label label {font-family: monospace;font-weight: bold;display: inline-block;line-height: 1.2em;}#sk-container-id-3 div.sk-label-container {text-align: center;}#sk-container-id-3 div.sk-container {/* jupyter's `normalize.less` sets `[hidden] { display: none; }` but bootstrap.min.css set `[hidden] { display: none !important; }` so we also need the `!important` here to be able to override the default hidden behavior on the sphinx rendered scikit-learn.org. See: https://github.com/scikit-learn/scikit-learn/issues/21755 */display: inline-block !important;position: relative;}#sk-container-id-3 div.sk-text-repr-fallback {display: none;}</style><div id=\"sk-container-id-3\" class=\"sk-top-container\"><div class=\"sk-text-repr-fallback\"><pre>Pipeline(steps=[(&#x27;columntransformer&#x27;,\n",
       "                 ColumnTransformer(remainder=&#x27;passthrough&#x27;,\n",
       "                                   transformers=[(&#x27;pipeline-1&#x27;,\n",
       "                                                  Pipeline(steps=[(&#x27;standardscaler&#x27;,\n",
       "                                                                   StandardScaler())]),\n",
       "                                                  [&#x27;T2MDEW&#x27;, &#x27;T2M_RANGE&#x27;]),\n",
       "                                                 (&#x27;pipeline-2&#x27;,\n",
       "                                                  Pipeline(steps=[(&#x27;robustscaler&#x27;,\n",
       "                                                                   RobustScaler())]),\n",
       "                                                  [&#x27;T2M&#x27;, &#x27;T2MWET&#x27;, &#x27;TS&#x27;,\n",
       "                                                   &#x27;T2M_MAX&#x27;, &#x27;T2M_MIN&#x27;, &#x27;QV2M&#x27;,\n",
       "                                                   &#x27;RH2M&#x27;, &#x27;PRECTOTCORR&#x27;, &#x27;PS&#x27;,\n",
       "                                                   &#x27;WS10M&#x27;, &#x27;WS50M&#x27;])])),\n",
       "                (&#x27;randomforestregressor&#x27;, RandomForestRegressor())])</pre><b>In a Jupyter environment, please rerun this cell to show the HTML representation or trust the notebook. <br />On GitHub, the HTML representation is unable to render, please try loading this page with nbviewer.org.</b></div><div class=\"sk-container\" hidden><div class=\"sk-item sk-dashed-wrapped\"><div class=\"sk-label-container\"><div class=\"sk-label sk-toggleable\"><input class=\"sk-toggleable__control sk-hidden--visually\" id=\"sk-estimator-id-13\" type=\"checkbox\" ><label for=\"sk-estimator-id-13\" class=\"sk-toggleable__label sk-toggleable__label-arrow\">Pipeline</label><div class=\"sk-toggleable__content\"><pre>Pipeline(steps=[(&#x27;columntransformer&#x27;,\n",
       "                 ColumnTransformer(remainder=&#x27;passthrough&#x27;,\n",
       "                                   transformers=[(&#x27;pipeline-1&#x27;,\n",
       "                                                  Pipeline(steps=[(&#x27;standardscaler&#x27;,\n",
       "                                                                   StandardScaler())]),\n",
       "                                                  [&#x27;T2MDEW&#x27;, &#x27;T2M_RANGE&#x27;]),\n",
       "                                                 (&#x27;pipeline-2&#x27;,\n",
       "                                                  Pipeline(steps=[(&#x27;robustscaler&#x27;,\n",
       "                                                                   RobustScaler())]),\n",
       "                                                  [&#x27;T2M&#x27;, &#x27;T2MWET&#x27;, &#x27;TS&#x27;,\n",
       "                                                   &#x27;T2M_MAX&#x27;, &#x27;T2M_MIN&#x27;, &#x27;QV2M&#x27;,\n",
       "                                                   &#x27;RH2M&#x27;, &#x27;PRECTOTCORR&#x27;, &#x27;PS&#x27;,\n",
       "                                                   &#x27;WS10M&#x27;, &#x27;WS50M&#x27;])])),\n",
       "                (&#x27;randomforestregressor&#x27;, RandomForestRegressor())])</pre></div></div></div><div class=\"sk-serial\"><div class=\"sk-item sk-dashed-wrapped\"><div class=\"sk-label-container\"><div class=\"sk-label sk-toggleable\"><input class=\"sk-toggleable__control sk-hidden--visually\" id=\"sk-estimator-id-14\" type=\"checkbox\" ><label for=\"sk-estimator-id-14\" class=\"sk-toggleable__label sk-toggleable__label-arrow\">columntransformer: ColumnTransformer</label><div class=\"sk-toggleable__content\"><pre>ColumnTransformer(remainder=&#x27;passthrough&#x27;,\n",
       "                  transformers=[(&#x27;pipeline-1&#x27;,\n",
       "                                 Pipeline(steps=[(&#x27;standardscaler&#x27;,\n",
       "                                                  StandardScaler())]),\n",
       "                                 [&#x27;T2MDEW&#x27;, &#x27;T2M_RANGE&#x27;]),\n",
       "                                (&#x27;pipeline-2&#x27;,\n",
       "                                 Pipeline(steps=[(&#x27;robustscaler&#x27;,\n",
       "                                                  RobustScaler())]),\n",
       "                                 [&#x27;T2M&#x27;, &#x27;T2MWET&#x27;, &#x27;TS&#x27;, &#x27;T2M_MAX&#x27;, &#x27;T2M_MIN&#x27;,\n",
       "                                  &#x27;QV2M&#x27;, &#x27;RH2M&#x27;, &#x27;PRECTOTCORR&#x27;, &#x27;PS&#x27;, &#x27;WS10M&#x27;,\n",
       "                                  &#x27;WS50M&#x27;])])</pre></div></div></div><div class=\"sk-parallel\"><div class=\"sk-parallel-item\"><div class=\"sk-item\"><div class=\"sk-label-container\"><div class=\"sk-label sk-toggleable\"><input class=\"sk-toggleable__control sk-hidden--visually\" id=\"sk-estimator-id-15\" type=\"checkbox\" ><label for=\"sk-estimator-id-15\" class=\"sk-toggleable__label sk-toggleable__label-arrow\">pipeline-1</label><div class=\"sk-toggleable__content\"><pre>[&#x27;T2MDEW&#x27;, &#x27;T2M_RANGE&#x27;]</pre></div></div></div><div class=\"sk-serial\"><div class=\"sk-item\"><div class=\"sk-serial\"><div class=\"sk-item\"><div class=\"sk-estimator sk-toggleable\"><input class=\"sk-toggleable__control sk-hidden--visually\" id=\"sk-estimator-id-16\" type=\"checkbox\" ><label for=\"sk-estimator-id-16\" class=\"sk-toggleable__label sk-toggleable__label-arrow\">StandardScaler</label><div class=\"sk-toggleable__content\"><pre>StandardScaler()</pre></div></div></div></div></div></div></div></div><div class=\"sk-parallel-item\"><div class=\"sk-item\"><div class=\"sk-label-container\"><div class=\"sk-label sk-toggleable\"><input class=\"sk-toggleable__control sk-hidden--visually\" id=\"sk-estimator-id-17\" type=\"checkbox\" ><label for=\"sk-estimator-id-17\" class=\"sk-toggleable__label sk-toggleable__label-arrow\">pipeline-2</label><div class=\"sk-toggleable__content\"><pre>[&#x27;T2M&#x27;, &#x27;T2MWET&#x27;, &#x27;TS&#x27;, &#x27;T2M_MAX&#x27;, &#x27;T2M_MIN&#x27;, &#x27;QV2M&#x27;, &#x27;RH2M&#x27;, &#x27;PRECTOTCORR&#x27;, &#x27;PS&#x27;, &#x27;WS10M&#x27;, &#x27;WS50M&#x27;]</pre></div></div></div><div class=\"sk-serial\"><div class=\"sk-item\"><div class=\"sk-serial\"><div class=\"sk-item\"><div class=\"sk-estimator sk-toggleable\"><input class=\"sk-toggleable__control sk-hidden--visually\" id=\"sk-estimator-id-18\" type=\"checkbox\" ><label for=\"sk-estimator-id-18\" class=\"sk-toggleable__label sk-toggleable__label-arrow\">RobustScaler</label><div class=\"sk-toggleable__content\"><pre>RobustScaler()</pre></div></div></div></div></div></div></div></div><div class=\"sk-parallel-item\"><div class=\"sk-item\"><div class=\"sk-label-container\"><div class=\"sk-label sk-toggleable\"><input class=\"sk-toggleable__control sk-hidden--visually\" id=\"sk-estimator-id-19\" type=\"checkbox\" ><label for=\"sk-estimator-id-19\" class=\"sk-toggleable__label sk-toggleable__label-arrow\">remainder</label><div class=\"sk-toggleable__content\"><pre></pre></div></div></div><div class=\"sk-serial\"><div class=\"sk-item\"><div class=\"sk-estimator sk-toggleable\"><input class=\"sk-toggleable__control sk-hidden--visually\" id=\"sk-estimator-id-20\" type=\"checkbox\" ><label for=\"sk-estimator-id-20\" class=\"sk-toggleable__label sk-toggleable__label-arrow\">passthrough</label><div class=\"sk-toggleable__content\"><pre>passthrough</pre></div></div></div></div></div></div></div></div><div class=\"sk-item\"><div class=\"sk-estimator sk-toggleable\"><input class=\"sk-toggleable__control sk-hidden--visually\" id=\"sk-estimator-id-21\" type=\"checkbox\" ><label for=\"sk-estimator-id-21\" class=\"sk-toggleable__label sk-toggleable__label-arrow\">RandomForestRegressor</label><div class=\"sk-toggleable__content\"><pre>RandomForestRegressor()</pre></div></div></div></div></div></div></div>"
      ],
      "text/plain": [
       "Pipeline(steps=[('columntransformer',\n",
       "                 ColumnTransformer(remainder='passthrough',\n",
       "                                   transformers=[('pipeline-1',\n",
       "                                                  Pipeline(steps=[('standardscaler',\n",
       "                                                                   StandardScaler())]),\n",
       "                                                  ['T2MDEW', 'T2M_RANGE']),\n",
       "                                                 ('pipeline-2',\n",
       "                                                  Pipeline(steps=[('robustscaler',\n",
       "                                                                   RobustScaler())]),\n",
       "                                                  ['T2M', 'T2MWET', 'TS',\n",
       "                                                   'T2M_MAX', 'T2M_MIN', 'QV2M',\n",
       "                                                   'RH2M', 'PRECTOTCORR', 'PS',\n",
       "                                                   'WS10M', 'WS50M'])])),\n",
       "                ('randomforestregressor', RandomForestRegressor())])"
      ]
     },
     "execution_count": 28,
     "metadata": {},
     "output_type": "execute_result"
    }
   ],
   "source": [
    "pipe_final_rf"
   ]
  },
  {
   "cell_type": "code",
   "execution_count": 29,
   "id": "40f5dfa3",
   "metadata": {},
   "outputs": [
    {
     "data": {
      "text/plain": [
       "{'randomforestregressor__n_estimators': [280, 300, 320, 340],\n",
       " 'randomforestregressor__max_features': [1.0, 0.8],\n",
       " 'randomforestregressor__max_depth': [70, 75, 80, None],\n",
       " 'randomforestregressor__min_samples_split': [5, 6, 7],\n",
       " 'randomforestregressor__min_samples_leaf': [5, 6]}"
      ]
     },
     "execution_count": 29,
     "metadata": {},
     "output_type": "execute_result"
    }
   ],
   "source": [
    "grid"
   ]
  },
  {
   "cell_type": "raw",
   "id": "1e103319",
   "metadata": {},
   "source": [
    "grid_search = GridSearchCV(estimator = pipe_final_rf, param_grid = grid, \n",
    "                          cv = 3, n_jobs = -1, verbose = 1, scoring ='neg_mean_absolute_percentage_error')"
   ]
  },
  {
   "cell_type": "raw",
   "id": "0c203a25",
   "metadata": {},
   "source": [
    "grid_search.fit(X, y)"
   ]
  },
  {
   "cell_type": "code",
   "execution_count": 30,
   "id": "4755cd25",
   "metadata": {},
   "outputs": [],
   "source": [
    "#grid_search.get_params()"
   ]
  },
  {
   "cell_type": "raw",
   "id": "4a09f05b",
   "metadata": {},
   "source": [
    "grid_search.best_score_"
   ]
  },
  {
   "cell_type": "raw",
   "id": "e0232f8d",
   "metadata": {},
   "source": [
    "grid_search.best_params_"
   ]
  },
  {
   "cell_type": "code",
   "execution_count": null,
   "id": "0e2b914e",
   "metadata": {},
   "outputs": [],
   "source": []
  },
  {
   "cell_type": "code",
   "execution_count": null,
   "id": "8e0acdd0",
   "metadata": {},
   "outputs": [],
   "source": []
  },
  {
   "cell_type": "code",
   "execution_count": null,
   "id": "a321143f",
   "metadata": {},
   "outputs": [],
   "source": []
  },
  {
   "cell_type": "code",
   "execution_count": null,
   "id": "06582823",
   "metadata": {},
   "outputs": [],
   "source": []
  },
  {
   "cell_type": "code",
   "execution_count": null,
   "id": "dfbda9e7",
   "metadata": {},
   "outputs": [],
   "source": []
  },
  {
   "cell_type": "raw",
   "id": "8a4484cd",
   "metadata": {},
   "source": [
    "rf_random.best_params_"
   ]
  },
  {
   "cell_type": "code",
   "execution_count": 32,
   "id": "f05812c5",
   "metadata": {},
   "outputs": [
    {
     "data": {
      "text/plain": [
       "\"\\n{'n_estimators': [1800],\\n 'min_samples_split': [2],\\n 'min_samples_leaf': [2],\\n 'max_features': ['auto'],\\n 'max_depth': [80],\\n 'bootstrap': True}\\n\""
      ]
     },
     "execution_count": 32,
     "metadata": {},
     "output_type": "execute_result"
    }
   ],
   "source": [
    "'''\n",
    "{'n_estimators': [1800],\n",
    " 'min_samples_split': [2],\n",
    " 'min_samples_leaf': [2],\n",
    " 'max_features': ['auto'],\n",
    " 'max_depth': [80],\n",
    " 'bootstrap': True}\n",
    "'''"
   ]
  },
  {
   "cell_type": "raw",
   "id": "3f7f13d9",
   "metadata": {},
   "source": [
    "from sklearn.model_selection import train_test_split"
   ]
  },
  {
   "cell_type": "raw",
   "id": "9a592be7",
   "metadata": {},
   "source": [
    "#pipe_baseline.fit(X,y)\n",
    "#X_train, X_test, y_train, y_test = train_test_split(X, y, test_size=0.1, random_state=42)"
   ]
  },
  {
   "cell_type": "raw",
   "id": "155ffb9b",
   "metadata": {},
   "source": [
    "#pipe_baseline.fit(X,y)\n",
    "y_pred_baseline = pipe_baseline.predict(X)\n",
    "y_pred_baseline.shape"
   ]
  },
  {
   "cell_type": "raw",
   "id": "c2be1651",
   "metadata": {},
   "source": [
    "cv_results"
   ]
  },
  {
   "cell_type": "raw",
   "id": "e5a99722",
   "metadata": {},
   "source": [
    "from tempfile import mkdtemp\n",
    "from shutil import rmtree\n",
    "cachedir = mkdtemp()"
   ]
  },
  {
   "cell_type": "raw",
   "id": "28ac6b65",
   "metadata": {},
   "source": [
    "from sklearn.metrics import mean_squared_error\n",
    "from sklearn.metrics import mean_squared_log_error\n",
    "from sklearn.metrics import make_scorer\n",
    "\n"
   ]
  },
  {
   "cell_type": "raw",
   "id": "442857bb",
   "metadata": {},
   "source": [
    "\n",
    "preproc = make_column_transformer(\n",
    "    (preproc_StandardScaler, stand),\n",
    "    (preproc_RobustScaler, robus),\n",
    "    remainder=\"drop\")\n",
    "\n",
    "preproc"
   ]
  },
  {
   "cell_type": "raw",
   "id": "d186bba4",
   "metadata": {},
   "source": [
    "model = RandomForestRegressor(max_depth=50,min_samples_leaf=20)\n",
    "pipe = make_pipeline(preproc, model, memory=cachedir)\n",
    "score = cross_val_score(pipe, X, y, cv=5, scoring=rmse)\n",
    "print(score.std())\n",
    "score.mean()"
   ]
  },
  {
   "cell_type": "raw",
   "id": "6a117ae2",
   "metadata": {},
   "source": [
    "y_test_plot = y_test.to_numpy()\n",
    "y_test_plot"
   ]
  },
  {
   "cell_type": "raw",
   "id": "90960598",
   "metadata": {},
   "source": [
    "y_pred_baseline"
   ]
  },
  {
   "cell_type": "raw",
   "id": "45bf2be5",
   "metadata": {},
   "source": [
    "plt.figure()#figsize=(10,6)\n",
    "plt.plot(y_test, color='blue', label='consommation réel')\n",
    "plt.plot(y_pred_baseline, color='red', label='prédiction de consommation')\n",
    "plt.title('Prédiction de consommation')\n",
    "plt.xlabel('Date')\n",
    "plt.ylabel('Consommation')\n",
    "plt.legend()\n",
    "plt.show()"
   ]
  },
  {
   "cell_type": "code",
   "execution_count": null,
   "id": "0baf5136",
   "metadata": {},
   "outputs": [],
   "source": []
  },
  {
   "cell_type": "code",
   "execution_count": 33,
   "id": "5b3f3142",
   "metadata": {},
   "outputs": [],
   "source": [
    "from xgboost import XGBRegressor"
   ]
  },
  {
   "cell_type": "code",
   "execution_count": 34,
   "id": "1cd8bc5a",
   "metadata": {},
   "outputs": [],
   "source": [
    "#pipe_final_xgb = make_pipeline(preproc, XGBRegressor(learning_rate=0.02, n_estimators=600, objective='binary:logistic',\n",
    "                    #nthread=1))\n",
    "    \n",
    "#xgb_test = XGBRegressor(max_depth=10, n_estimators=300, learning_rate=0.1)\n",
    "xgb_test = XGBRegressor(max_depth=12, n_estimators=300, learning_rate=0.1)\n",
    "\n",
    "pipe_final_xgb_test = make_pipeline(preproc, xgb_test)"
   ]
  },
  {
   "cell_type": "code",
   "execution_count": 35,
   "id": "fd37b6a3",
   "metadata": {},
   "outputs": [
    {
     "data": {
      "text/plain": [
       "{'memory': None,\n",
       " 'steps': [('columntransformer',\n",
       "   ColumnTransformer(remainder='passthrough',\n",
       "                     transformers=[('pipeline-1',\n",
       "                                    Pipeline(steps=[('standardscaler',\n",
       "                                                     StandardScaler())]),\n",
       "                                    ['T2MDEW', 'T2M_RANGE']),\n",
       "                                   ('pipeline-2',\n",
       "                                    Pipeline(steps=[('robustscaler',\n",
       "                                                     RobustScaler())]),\n",
       "                                    ['T2M', 'T2MWET', 'TS', 'T2M_MAX', 'T2M_MIN',\n",
       "                                     'QV2M', 'RH2M', 'PRECTOTCORR', 'PS', 'WS10M',\n",
       "                                     'WS50M'])])),\n",
       "  ('xgbregressor',\n",
       "   XGBRegressor(base_score=None, booster=None, callbacks=None,\n",
       "                colsample_bylevel=None, colsample_bynode=None,\n",
       "                colsample_bytree=None, early_stopping_rounds=None,\n",
       "                enable_categorical=False, eval_metric=None, gamma=None,\n",
       "                gpu_id=None, grow_policy=None, importance_type=None,\n",
       "                interaction_constraints=None, learning_rate=0.1, max_bin=None,\n",
       "                max_cat_to_onehot=None, max_delta_step=None, max_depth=12,\n",
       "                max_leaves=None, min_child_weight=None, missing=nan,\n",
       "                monotone_constraints=None, n_estimators=300, n_jobs=None,\n",
       "                num_parallel_tree=None, predictor=None, random_state=None,\n",
       "                reg_alpha=None, reg_lambda=None, ...))],\n",
       " 'verbose': False,\n",
       " 'columntransformer': ColumnTransformer(remainder='passthrough',\n",
       "                   transformers=[('pipeline-1',\n",
       "                                  Pipeline(steps=[('standardscaler',\n",
       "                                                   StandardScaler())]),\n",
       "                                  ['T2MDEW', 'T2M_RANGE']),\n",
       "                                 ('pipeline-2',\n",
       "                                  Pipeline(steps=[('robustscaler',\n",
       "                                                   RobustScaler())]),\n",
       "                                  ['T2M', 'T2MWET', 'TS', 'T2M_MAX', 'T2M_MIN',\n",
       "                                   'QV2M', 'RH2M', 'PRECTOTCORR', 'PS', 'WS10M',\n",
       "                                   'WS50M'])]),\n",
       " 'xgbregressor': XGBRegressor(base_score=None, booster=None, callbacks=None,\n",
       "              colsample_bylevel=None, colsample_bynode=None,\n",
       "              colsample_bytree=None, early_stopping_rounds=None,\n",
       "              enable_categorical=False, eval_metric=None, gamma=None,\n",
       "              gpu_id=None, grow_policy=None, importance_type=None,\n",
       "              interaction_constraints=None, learning_rate=0.1, max_bin=None,\n",
       "              max_cat_to_onehot=None, max_delta_step=None, max_depth=12,\n",
       "              max_leaves=None, min_child_weight=None, missing=nan,\n",
       "              monotone_constraints=None, n_estimators=300, n_jobs=None,\n",
       "              num_parallel_tree=None, predictor=None, random_state=None,\n",
       "              reg_alpha=None, reg_lambda=None, ...),\n",
       " 'columntransformer__n_jobs': None,\n",
       " 'columntransformer__remainder': 'passthrough',\n",
       " 'columntransformer__sparse_threshold': 0.3,\n",
       " 'columntransformer__transformer_weights': None,\n",
       " 'columntransformer__transformers': [('pipeline-1',\n",
       "   Pipeline(steps=[('standardscaler', StandardScaler())]),\n",
       "   ['T2MDEW', 'T2M_RANGE']),\n",
       "  ('pipeline-2',\n",
       "   Pipeline(steps=[('robustscaler', RobustScaler())]),\n",
       "   ['T2M',\n",
       "    'T2MWET',\n",
       "    'TS',\n",
       "    'T2M_MAX',\n",
       "    'T2M_MIN',\n",
       "    'QV2M',\n",
       "    'RH2M',\n",
       "    'PRECTOTCORR',\n",
       "    'PS',\n",
       "    'WS10M',\n",
       "    'WS50M'])],\n",
       " 'columntransformer__verbose': False,\n",
       " 'columntransformer__verbose_feature_names_out': True,\n",
       " 'columntransformer__pipeline-1': Pipeline(steps=[('standardscaler', StandardScaler())]),\n",
       " 'columntransformer__pipeline-2': Pipeline(steps=[('robustscaler', RobustScaler())]),\n",
       " 'columntransformer__pipeline-1__memory': None,\n",
       " 'columntransformer__pipeline-1__steps': [('standardscaler',\n",
       "   StandardScaler())],\n",
       " 'columntransformer__pipeline-1__verbose': False,\n",
       " 'columntransformer__pipeline-1__standardscaler': StandardScaler(),\n",
       " 'columntransformer__pipeline-1__standardscaler__copy': True,\n",
       " 'columntransformer__pipeline-1__standardscaler__with_mean': True,\n",
       " 'columntransformer__pipeline-1__standardscaler__with_std': True,\n",
       " 'columntransformer__pipeline-2__memory': None,\n",
       " 'columntransformer__pipeline-2__steps': [('robustscaler', RobustScaler())],\n",
       " 'columntransformer__pipeline-2__verbose': False,\n",
       " 'columntransformer__pipeline-2__robustscaler': RobustScaler(),\n",
       " 'columntransformer__pipeline-2__robustscaler__copy': True,\n",
       " 'columntransformer__pipeline-2__robustscaler__quantile_range': (25.0, 75.0),\n",
       " 'columntransformer__pipeline-2__robustscaler__unit_variance': False,\n",
       " 'columntransformer__pipeline-2__robustscaler__with_centering': True,\n",
       " 'columntransformer__pipeline-2__robustscaler__with_scaling': True,\n",
       " 'xgbregressor__objective': 'reg:squarederror',\n",
       " 'xgbregressor__base_score': None,\n",
       " 'xgbregressor__booster': None,\n",
       " 'xgbregressor__callbacks': None,\n",
       " 'xgbregressor__colsample_bylevel': None,\n",
       " 'xgbregressor__colsample_bynode': None,\n",
       " 'xgbregressor__colsample_bytree': None,\n",
       " 'xgbregressor__early_stopping_rounds': None,\n",
       " 'xgbregressor__enable_categorical': False,\n",
       " 'xgbregressor__eval_metric': None,\n",
       " 'xgbregressor__gamma': None,\n",
       " 'xgbregressor__gpu_id': None,\n",
       " 'xgbregressor__grow_policy': None,\n",
       " 'xgbregressor__importance_type': None,\n",
       " 'xgbregressor__interaction_constraints': None,\n",
       " 'xgbregressor__learning_rate': 0.1,\n",
       " 'xgbregressor__max_bin': None,\n",
       " 'xgbregressor__max_cat_to_onehot': None,\n",
       " 'xgbregressor__max_delta_step': None,\n",
       " 'xgbregressor__max_depth': 12,\n",
       " 'xgbregressor__max_leaves': None,\n",
       " 'xgbregressor__min_child_weight': None,\n",
       " 'xgbregressor__missing': nan,\n",
       " 'xgbregressor__monotone_constraints': None,\n",
       " 'xgbregressor__n_estimators': 300,\n",
       " 'xgbregressor__n_jobs': None,\n",
       " 'xgbregressor__num_parallel_tree': None,\n",
       " 'xgbregressor__predictor': None,\n",
       " 'xgbregressor__random_state': None,\n",
       " 'xgbregressor__reg_alpha': None,\n",
       " 'xgbregressor__reg_lambda': None,\n",
       " 'xgbregressor__sampling_method': None,\n",
       " 'xgbregressor__scale_pos_weight': None,\n",
       " 'xgbregressor__subsample': None,\n",
       " 'xgbregressor__tree_method': None,\n",
       " 'xgbregressor__validate_parameters': None,\n",
       " 'xgbregressor__verbosity': None}"
      ]
     },
     "execution_count": 35,
     "metadata": {},
     "output_type": "execute_result"
    }
   ],
   "source": [
    "pipe_final_xgb_test.get_params()"
   ]
  },
  {
   "cell_type": "code",
   "execution_count": 36,
   "id": "12d8a409",
   "metadata": {},
   "outputs": [],
   "source": [
    "cv_result_xgb = cross_val_score(pipe_final_xgb_test, X, y, cv=5, scoring='neg_mean_absolute_percentage_error',error_score='raise')"
   ]
  },
  {
   "cell_type": "code",
   "execution_count": 37,
   "id": "447ccfc7",
   "metadata": {},
   "outputs": [
    {
     "data": {
      "text/plain": [
       "array([-0.03432967, -0.03251306, -0.03258455, -0.04860132, -0.03451478])"
      ]
     },
     "execution_count": 37,
     "metadata": {},
     "output_type": "execute_result"
    }
   ],
   "source": [
    "cv_result_xgb"
   ]
  },
  {
   "cell_type": "code",
   "execution_count": 38,
   "id": "ea4358e1",
   "metadata": {},
   "outputs": [],
   "source": [
    "params = {\n",
    "        'xgbregressor__min_child_weight': [6,7,8],\n",
    "        'xgbregressor__gamma': [0.1,0.2],\n",
    "        'xgbregressor__subsample': [0.8],\n",
    "        'xgbregressor__colsample_bytree': [1.0],\n",
    "        'xgbregressor__n_estimators': [50,100, 150],\n",
    "        'xgbregressor__max_depth': [16,18,20]\n",
    "        }"
   ]
  },
  {
   "cell_type": "raw",
   "id": "ef45cb35",
   "metadata": {},
   "source": [
    "grid_search_xgb = GridSearchCV(estimator = pipe_final_xgb_test, param_grid = params, \n",
    "                          cv = 3, n_jobs = -1, verbose = 5, scoring ='neg_mean_absolute_percentage_error')"
   ]
  },
  {
   "cell_type": "code",
   "execution_count": null,
   "id": "d67fc019",
   "metadata": {},
   "outputs": [],
   "source": []
  },
  {
   "cell_type": "raw",
   "id": "4543b770",
   "metadata": {},
   "source": [
    "grid_search_xgb.fit(X, y)"
   ]
  },
  {
   "cell_type": "raw",
   "id": "ea173f1b",
   "metadata": {},
   "source": [
    "grid_search_xgb.best_params_"
   ]
  },
  {
   "cell_type": "code",
   "execution_count": 39,
   "id": "0f23ffa7",
   "metadata": {},
   "outputs": [
    {
     "data": {
      "text/plain": [
       "\"\\n{'xgbregressor__colsample_bytree': 1.0,\\n 'xgbregressor__gamma': 0.2,\\n 'xgbregressor__max_depth': 16,\\n 'xgbregressor__min_child_weight': 6,\\n 'xgbregressor__n_estimators': 100,\\n 'xgbregressor__subsample': 0.8}\""
      ]
     },
     "execution_count": 39,
     "metadata": {},
     "output_type": "execute_result"
    }
   ],
   "source": [
    "'''\n",
    "{'xgbregressor__colsample_bytree': 1.0,\n",
    " 'xgbregressor__gamma': 0.2,\n",
    " 'xgbregressor__max_depth': 16,\n",
    " 'xgbregressor__min_child_weight': 6,\n",
    " 'xgbregressor__n_estimators': 100,\n",
    " 'xgbregressor__subsample': 0.8}'''"
   ]
  },
  {
   "cell_type": "raw",
   "id": "66579acd",
   "metadata": {},
   "source": [
    "grid_search_xgb.best_score_"
   ]
  },
  {
   "cell_type": "code",
   "execution_count": 40,
   "id": "72e5c63d",
   "metadata": {},
   "outputs": [],
   "source": [
    "# -0.03595265869360382 / -0.035882640044610004"
   ]
  },
  {
   "cell_type": "code",
   "execution_count": null,
   "id": "012c0eca",
   "metadata": {},
   "outputs": [],
   "source": []
  },
  {
   "cell_type": "code",
   "execution_count": null,
   "id": "63490a9e",
   "metadata": {},
   "outputs": [],
   "source": []
  },
  {
   "cell_type": "markdown",
   "id": "ebd804b9",
   "metadata": {},
   "source": [
    "# test sur un an"
   ]
  },
  {
   "cell_type": "code",
   "execution_count": 52,
   "id": "408fd6d2",
   "metadata": {},
   "outputs": [],
   "source": [
    "#df = df[ (df[\"Date\"] <= 31) & (df[\"day\"].isnull() == False) ]\n",
    "df_train = df[ (df[\"Date\"] <= '2020-12-31')]\n",
    "df_test = df[ (df[\"Date\"] > '2020-12-31') & (df[\"Date\"] <= '2021-12-31')]"
   ]
  },
  {
   "cell_type": "code",
   "execution_count": 53,
   "id": "b58850ba",
   "metadata": {},
   "outputs": [],
   "source": [
    "df_train = df[ (df[\"Date\"] <= '2020-12-31')]\n",
    "df_test = df[ (df[\"Date\"] > '2020-12-31') & (df[\"Date\"] <= '2021-12-31')]"
   ]
  },
  {
   "cell_type": "code",
   "execution_count": 54,
   "id": "0124f840",
   "metadata": {},
   "outputs": [],
   "source": [
    "X_train = df_train.drop(columns=['Date', 'Code INSEE région', 'Consommation (MW)', 'Thermique (MW)',\n",
    "       'Nucléaire (MW)', 'Eolien (MW)', 'Solaire (MW)', 'Hydraulique (MW)',\n",
    "       'Pompage (MW)', 'Bioénergies (MW)', 'Ech. physiques (MW)',\n",
    "       'Stockage batterie', 'Déstockage batterie', 'Eolien terrestre',\n",
    "       'Eolien offshore', 'TCO Thermique (%)', 'TCH Thermique (%)',\n",
    "       'TCO Nucléaire (%)', 'TCH Nucléaire (%)', 'TCO Eolien (%)',\n",
    "       'TCH Eolien (%)', 'TCO Solaire (%)', 'TCH Solaire (%)', 'Column 30','YEAR', 'MONTH', 'DAY', 'season', 'num_day'])\n",
    "\n",
    "y_train = df_train['Consommation (MW)']"
   ]
  },
  {
   "cell_type": "code",
   "execution_count": 55,
   "id": "5738bc80",
   "metadata": {},
   "outputs": [],
   "source": [
    "X_test = df_test.drop(columns=['Date', 'Code INSEE région', 'Consommation (MW)', 'Thermique (MW)',\n",
    "       'Nucléaire (MW)', 'Eolien (MW)', 'Solaire (MW)', 'Hydraulique (MW)',\n",
    "       'Pompage (MW)', 'Bioénergies (MW)', 'Ech. physiques (MW)',\n",
    "       'Stockage batterie', 'Déstockage batterie', 'Eolien terrestre',\n",
    "       'Eolien offshore', 'TCO Thermique (%)', 'TCH Thermique (%)',\n",
    "       'TCO Nucléaire (%)', 'TCH Nucléaire (%)', 'TCO Eolien (%)',\n",
    "       'TCH Eolien (%)', 'TCO Solaire (%)', 'TCH Solaire (%)', 'Column 30','YEAR', 'MONTH', 'DAY', 'season', 'num_day'])\n",
    "\n",
    "y_test = df_test['Consommation (MW)']"
   ]
  },
  {
   "cell_type": "code",
   "execution_count": 56,
   "id": "0b46bbc6",
   "metadata": {},
   "outputs": [],
   "source": [
    "best_params = {'xgbregressor__colsample_bytree': 1.0,\n",
    "                 'xgbregressor__gamma': 0.1,\n",
    "                 'xgbregressor__max_depth': 16,\n",
    "                 'xgbregressor__min_child_weight': 6,\n",
    "                 'xgbregressor__n_estimators': 100,\n",
    "                 'xgbregressor__subsample': 0.8}"
   ]
  },
  {
   "cell_type": "code",
   "execution_count": 57,
   "id": "dc075906",
   "metadata": {},
   "outputs": [],
   "source": [
    "X_train_preproc = preproc.fit_transform(X_train, y_train)\n",
    "X_test_preproc = preproc.transform(X_test)"
   ]
  },
  {
   "cell_type": "code",
   "execution_count": 58,
   "id": "5b069008",
   "metadata": {},
   "outputs": [
    {
     "data": {
      "text/plain": [
       "array([-0.38293916, -1.49960992, -0.53641428, -0.45818182, -0.50572985,\n",
       "       -0.70701462, -0.47783138, -0.27683616,  0.86088481,  8.6023166 ,\n",
       "       -0.12543554, -0.11881188,  0.03053435,  0.5       ,  0.8660254 ,\n",
       "        1.        ,  0.78183148,  0.6234898 ,  1.        ,  1.        ,\n",
       "        0.01720158,  0.99985204,  0.03439806,  0.99940821,  0.06875541,\n",
       "        0.99763355])"
      ]
     },
     "execution_count": 58,
     "metadata": {},
     "output_type": "execute_result"
    }
   ],
   "source": [
    "X_train_preproc[0]"
   ]
  },
  {
   "cell_type": "code",
   "execution_count": 59,
   "id": "66dfa041",
   "metadata": {},
   "outputs": [
    {
     "data": {
      "text/html": [
       "<style>#sk-container-id-5 {color: black;background-color: white;}#sk-container-id-5 pre{padding: 0;}#sk-container-id-5 div.sk-toggleable {background-color: white;}#sk-container-id-5 label.sk-toggleable__label {cursor: pointer;display: block;width: 100%;margin-bottom: 0;padding: 0.3em;box-sizing: border-box;text-align: center;}#sk-container-id-5 label.sk-toggleable__label-arrow:before {content: \"▸\";float: left;margin-right: 0.25em;color: #696969;}#sk-container-id-5 label.sk-toggleable__label-arrow:hover:before {color: black;}#sk-container-id-5 div.sk-estimator:hover label.sk-toggleable__label-arrow:before {color: black;}#sk-container-id-5 div.sk-toggleable__content {max-height: 0;max-width: 0;overflow: hidden;text-align: left;background-color: #f0f8ff;}#sk-container-id-5 div.sk-toggleable__content pre {margin: 0.2em;color: black;border-radius: 0.25em;background-color: #f0f8ff;}#sk-container-id-5 input.sk-toggleable__control:checked~div.sk-toggleable__content {max-height: 200px;max-width: 100%;overflow: auto;}#sk-container-id-5 input.sk-toggleable__control:checked~label.sk-toggleable__label-arrow:before {content: \"▾\";}#sk-container-id-5 div.sk-estimator input.sk-toggleable__control:checked~label.sk-toggleable__label {background-color: #d4ebff;}#sk-container-id-5 div.sk-label input.sk-toggleable__control:checked~label.sk-toggleable__label {background-color: #d4ebff;}#sk-container-id-5 input.sk-hidden--visually {border: 0;clip: rect(1px 1px 1px 1px);clip: rect(1px, 1px, 1px, 1px);height: 1px;margin: -1px;overflow: hidden;padding: 0;position: absolute;width: 1px;}#sk-container-id-5 div.sk-estimator {font-family: monospace;background-color: #f0f8ff;border: 1px dotted black;border-radius: 0.25em;box-sizing: border-box;margin-bottom: 0.5em;}#sk-container-id-5 div.sk-estimator:hover {background-color: #d4ebff;}#sk-container-id-5 div.sk-parallel-item::after {content: \"\";width: 100%;border-bottom: 1px solid gray;flex-grow: 1;}#sk-container-id-5 div.sk-label:hover label.sk-toggleable__label {background-color: #d4ebff;}#sk-container-id-5 div.sk-serial::before {content: \"\";position: absolute;border-left: 1px solid gray;box-sizing: border-box;top: 0;bottom: 0;left: 50%;z-index: 0;}#sk-container-id-5 div.sk-serial {display: flex;flex-direction: column;align-items: center;background-color: white;padding-right: 0.2em;padding-left: 0.2em;position: relative;}#sk-container-id-5 div.sk-item {position: relative;z-index: 1;}#sk-container-id-5 div.sk-parallel {display: flex;align-items: stretch;justify-content: center;background-color: white;position: relative;}#sk-container-id-5 div.sk-item::before, #sk-container-id-5 div.sk-parallel-item::before {content: \"\";position: absolute;border-left: 1px solid gray;box-sizing: border-box;top: 0;bottom: 0;left: 50%;z-index: -1;}#sk-container-id-5 div.sk-parallel-item {display: flex;flex-direction: column;z-index: 1;position: relative;background-color: white;}#sk-container-id-5 div.sk-parallel-item:first-child::after {align-self: flex-end;width: 50%;}#sk-container-id-5 div.sk-parallel-item:last-child::after {align-self: flex-start;width: 50%;}#sk-container-id-5 div.sk-parallel-item:only-child::after {width: 0;}#sk-container-id-5 div.sk-dashed-wrapped {border: 1px dashed gray;margin: 0 0.4em 0.5em 0.4em;box-sizing: border-box;padding-bottom: 0.4em;background-color: white;}#sk-container-id-5 div.sk-label label {font-family: monospace;font-weight: bold;display: inline-block;line-height: 1.2em;}#sk-container-id-5 div.sk-label-container {text-align: center;}#sk-container-id-5 div.sk-container {/* jupyter's `normalize.less` sets `[hidden] { display: none; }` but bootstrap.min.css set `[hidden] { display: none !important; }` so we also need the `!important` here to be able to override the default hidden behavior on the sphinx rendered scikit-learn.org. See: https://github.com/scikit-learn/scikit-learn/issues/21755 */display: inline-block !important;position: relative;}#sk-container-id-5 div.sk-text-repr-fallback {display: none;}</style><div id=\"sk-container-id-5\" class=\"sk-top-container\"><div class=\"sk-text-repr-fallback\"><pre>XGBRegressor(base_score=0.5, booster=&#x27;gbtree&#x27;, callbacks=None,\n",
       "             colsample_bylevel=1, colsample_bynode=1, colsample_bytree=1,\n",
       "             early_stopping_rounds=None, enable_categorical=False,\n",
       "             eval_metric=None, gamma=0.1, gpu_id=-1, grow_policy=&#x27;depthwise&#x27;,\n",
       "             importance_type=None, interaction_constraints=&#x27;&#x27;,\n",
       "             learning_rate=0.1, max_bin=256, max_cat_to_onehot=4,\n",
       "             max_delta_step=0, max_depth=16, max_leaves=0, min_child_weight=6,\n",
       "             missing=nan, monotone_constraints=&#x27;()&#x27;, n_estimators=100, n_jobs=0,\n",
       "             num_parallel_tree=1, predictor=&#x27;auto&#x27;, random_state=0, reg_alpha=0,\n",
       "             reg_lambda=1, ...)</pre><b>In a Jupyter environment, please rerun this cell to show the HTML representation or trust the notebook. <br />On GitHub, the HTML representation is unable to render, please try loading this page with nbviewer.org.</b></div><div class=\"sk-container\" hidden><div class=\"sk-item\"><div class=\"sk-estimator sk-toggleable\"><input class=\"sk-toggleable__control sk-hidden--visually\" id=\"sk-estimator-id-23\" type=\"checkbox\" checked><label for=\"sk-estimator-id-23\" class=\"sk-toggleable__label sk-toggleable__label-arrow\">XGBRegressor</label><div class=\"sk-toggleable__content\"><pre>XGBRegressor(base_score=0.5, booster=&#x27;gbtree&#x27;, callbacks=None,\n",
       "             colsample_bylevel=1, colsample_bynode=1, colsample_bytree=1,\n",
       "             early_stopping_rounds=None, enable_categorical=False,\n",
       "             eval_metric=None, gamma=0.1, gpu_id=-1, grow_policy=&#x27;depthwise&#x27;,\n",
       "             importance_type=None, interaction_constraints=&#x27;&#x27;,\n",
       "             learning_rate=0.1, max_bin=256, max_cat_to_onehot=4,\n",
       "             max_delta_step=0, max_depth=16, max_leaves=0, min_child_weight=6,\n",
       "             missing=nan, monotone_constraints=&#x27;()&#x27;, n_estimators=100, n_jobs=0,\n",
       "             num_parallel_tree=1, predictor=&#x27;auto&#x27;, random_state=0, reg_alpha=0,\n",
       "             reg_lambda=1, ...)</pre></div></div></div></div></div>"
      ],
      "text/plain": [
       "XGBRegressor(base_score=0.5, booster='gbtree', callbacks=None,\n",
       "             colsample_bylevel=1, colsample_bynode=1, colsample_bytree=1,\n",
       "             early_stopping_rounds=None, enable_categorical=False,\n",
       "             eval_metric=None, gamma=0.1, gpu_id=-1, grow_policy='depthwise',\n",
       "             importance_type=None, interaction_constraints='',\n",
       "             learning_rate=0.1, max_bin=256, max_cat_to_onehot=4,\n",
       "             max_delta_step=0, max_depth=16, max_leaves=0, min_child_weight=6,\n",
       "             missing=nan, monotone_constraints='()', n_estimators=100, n_jobs=0,\n",
       "             num_parallel_tree=1, predictor='auto', random_state=0, reg_alpha=0,\n",
       "             reg_lambda=1, ...)"
      ]
     },
     "execution_count": 59,
     "metadata": {},
     "output_type": "execute_result"
    }
   ],
   "source": [
    "'''\n",
    "model_xgb.fit(X_train_preproc, y_train,\n",
    "        )verbose=False,\n",
    "        eval_set=[(X_train_preproc, y_train), (X_eval_preproc, y_eval_log)],\n",
    "        eval_metric=[\"rmse\"],\n",
    "        early_stopping_rounds=10)\n",
    "\n",
    "\n",
    "model_xgb = (estimator = pipe_final_xgb_test, param_grid = best_params, \n",
    "                          cv = 5, n_jobs = -1, verbose = 5, scoring ='neg_mean_absolute_percentage_error')\n",
    "'''\n",
    "#model_xgb = XGBRegressor(parameters = best_params, learning_rate=0.1)\n",
    "\n",
    "\n",
    "# 'xgbregressor__subsample': 0.8 <---- ?????\n",
    "\n",
    "model_xgb = XGBRegressor(colsample_bytree = 1, \n",
    "                         gamma= 0.1, \n",
    "                         max_depth= 16, \n",
    "                         min_child_weight= 6, \n",
    "                         n_estimators= 100,\n",
    "                         learning_rate=0.1)\n",
    "\n",
    "model_xgb.fit(X_train_preproc, y_train)"
   ]
  },
  {
   "cell_type": "code",
   "execution_count": 60,
   "id": "4c69e855",
   "metadata": {},
   "outputs": [],
   "source": [
    "y_pred = model_xgb.predict(X_test)"
   ]
  },
  {
   "cell_type": "code",
   "execution_count": 61,
   "id": "ad9d3b70",
   "metadata": {},
   "outputs": [
    {
     "data": {
      "text/plain": [
       "array([230887.1 , 234788.28, 228621.78, 235759.9 , 234267.36, 235310.95,\n",
       "       236629.3 , 235236.11, 230864.95, 224494.67, 237601.33, 233976.48,\n",
       "       243056.53, 241763.03, 234207.44, 226985.3 , 229146.66, 233247.33,\n",
       "       235179.58, 243717.39, 242610.05, 239961.89, 243528.17, 237202.3 ,\n",
       "       234073.83, 235519.3 , 235117.11, 242164.81, 241688.9 , 238388.47,\n",
       "       233983.56, 239766.75, 238804.16, 239539.47, 239464.31, 240100.69,\n",
       "       239756.72, 234576.22, 238031.78, 240108.97, 240593.69, 232696.55,\n",
       "       240406.69, 240045.34, 222075.39, 227870.42, 236245.88, 236207.69,\n",
       "       234513.12, 232988.28, 228293.81, 221719.16, 232965.94, 230853.28,\n",
       "       230091.38, 229691.56, 230966.03, 226875.25, 219511.34, 231142.34,\n",
       "       231204.5 , 231730.72, 231302.62, 231738.25, 224933.  , 218905.84,\n",
       "       229771.67, 229534.56, 224135.12, 227395.25, 227208.19, 221616.84,\n",
       "       213670.75, 226247.1 , 223731.39, 225354.16, 225632.89, 224851.22,\n",
       "       220203.39, 203695.02, 213240.45, 226626.84, 226788.19, 228457.38,\n",
       "       227096.53, 220999.81, 213411.53, 227116.6 , 226447.78, 226932.5 ,\n",
       "       228060.4 , 229095.44, 223473.6 , 216269.06, 222967.12, 226006.98,\n",
       "       211732.7 , 211408.08, 226767.28, 221614.12, 214926.81, 224717.06,\n",
       "       223319.7 , 224365.38, 225662.34, 224582.48, 218348.31, 208386.75,\n",
       "       222623.72, 222790.7 , 220824.3 , 222890.17, 222923.61, 217559.05,\n",
       "       211163.83, 223164.98, 222465.2 , 222775.45, 223387.17, 222583.88,\n",
       "       211430.84, 208043.97, 218690.38, 218525.9 , 219461.03, 220496.6 ,\n",
       "       221226.25, 210955.1 , 207333.84, 219284.94, 219668.6 , 219254.97,\n",
       "       214441.4 , 220460.6 , 214119.19, 207289.12, 218247.84, 218101.6 ,\n",
       "       218162.56, 218956.31, 217325.28, 211387.75, 206559.5 , 211833.5 ,\n",
       "       216266.75, 216607.16, 218744.88, 218112.19, 211067.9 , 206922.34,\n",
       "       216208.9 , 216694.72, 217160.03, 219217.53, 217202.31, 211735.94,\n",
       "       207256.88, 216928.88, 216954.22, 216653.47, 217614.25, 217491.16,\n",
       "       211596.4 , 208791.1 , 218717.66, 218311.97, 219890.28, 224796.31,\n",
       "       224537.97, 217601.38, 210474.97, 222698.47, 223140.38, 223313.4 ,\n",
       "       224004.97, 224657.28, 218811.  , 212275.97, 224761.69, 225703.4 ,\n",
       "       226058.28, 227925.88, 227150.25, 219190.97, 211867.47, 225429.78,\n",
       "       226237.88, 226685.75, 226928.9 , 227686.19, 219713.5 , 212504.5 ,\n",
       "       225622.31, 225166.25, 221322.56, 227333.4 , 227491.53, 219817.06,\n",
       "       212608.06, 226123.03, 225251.64, 225786.02, 227832.98, 228571.98,\n",
       "       221477.58, 213807.61, 224455.52, 222781.33, 223366.27, 225087.39,\n",
       "       223330.  , 216903.  , 212480.03, 225699.1 , 224640.6 , 225114.  ,\n",
       "       227599.34, 228199.66, 219744.66, 212543.81, 225369.9 , 223211.5 ,\n",
       "       223608.25, 226169.75, 225361.94, 218369.38, 211453.5 , 222834.88,\n",
       "       221125.16, 221813.9 , 224430.12, 223738.  , 218323.97, 211936.28,\n",
       "       223268.5 , 222240.6 , 222743.4 , 224592.69, 225132.38, 218313.1 ,\n",
       "       212130.44, 223462.62, 222547.28, 222327.47, 222691.03, 222746.72,\n",
       "       217505.97, 211022.5 , 223957.28, 221421.84, 221861.19, 223479.44,\n",
       "       221940.6 , 215862.94, 207345.88, 218496.9 , 217628.4 , 217909.06,\n",
       "       218043.5 , 218060.38, 211838.25, 206402.9 , 218108.6 , 217330.97,\n",
       "       217960.03, 219737.16, 219774.62, 211953.47, 206365.12, 218288.9 ,\n",
       "       217605.16, 218104.38, 219971.94, 219916.94, 212101.75, 206493.66,\n",
       "       218305.38, 217800.88, 217505.47, 219729.03, 219554.72, 211605.31,\n",
       "       206341.38, 217694.44, 216778.25, 216267.6 , 217701.16, 214600.72,\n",
       "       209001.56, 204020.28, 213639.19, 213277.95, 215787.7 , 214440.11,\n",
       "       215999.02, 212920.39, 210430.27, 219761.2 , 219579.36, 219976.11,\n",
       "       219016.23, 217723.66, 212892.88, 208412.44, 214008.88, 218334.44,\n",
       "       219692.19, 218069.  , 217205.6 , 213355.33, 208272.78, 217024.88,\n",
       "       217005.38, 217384.81, 213703.94, 218349.06, 219902.78, 218696.84,\n",
       "       221599.62, 225757.84, 227071.11, 228276.84, 229561.75, 229493.12,\n",
       "       227191.73, 229677.5 , 231071.6 , 233024.6 , 232522.28, 230928.25,\n",
       "       224924.  , 216899.27, 221685.83, 227900.67, 231612.19, 234454.75,\n",
       "       219700.73, 233290.56, 223429.66, 225946.73, 231932.6 , 237042.03,\n",
       "       223231.61, 226818.75, 229580.83, 222422.48, 238737.27, 238343.34,\n",
       "       238091.06, 236905.25, 237162.9 , 237668.5 , 235513.53, 224879.8 ,\n",
       "       228822.75, 237144.  , 234949.03, 235192.69, 236193.28, 233132.38,\n",
       "       237628.81, 235734.38, 233858.1 , 233622.9 , 235103.84],\n",
       "      dtype=float32)"
      ]
     },
     "execution_count": 61,
     "metadata": {},
     "output_type": "execute_result"
    }
   ],
   "source": [
    "y_pred"
   ]
  },
  {
   "cell_type": "code",
   "execution_count": 62,
   "id": "d3f75fe4",
   "metadata": {},
   "outputs": [
    {
     "data": {
      "text/plain": [
       "array([283815., 294157., 296424., 320426., 327553., 333186., 344509.,\n",
       "       331284., 315895., 308919., 320284., 332291., 303061., 290395.,\n",
       "       289936., 296561., 286982., 301997., 308888., 292757., 279861.,\n",
       "       274355., 272271., 266877., 282578., 299206., 297047., 277571.,\n",
       "       255817., 251802., 243462., 254005., 252750., 250564., 251257.,\n",
       "       241377., 228547., 232002., 261618., 259856., 250904., 259393.,\n",
       "       275743., 276089., 285766., 298649., 289979., 264965., 269223.,\n",
       "       258081., 237463., 227769., 243238., 232700., 233233., 235816.,\n",
       "       234181., 231916., 219691., 231551., 246308., 252541., 253797.,\n",
       "       238657., 230851., 222402., 233869., 240486., 239498., 239602.,\n",
       "       228348., 221472., 217923., 235871., 239850., 239986., 249608.,\n",
       "       265051., 250550., 244967., 245013., 238020., 230958., 224751.,\n",
       "       220834., 201198., 199342., 207275., 201684., 196458., 199192.,\n",
       "       198348., 188497., 187183., 191195., 209185., 234456., 237695.,\n",
       "       228281., 218643., 217625., 230939., 233082., 231277., 234664.,\n",
       "       239406., 236865., 222639., 226343., 222601., 219702., 211766.,\n",
       "       203404., 189833., 183478., 196966., 202892., 205076., 209328.,\n",
       "       204183., 201496., 197936., 205942., 204610., 197333., 196968.,\n",
       "       193194., 180074., 174995., 193480., 191825., 191578., 184185.,\n",
       "       191107., 188017., 185937., 192155., 195701., 195980., 193820.,\n",
       "       194702., 184476., 177278., 183708., 190970., 188279., 188310.,\n",
       "       191304., 181843., 174427., 184765., 187841., 188456., 189135.,\n",
       "       187878., 177786., 172801., 187228., 191376., 194476., 196133.,\n",
       "       196692., 186977., 180929., 200441., 204288., 206531., 207227.,\n",
       "       206732., 194271., 187143., 201945., 201997., 201140., 201702.,\n",
       "       199210., 190091., 184904., 202909., 204402., 200625., 205692.,\n",
       "       209181., 198026., 186802., 204604., 207297., 208774., 205028.,\n",
       "       203560., 195995., 190975., 207178., 202393., 193688., 203042.,\n",
       "       203889., 197227., 196107., 218452., 221203., 220986., 220689.,\n",
       "       224215., 207362., 203233., 217671., 221389., 218995., 220332.,\n",
       "       218181., 207538., 189046., 197294., 198310., 189697., 193856.,\n",
       "       200329., 192832., 185198., 196309., 200783., 205382., 208083.,\n",
       "       216424., 213609., 202787., 212312., 205587., 202926., 204937.,\n",
       "       207286., 202009., 198016., 206669., 203186., 200108., 203926.,\n",
       "       201988., 189827., 183469., 196136., 200190., 202778., 203230.,\n",
       "       201516., 191096., 186311., 200341., 200970., 197900., 199052.,\n",
       "       198409., 190683., 180678., 193966., 199001., 200091., 198791.,\n",
       "       199020., 185369., 176798., 187170., 189953., 191346., 192374.,\n",
       "       193381., 185272., 172933., 187457., 190057., 191371., 191283.,\n",
       "       192077., 180184., 175646., 182922., 186279., 190750., 191295.,\n",
       "       194530., 184697., 179549., 190460., 193587., 194981., 196406.,\n",
       "       198620., 189481., 182823., 194881., 196900., 196705., 193378.,\n",
       "       195795., 191614., 187081., 199510., 202194., 203295., 206163.,\n",
       "       206445., 202720., 188238., 188935., 203512., 214537., 229969.,\n",
       "       238739., 229840., 230063., 232697., 236347., 231720., 212996.,\n",
       "       219275., 207757., 211178., 233637., 229399., 238390., 241304.,\n",
       "       240611., 230012., 231952., 243757., 243452., 246629., 254417.,\n",
       "       259680., 262056., 269774., 291928., 305772., 301568., 292188.,\n",
       "       305131., 288467., 282151., 300417., 299330., 292962., 303355.,\n",
       "       312649., 296111., 291382., 304035., 301230., 291292., 297442.,\n",
       "       296310., 279167., 278483., 302995., 307396., 301828., 297127.,\n",
       "       273445., 241801., 243273., 269418., 264694., 244240., 233162.,\n",
       "       242401.])"
      ]
     },
     "execution_count": 62,
     "metadata": {},
     "output_type": "execute_result"
    }
   ],
   "source": [
    "y_test = y_test.to_numpy()\n",
    "y_test\n"
   ]
  },
  {
   "cell_type": "code",
   "execution_count": 63,
   "id": "10817188",
   "metadata": {},
   "outputs": [
    {
     "data": {
      "image/png": "[encoded data removed]",
      "text/plain": [
       "<Figure size 432x288 with 1 Axes>"
      ]
     },
     "metadata": {
      "needs_background": "light"
     },
     "output_type": "display_data"
    }
   ],
   "source": [
    "plt.figure()#figsize=(10,6)\n",
    "plt.plot(y_test, color='blue', label='consommation réel')\n",
    "plt.plot(y_pred , color='red', label='prédiction de consommation')\n",
    "plt.title('Prédiction de consommation')\n",
    "plt.xlabel('Date')\n",
    "plt.ylabel('Consommation')\n",
    "plt.legend()\n",
    "plt.show()"
   ]
  },
  {
   "cell_type": "code",
   "execution_count": null,
   "id": "a4fd36f9",
   "metadata": {},
   "outputs": [],
   "source": []
  }
 ],
 "metadata": {
  "kernelspec": {
   "display_name": "Python 3 (ipykernel)",
   "language": "python",
   "name": "python3"
  },
  "language_info": {
   "codemirror_mode": {
    "name": "ipython",
    "version": 3
   },
   "file_extension": ".py",
   "mimetype": "text/x-python",
   "name": "python",
   "nbconvert_exporter": "python",
   "pygments_lexer": "ipython3",
   "version": "3.8.13"
  },
  "toc": {
   "base_numbering": 1,
   "nav_menu": {},
   "number_sections": true,
   "sideBar": true,
   "skip_h1_title": false,
   "title_cell": "Table of Contents",
   "title_sidebar": "Contents",
   "toc_cell": false,
   "toc_position": {},
   "toc_section_display": true,
   "toc_window_display": false
  },
  "varInspector": {
   "cols": {
    "lenName": 16,
    "lenType": 16,
    "lenVar": 40
   },
   "kernels_config": {
    "python": {
     "delete_cmd_postfix": "",
     "delete_cmd_prefix": "del ",
     "library": "var_list.py",
     "varRefreshCmd": "print(var_dic_list())"
    },
    "r": {
     "delete_cmd_postfix": ") ",
     "delete_cmd_prefix": "rm(",
     "library": "var_list.r",
     "varRefreshCmd": "cat(var_dic_list()) "
    }
   },
   "types_to_exclude": [
    "module",
    "function",
    "builtin_function_or_method",
    "instance",
    "_Feature"
   ],
   "window_display": false
  }
 },
 "nbformat": 4,
 "nbformat_minor": 5
}
